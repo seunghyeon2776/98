{
  "nbformat": 4,
  "nbformat_minor": 0,
  "metadata": {
    "kernelspec": {
      "display_name": "Python 3",
      "language": "python",
      "name": "python3"
    },
    "language_info": {
      "codemirror_mode": {
        "name": "ipython",
        "version": 3
      },
      "file_extension": ".py",
      "mimetype": "text/x-python",
      "name": "python",
      "nbconvert_exporter": "python",
      "pygments_lexer": "ipython3",
      "version": "3.6.5"
    },
    "colab": {
      "name": "20200925_new",
      "provenance": [],
      "collapsed_sections": [],
      "toc_visible": true,
      "include_colab_link": true
    },
    "accelerator": "GPU"
  },
  "cells": [
    {
      "cell_type": "markdown",
      "metadata": {
        "id": "view-in-github",
        "colab_type": "text"
      },
      "source": [
        "<a href=\"https://colab.research.google.com/github/seunghyeon2776/98/blob/master/20200925_new.ipynb\" target=\"_parent\"><img src=\"https://colab.research.google.com/assets/colab-badge.svg\" alt=\"Open In Colab\"/></a>"
      ]
    },
    {
      "cell_type": "markdown",
      "metadata": {
        "id": "kBpq41JKVj6M",
        "colab_type": "text"
      },
      "source": [
        "# **MULTI_IMAGE_CLASSIFICATION**\n",
        "\n",
        "4가지의 이미지 분류\n",
        "\n",
        "기본적인 방법은 단일 이미지 분류와 같다. 대신, 다중 이미지 분류이기 때문에 카테고리의 변화가 있다.\n"
      ]
    },
    {
      "cell_type": "code",
      "metadata": {
        "id": "VlpQzeS_9yzx",
        "colab_type": "code",
        "colab": {
          "base_uri": "https://localhost:8080/",
          "height": 1000
        },
        "outputId": "c9dee7d3-22c9-4be7-c611-e6b83827ceb0"
      },
      "source": [
        "!pip uninstall keras\n",
        "!pip install Keras==2.2.4\n",
        "\n",
        "!pip uninstall tensorflow\n",
        "!pip install tensorflow==1.13.1"
      ],
      "execution_count": 1,
      "outputs": [
        {
          "output_type": "stream",
          "text": [
            "Uninstalling Keras-2.4.3:\n",
            "  Would remove:\n",
            "    /usr/local/lib/python3.6/dist-packages/Keras-2.4.3.dist-info/*\n",
            "    /usr/local/lib/python3.6/dist-packages/docs/*\n",
            "    /usr/local/lib/python3.6/dist-packages/keras/*\n",
            "  Would not remove (might be manually added):\n",
            "    /usr/local/lib/python3.6/dist-packages/docs/md_autogen.py\n",
            "    /usr/local/lib/python3.6/dist-packages/docs/update_docs.py\n",
            "Proceed (y/n)? y\n",
            "  Successfully uninstalled Keras-2.4.3\n",
            "Collecting Keras==2.2.4\n",
            "\u001b[?25l  Downloading https://files.pythonhosted.org/packages/5e/10/aa32dad071ce52b5502266b5c659451cfd6ffcbf14e6c8c4f16c0ff5aaab/Keras-2.2.4-py2.py3-none-any.whl (312kB)\n",
            "\u001b[K     |████████████████████████████████| 317kB 9.4MB/s \n",
            "\u001b[?25hCollecting keras-applications>=1.0.6\n",
            "\u001b[?25l  Downloading https://files.pythonhosted.org/packages/71/e3/19762fdfc62877ae9102edf6342d71b28fbfd9dea3d2f96a882ce099b03f/Keras_Applications-1.0.8-py3-none-any.whl (50kB)\n",
            "\u001b[K     |████████████████████████████████| 51kB 7.8MB/s \n",
            "\u001b[?25hRequirement already satisfied: keras-preprocessing>=1.0.5 in /usr/local/lib/python3.6/dist-packages (from Keras==2.2.4) (1.1.2)\n",
            "Requirement already satisfied: pyyaml in /usr/local/lib/python3.6/dist-packages (from Keras==2.2.4) (3.13)\n",
            "Requirement already satisfied: numpy>=1.9.1 in /usr/local/lib/python3.6/dist-packages (from Keras==2.2.4) (1.18.5)\n",
            "Requirement already satisfied: six>=1.9.0 in /usr/local/lib/python3.6/dist-packages (from Keras==2.2.4) (1.15.0)\n",
            "Requirement already satisfied: h5py in /usr/local/lib/python3.6/dist-packages (from Keras==2.2.4) (2.10.0)\n",
            "Requirement already satisfied: scipy>=0.14 in /usr/local/lib/python3.6/dist-packages (from Keras==2.2.4) (1.4.1)\n",
            "Installing collected packages: keras-applications, Keras\n",
            "Successfully installed Keras-2.2.4 keras-applications-1.0.8\n",
            "Uninstalling tensorflow-2.3.0:\n",
            "  Would remove:\n",
            "    /usr/local/bin/estimator_ckpt_converter\n",
            "    /usr/local/bin/saved_model_cli\n",
            "    /usr/local/bin/tensorboard\n",
            "    /usr/local/bin/tf_upgrade_v2\n",
            "    /usr/local/bin/tflite_convert\n",
            "    /usr/local/bin/toco\n",
            "    /usr/local/bin/toco_from_protos\n",
            "    /usr/local/lib/python3.6/dist-packages/tensorflow-2.3.0.dist-info/*\n",
            "    /usr/local/lib/python3.6/dist-packages/tensorflow/*\n",
            "Proceed (y/n)? y\n",
            "  Successfully uninstalled tensorflow-2.3.0\n",
            "Collecting tensorflow==1.13.1\n",
            "\u001b[?25l  Downloading https://files.pythonhosted.org/packages/77/63/a9fa76de8dffe7455304c4ed635be4aa9c0bacef6e0633d87d5f54530c5c/tensorflow-1.13.1-cp36-cp36m-manylinux1_x86_64.whl (92.5MB)\n",
            "\u001b[K     |████████████████████████████████| 92.5MB 92kB/s \n",
            "\u001b[?25hCollecting tensorflow-estimator<1.14.0rc0,>=1.13.0\n",
            "\u001b[?25l  Downloading https://files.pythonhosted.org/packages/bb/48/13f49fc3fa0fdf916aa1419013bb8f2ad09674c275b4046d5ee669a46873/tensorflow_estimator-1.13.0-py2.py3-none-any.whl (367kB)\n",
            "\u001b[K     |████████████████████████████████| 368kB 56.0MB/s \n",
            "\u001b[?25hRequirement already satisfied: termcolor>=1.1.0 in /usr/local/lib/python3.6/dist-packages (from tensorflow==1.13.1) (1.1.0)\n",
            "Requirement already satisfied: protobuf>=3.6.1 in /usr/local/lib/python3.6/dist-packages (from tensorflow==1.13.1) (3.12.4)\n",
            "Collecting tensorboard<1.14.0,>=1.13.0\n",
            "\u001b[?25l  Downloading https://files.pythonhosted.org/packages/0f/39/bdd75b08a6fba41f098b6cb091b9e8c7a80e1b4d679a581a0ccd17b10373/tensorboard-1.13.1-py3-none-any.whl (3.2MB)\n",
            "\u001b[K     |████████████████████████████████| 3.2MB 50.7MB/s \n",
            "\u001b[?25hRequirement already satisfied: six>=1.10.0 in /usr/local/lib/python3.6/dist-packages (from tensorflow==1.13.1) (1.15.0)\n",
            "Requirement already satisfied: keras-preprocessing>=1.0.5 in /usr/local/lib/python3.6/dist-packages (from tensorflow==1.13.1) (1.1.2)\n",
            "Requirement already satisfied: keras-applications>=1.0.6 in /usr/local/lib/python3.6/dist-packages (from tensorflow==1.13.1) (1.0.8)\n",
            "Requirement already satisfied: grpcio>=1.8.6 in /usr/local/lib/python3.6/dist-packages (from tensorflow==1.13.1) (1.32.0)\n",
            "Requirement already satisfied: astor>=0.6.0 in /usr/local/lib/python3.6/dist-packages (from tensorflow==1.13.1) (0.8.1)\n",
            "Requirement already satisfied: wheel>=0.26 in /usr/local/lib/python3.6/dist-packages (from tensorflow==1.13.1) (0.35.1)\n",
            "Requirement already satisfied: gast>=0.2.0 in /usr/local/lib/python3.6/dist-packages (from tensorflow==1.13.1) (0.3.3)\n",
            "Requirement already satisfied: numpy>=1.13.3 in /usr/local/lib/python3.6/dist-packages (from tensorflow==1.13.1) (1.18.5)\n",
            "Requirement already satisfied: absl-py>=0.1.6 in /usr/local/lib/python3.6/dist-packages (from tensorflow==1.13.1) (0.10.0)\n",
            "Collecting mock>=2.0.0\n",
            "  Downloading https://files.pythonhosted.org/packages/cd/74/d72daf8dff5b6566db857cfd088907bb0355f5dd2914c4b3ef065c790735/mock-4.0.2-py3-none-any.whl\n",
            "Requirement already satisfied: setuptools in /usr/local/lib/python3.6/dist-packages (from protobuf>=3.6.1->tensorflow==1.13.1) (50.3.0)\n",
            "Requirement already satisfied: werkzeug>=0.11.15 in /usr/local/lib/python3.6/dist-packages (from tensorboard<1.14.0,>=1.13.0->tensorflow==1.13.1) (1.0.1)\n",
            "Requirement already satisfied: markdown>=2.6.8 in /usr/local/lib/python3.6/dist-packages (from tensorboard<1.14.0,>=1.13.0->tensorflow==1.13.1) (3.2.2)\n",
            "Requirement already satisfied: h5py in /usr/local/lib/python3.6/dist-packages (from keras-applications>=1.0.6->tensorflow==1.13.1) (2.10.0)\n",
            "Requirement already satisfied: importlib-metadata; python_version < \"3.8\" in /usr/local/lib/python3.6/dist-packages (from markdown>=2.6.8->tensorboard<1.14.0,>=1.13.0->tensorflow==1.13.1) (1.7.0)\n",
            "Requirement already satisfied: zipp>=0.5 in /usr/local/lib/python3.6/dist-packages (from importlib-metadata; python_version < \"3.8\"->markdown>=2.6.8->tensorboard<1.14.0,>=1.13.0->tensorflow==1.13.1) (3.1.0)\n",
            "Installing collected packages: mock, tensorflow-estimator, tensorboard, tensorflow\n",
            "  Found existing installation: tensorflow-estimator 2.3.0\n",
            "    Uninstalling tensorflow-estimator-2.3.0:\n",
            "      Successfully uninstalled tensorflow-estimator-2.3.0\n",
            "  Found existing installation: tensorboard 2.3.0\n",
            "    Uninstalling tensorboard-2.3.0:\n",
            "      Successfully uninstalled tensorboard-2.3.0\n",
            "Successfully installed mock-4.0.2 tensorboard-1.13.1 tensorflow-1.13.1 tensorflow-estimator-1.13.0\n"
          ],
          "name": "stdout"
        }
      ]
    },
    {
      "cell_type": "code",
      "metadata": {
        "id": "Z7raZpBpWzvc",
        "colab_type": "code",
        "colab": {
          "base_uri": "https://localhost:8080/",
          "height": 34
        },
        "outputId": "5495dea4-b223-4210-c98c-86295dbb6a84"
      },
      "source": [
        "from google.colab import drive\n",
        "\n",
        "drive.mount('/content/drive')"
      ],
      "execution_count": 1,
      "outputs": [
        {
          "output_type": "stream",
          "text": [
            "Mounted at /content/drive\n"
          ],
          "name": "stdout"
        }
      ]
    },
    {
      "cell_type": "markdown",
      "metadata": {
        "id": "Esqlk-sO4H93",
        "colab_type": "text"
      },
      "source": [
        "### 폴더내 이미지 개수 확인하기 -validation\n",
        "\n"
      ]
    },
    {
      "cell_type": "code",
      "metadata": {
        "id": "e5QppKAj4L7V",
        "colab_type": "code",
        "colab": {
          "base_uri": "https://localhost:8080/",
          "height": 34
        },
        "outputId": "2fbe4018-4ff7-4077-ddaf-464f7349403e"
      },
      "source": [
        "import os\n",
        "\n",
        "path, dirs, files = next(os.walk(\"/content/drive/My Drive/CTRC/test/1. Cancer\"))\n",
        "file_count = len(files)\n",
        "\n",
        "file_count"
      ],
      "execution_count": 2,
      "outputs": [
        {
          "output_type": "execute_result",
          "data": {
            "text/plain": [
              "412"
            ]
          },
          "metadata": {
            "tags": []
          },
          "execution_count": 2
        }
      ]
    },
    {
      "cell_type": "code",
      "metadata": {
        "id": "IdQlCbkh4WNB",
        "colab_type": "code",
        "colab": {
          "base_uri": "https://localhost:8080/",
          "height": 34
        },
        "outputId": "7f8a3b70-980f-47e4-f271-1ded9c37233b"
      },
      "source": [
        "import os\n",
        "\n",
        "path, dirs, files = next(os.walk(\"/content/drive/My Drive/CTRC/test/2. Precancer\"))\n",
        "file_count = len(files)\n",
        "\n",
        "file_count"
      ],
      "execution_count": 3,
      "outputs": [
        {
          "output_type": "execute_result",
          "data": {
            "text/plain": [
              "150"
            ]
          },
          "metadata": {
            "tags": []
          },
          "execution_count": 3
        }
      ]
    },
    {
      "cell_type": "code",
      "metadata": {
        "id": "zbfoUq-I4WKQ",
        "colab_type": "code",
        "colab": {
          "base_uri": "https://localhost:8080/",
          "height": 34
        },
        "outputId": "2473e27e-3de5-4623-a5f3-3ebf304e40fe"
      },
      "source": [
        "import os\n",
        "\n",
        "path, dirs, files = next(os.walk(\"/content/drive/My Drive/CTRC/test/3. Extra\"))\n",
        "file_count = len(files)\n",
        "\n",
        "file_count"
      ],
      "execution_count": 4,
      "outputs": [
        {
          "output_type": "execute_result",
          "data": {
            "text/plain": [
              "262"
            ]
          },
          "metadata": {
            "tags": []
          },
          "execution_count": 4
        }
      ]
    },
    {
      "cell_type": "code",
      "metadata": {
        "id": "-wW2AHTN4n7F",
        "colab_type": "code",
        "colab": {
          "base_uri": "https://localhost:8080/",
          "height": 34
        },
        "outputId": "17c2b492-0a76-4854-bf6a-1aefa9bda48f"
      },
      "source": [
        "import os\n",
        "\n",
        "path, dirs, files = next(os.walk(\"/content/drive/My Drive/CTRC/test/4. Normal\"))\n",
        "file_count = len(files)\n",
        "\n",
        "file_count"
      ],
      "execution_count": 5,
      "outputs": [
        {
          "output_type": "execute_result",
          "data": {
            "text/plain": [
              "1137"
            ]
          },
          "metadata": {
            "tags": []
          },
          "execution_count": 5
        }
      ]
    },
    {
      "cell_type": "markdown",
      "metadata": {
        "id": "lXf8Dpe1KeHg",
        "colab_type": "text"
      },
      "source": [
        "### 데이터 부풀리기"
      ]
    },
    {
      "cell_type": "markdown",
      "metadata": {
        "id": "MXjtASprMCzx",
        "colab_type": "text"
      },
      "source": [
        "\n",
        "\n",
        "*   rotation_range = 90: \n",
        "지정된 각도 범위내에서 임의로 원본이미지를 회전시킵니다. 단위는 도이며, 정수형입니다. 예를 들어 90이라면 0도에서 90도 사이에 임의의 각도로 회전시킵니다. \n",
        "*   width_shift_range = 0.1: \n",
        "지정된 수평방향 이동 범위내에서 임의로 원본이미지를 이동시킵니다. 수치는 전체 넓이의 비율(실수)로 나타냅니다. 예를 들어 0.1이고 전체 넓이가 100이면, 10픽셀 내외로 좌우 이동시킵니다\n",
        "\n",
        "*   height_shift_range = 0.1: \n",
        "지정된 수직방향 이동 범위내에서 임의로 원본이미지를 이동시킵니다. 수치는 전체 높이의 비율(실수)로 나타냅니다. 예를 들어 0.1이고 전체 높이가 100이면, 10픽셀 내외로 상하 이동시킵니다.\n",
        "*   shear_range = 0.5:\n",
        "밀림 강도 범위내에서 임의로 원본이미지를 변형시킵니다. 수치는 시계반대방향으로 밀림 강도를 라디안으로 나타냅니다. 예를 들어 0.5이라면, 0.5 라이안내외로 시계반대방향으로 변형시킵니다.\n",
        "\n",
        "*   zoom_range = 0.3:\n",
        "지정된 확대/축소 범위내에서 임의로 원본이미지를 확대/축소합니다. “1-수치”부터 “1+수치”사이 범위로 확대/축소를 합니다. 예를 들어 0.3이라면, 0.7배에서 1.3배 크기 변화를 시킵니다.\n",
        "*   horizontal_flip = True:\n",
        "수평방향으로 뒤집기를 합니다.\n",
        "*   vertical_flip = True:\n",
        "수직방향으로 뒤집기를 합니다.\n",
        "\n",
        "\n",
        "\n",
        "\n"
      ]
    },
    {
      "cell_type": "code",
      "metadata": {
        "id": "nC2ngZOO4Q3a",
        "colab_type": "code",
        "colab": {
          "base_uri": "https://localhost:8080/",
          "height": 241
        },
        "outputId": "0490a17e-1fbc-4f65-c435-bce2f482cb0d"
      },
      "source": [
        "import os\n",
        "from tensorflow.keras.preprocessing.image import ImageDataGenerator,array_to_img,img_to_array, load_img\n",
        "import numpy as np\n",
        "\n",
        "np.random.seed(3)\n",
        "\n",
        "imageGenerator = ImageDataGenerator(rescale=1./255,\n",
        "                                    rotation_range=20,\n",
        "                                    width_shift_range=0.1,\n",
        "                                    height_shift_range=0.1,\n",
        "                                    brightness_range=[.2,.2],\n",
        "                                    horizontal_flip=True)\n",
        "                                    #validation_split=.2\n",
        "\n",
        "\n",
        "\n",
        "\n"
      ],
      "execution_count": 6,
      "outputs": [
        {
          "output_type": "stream",
          "text": [
            "/usr/local/lib/python3.6/dist-packages/tensorflow/python/framework/dtypes.py:526: FutureWarning: Passing (type, 1) or '1type' as a synonym of type is deprecated; in a future version of numpy, it will be understood as (type, (1,)) / '(1,)type'.\n",
            "  _np_qint8 = np.dtype([(\"qint8\", np.int8, 1)])\n",
            "/usr/local/lib/python3.6/dist-packages/tensorflow/python/framework/dtypes.py:527: FutureWarning: Passing (type, 1) or '1type' as a synonym of type is deprecated; in a future version of numpy, it will be understood as (type, (1,)) / '(1,)type'.\n",
            "  _np_quint8 = np.dtype([(\"quint8\", np.uint8, 1)])\n",
            "/usr/local/lib/python3.6/dist-packages/tensorflow/python/framework/dtypes.py:528: FutureWarning: Passing (type, 1) or '1type' as a synonym of type is deprecated; in a future version of numpy, it will be understood as (type, (1,)) / '(1,)type'.\n",
            "  _np_qint16 = np.dtype([(\"qint16\", np.int16, 1)])\n",
            "/usr/local/lib/python3.6/dist-packages/tensorflow/python/framework/dtypes.py:529: FutureWarning: Passing (type, 1) or '1type' as a synonym of type is deprecated; in a future version of numpy, it will be understood as (type, (1,)) / '(1,)type'.\n",
            "  _np_quint16 = np.dtype([(\"quint16\", np.uint16, 1)])\n",
            "/usr/local/lib/python3.6/dist-packages/tensorflow/python/framework/dtypes.py:530: FutureWarning: Passing (type, 1) or '1type' as a synonym of type is deprecated; in a future version of numpy, it will be understood as (type, (1,)) / '(1,)type'.\n",
            "  _np_qint32 = np.dtype([(\"qint32\", np.int32, 1)])\n",
            "/usr/local/lib/python3.6/dist-packages/tensorflow/python/framework/dtypes.py:535: FutureWarning: Passing (type, 1) or '1type' as a synonym of type is deprecated; in a future version of numpy, it will be understood as (type, (1,)) / '(1,)type'.\n",
            "  np_resource = np.dtype([(\"resource\", np.ubyte, 1)])\n"
          ],
          "name": "stderr"
        }
      ]
    },
    {
      "cell_type": "code",
      "metadata": {
        "id": "HUXM1JyVFX9D",
        "colab_type": "code",
        "colab": {
          "base_uri": "https://localhost:8080/",
          "height": 58
        },
        "outputId": "1685cc0e-dc51-4244-a22d-2e28955afb16"
      },
      "source": [
        "#데이터가 충분하면 나누기\n",
        "\n",
        "'''trainGen = imageGenerator.flow_from_directory('/content/drive/My Drive/CTRC/train',\n",
        "                                              target_size=(64,64),\n",
        "                                              subset='training')\n",
        "\n",
        "'''                                             \n",
        "\n",
        "'''validationGen = imageGenerator.flow_from_directory('/content/drive/My Drive/CTRC/train',\n",
        "                                                  target_size=(64,64),\n",
        "                                                  subset='validation')'''"
      ],
      "execution_count": null,
      "outputs": [
        {
          "output_type": "stream",
          "text": [
            "Found 0 images belonging to 3 classes.\n"
          ],
          "name": "stdout"
        },
        {
          "output_type": "execute_result",
          "data": {
            "application/vnd.google.colaboratory.intrinsic+json": {
              "type": "string"
            },
            "text/plain": [
              "\"validationGen = imageGenerator.flow_from_directory('/content/drive/My Drive/CTRC/train',\\n                                                  target_size=(64,64),\\n                                                  subset='validation')\""
            ]
          },
          "metadata": {
            "tags": []
          },
          "execution_count": 8
        }
      ]
    },
    {
      "cell_type": "markdown",
      "metadata": {
        "id": "lPGhbtSmDVDT",
        "colab_type": "text"
      },
      "source": [
        "#### 1. Cancer"
      ]
    },
    {
      "cell_type": "code",
      "metadata": {
        "id": "nqK1bkW6-FlV",
        "colab_type": "code",
        "colab": {
          "base_uri": "https://localhost:8080/",
          "height": 54
        },
        "outputId": "dad645c2-646d-4e2b-a618-6626f3adae49"
      },
      "source": [
        "import os\n",
        "import numpy as np\n",
        "from PIL import Image\n",
        "#path = 이미지resize할 file directory\n",
        "path1 = \"/content/drive/My Drive/CTRC/test/1. Cancer\"\n",
        "\n",
        "file_list = os.listdir(path1)\n",
        "\n",
        "print (\"file_list: {}\".format(file_list))"
      ],
      "execution_count": 7,
      "outputs": [
        {
          "output_type": "stream",
          "text": [
            "file_list: ['can_1.jpg', 'can_2.jpg', 'can_3.jpg', 'can_4.jpg', 'can_5.jpg', 'can_6.jpg', 'can_8.jpg', 'can_9.jpg', 'can_10.jpg', 'can_11.jpg', 'can_12.jpg', 'can_13.jpg', 'can_14.jpg', 'can_15.jpg', 'can_15_1.jpg', 'can_16.jpg', 'can_17.jpg', 'can_17_1.jpg', 'can_18.jpg', 'can_19.jpg', 'can_20.jpg', 'can_21.jpg', 'can_22.jpg', 'can_22_1.jpg', 'can_23.jpg', 'can_24.jpg', 'can_25.jpg', 'can_26.jpg', 'can_27.jpg', 'can_28.jpg', 'can_30.jpg', 'can_29.jpg', 'can_31.jpg', 'can_32.jpg', 'can_32_1.jpg', 'can_33.jpg', 'can_34.jpg', 'can_35.jpg', 'can_36.jpg', 'can_37.jpg', 'can_37_1.jpg', 'can_38.jpg', 'can_39.jpg', 'can_40.jpg', 'can_40_1.jpg', 'can_41.jpg', 'can_42.jpg', 'can_43.jpg', 'can_44.jpg', 'can_51.jpg', 'can_52.jpg', 'can_53.jpg', 'can_53_1.jpg', 'can_53_2.jpg', 'can_55.jpg', 'can_54.jpg', 'can_57.jpg', 'can_56.jpg', 'can_58.jpg', 'can_59.jpg', 'can_59_1.jpg', 'can_59_2.jpg', 'can_63.jpg', 'can_60.jpg', 'can_60_1.jpg', 'can_62.jpg', 'can_61.jpg', 'can_61_1.jpg', 'can_45.jpg', 'can_46.jpg', 'can_47.jpg', 'can_47_1.jpg', 'can_48.jpg', 'can_49.jpg', 'can_50.jpg', 'can_64.jpg', 'can_65.jpg', 'can_66.jpg', 'can_67.jpg', 'can_67_1.jpg', 'can_67_2.jpg', 'can_68.jpg', 'can_69.jpg', 'can_70.jpg', 'can_71.jpg', 'can_72.jpg', 'can_73.jpg', 'can_74.jpg', 'can_75.jpg', 'can_76.jpg', 'can_77.jpg', 'can_78.jpg', 'can_79.jpg', 'can_80.jpg', 'can_82.jpg', 'can_81.jpg', 'can_83.jpg', 'can_84.jpg', 'can_86.jpg', 'can_85.jpg', 'can_87.jpg', 'can_88.jpg', 'can_89.jpg', 'can_90.jpg', 'can_91.jpg', 'can_92.jpg', 'can_93.jpg', 'can_94.jpg', 'can_95.jpg', 'can_96.jpg', 'can_97.jpg', 'can_97_1.jpg', 'can_98.jpg', 'can_99.jpg', 'can_100.jpg', 'can_101.jpg', 'can_102.jpg', 'can_103.jpg', 'can_104.jpg', 'can_105.jpg', 'can_106.jpg', 'can_107.jpg', 'can_108.jpg', 'can_109.jpg', 'can_110.jpg', 'can_111.jpg', 'can_112.jpg', 'can_113.jpg', 'can_114.jpg', 'can_115.jpg', 'can_116.jpg', 'can_117.jpg', 'can_118.jpg', 'can_120.jpg', 'can_119.jpg', 'can_121.jpg', 'can_122.jpg', 'can_123.jpg', 'can_124.jpg', 'can_125.jpg', 'can_127.jpg', 'can_128.jpg', 'can_129.jpg', 'can_130.jpg', 'can_131.jpg', 'can_132.jpg', 'can_133.jpg', 'can_134.jpg', 'can_135.jpg', 'can_136.jpg', 'can_137.jpg', 'can_138.jpg', 'can_139.jpg', 'can_140.jpg', 'can_141.jpg', 'can_142.jpg', 'can_143.jpg', 'can_144.jpg', 'can_145.jpg', 'can_146.jpg', 'can_147.jpg', 'can_148.jpg', 'can_149.jpg', 'can_150.jpg', 'can_151.jpg', 'can_152.jpg', 'can_153.jpg', 'can_154.jpg', 'can_155.jpg', 'can_156.jpg', 'can_157.jpg', 'can_158.jpg', 'can_159.jpg', 'can_160.jpg', 'can_161.jpg', 'can_162.jpg', 'can_163.jpg', 'can_164.jpg', 'can_165.jpg', 'can_166.jpg', 'can_167.jpg', 'can_168.jpg', 'can_169.jpg', 'can_170.jpg', 'can_171.jpg', 'can_172.jpg', 'can_173.jpg', 'can_174.jpg', 'can_175.jpg', 'can_176.jpg', 'can_177.jpg', 'can_178.jpg', 'can_179.jpg', 'can_180.jpg', 'can_181.jpg', 'can_182.jpg', 'can_183.jpg', 'can_184.jpg', 'can_185.jpg', 'can_186.jpg', 'can_187.jpg', 'can_188.jpg', 'can_189.jpg', 'can_190.jpg', 'can_191.jpg', 'can_192.jpg', 'can_193.jpg', 'can_194.jpg', 'can_195.jpg', 'can_196.jpg', 'can_197.jpg', 'can_198.jpg', 'can_199.jpg', 'can_200.jpg', 'can_201.jpg', 'can_202.jpg', 'can_203.jpg', 'can_204.jpg', 'can_205.jpg', 'can_206.jpg', 'can_207.jpg', 'can_208.jpg', 'can_209.jpg', 'can_210.jpg', 'can_211.jpg', 'can_212.jpg', 'can_213.jpg', 'can_214.jpg', 'can_215.jpg', 'can_216.jpg', 'can_217.jpg', 'can_218.jpg', 'can_219.jpg', 'can_220.jpg', 'can_221.jpg', 'can_222.jpg', 'can_223.jpg', 'can_224.jpg', 'can_225.jpg', 'can_226.jpg', 'can_227.jpg', 'can_228.jpg', 'can_229.jpg', 'can_230.jpg', 'can_231.jpg', 'can_232.jpg', 'can_233.jpg', 'can_234.jpg', 'can_235.jpg', 'can_236.jpg', 'can_237.jpg', 'can_238.jpg', 'can_239.jpg', 'can_240.jpg', 'can_241.jpg', 'can_242.jpg', 'can_243.jpg', 'can_244.jpg', 'can_245.jpg', 'can_246.jpg', 'can_247.jpg', 'can_248.jpg', 'can_249.jpg', 'can_250.jpg', 'can_251.jpg', 'can_252.jpg', 'can_253.jpg', 'can_254.jpg', 'can_255.jpg', 'can_256.jpg', 'can_257.jpg', 'can_258.jpg', 'can_259.jpg', 'can_260.jpg', 'can_261.jpg', 'can_262.jpg', 'can_263.jpg', 'can_264.jpg', 'can_265.jpg', 'can_266.jpg', 'can_267.jpg', 'can_269.jpg', 'can_268.jpg', 'can_270.jpg', 'can_271.jpg', 'can_272.jpg', 'can_273.jpg', 'can_274.jpg', 'can_275.jpg', 'can_276.jpg', 'can_277.jpg', 'can_278.jpg', 'can_279.jpg', 'can_280.jpg', 'can_281.jpg', 'can_282.jpg', 'can_283.jpg', 'can_284.jpg', 'can_285.jpg', 'can_286.jpg', 'can_287.jpg', 'can_288.jpg', 'can_289.jpg', 'can_290.jpg', 'can_291.jpg', 'can_292.jpg', 'can_293.jpg', 'can_294.jpg', 'can_295.jpg', 'can_296.jpg', 'can_297.jpg', 'can_298.jpg', 'can_299.jpg', 'can_300.jpg', 'can_301.jpg', 'can_302.jpg', 'can_303.jpg', 'can_304.jpg', 'can_305.jpg', 'can_306.jpg', 'can_308.jpg', 'can_309.jpg', 'can_310.jpg', 'can_311.jpg', 'can_312.jpg', 'can_313.jpg', 'can_314.jpg', 'can_315.jpg', 'can_316.jpg', 'can_317.jpg', 'can_318.jpg', 'can_319.jpg', 'can_320.jpg', 'can_321.jpg', 'can_322.jpg', 'can_323.jpg', 'can_324.jpg', 'can_325.jpg', 'can_327.jpg', 'can_328.jpg', 'can_329.jpg', 'can_330.jpg', 'can_331.jpg', 'can_332.jpg', 'can_333.jpg', 'can_334.jpg', 'can_335.jpg', 'can_336.jpg', 'can_337.jpg', 'can_338.jpg', 'can_339.jpg', 'can_307.jpg', 'can_340.jpg', 'can_341.jpg', 'can_342.jpg', 'can_343.jpg', 'can_344.jpg', 'can_345.jpg', 'can_346.jpg', 'can_347.jpg', 'can_348.jpg', 'can_326.jpg', 'can_349.jpg', 'can_350.jpg', 'can_351.jpg', 'can_352.jpg', 'can_353.jpg', 'can_354.jpg', 'can_7.jpg', 'can_355.jpg', 'can_356.jpg', 'can_358.jpg', 'can_359.jpg', 'can_360.jpg', 'can_361.jpg', 'can_362.jpg', 'can_363.jpg', 'can_364.jpg', 'can_365.jpg', 'can_366.jpg', 'can_367_1.jpg', 'can_367_2.jpg', 'can_368.jpg', 'can_369_1.jpg', 'can_369_2.jpg', 'can_370.jpg', 'can_371.jpg', 'can_372.jpg', 'can_373.jpg', 'can_374.jpg', 'can_375.jpg', 'can_376.jpg', 'can_377.jpg', 'can_378.jpg', 'can_379.jpg', 'can_380_1.jpg', 'can_380_2.jpg', 'can_381.jpg', 'can_382.jpg', 'can_383.jpg', 'can_384.jpg', 'can_385.jpg', 'can_386.jpg', 'can_387.jpg', 'can_389_1.jpg', 'can_389_2.jpg', 'can_390.jpg', 'can_391.jpg', 'can_357.jpg', 'can_388.jpg', 'can_392.jpg', 'can_393.jpg']\n"
          ],
          "name": "stdout"
        }
      ]
    },
    {
      "cell_type": "code",
      "metadata": {
        "id": "mjt2R1Oo-W5v",
        "colab_type": "code",
        "colab": {
          "base_uri": "https://localhost:8080/",
          "height": 51
        },
        "outputId": "8c489605-3b18-484e-d0f8-153f8a5c66aa"
      },
      "source": [
        "n=len(file_list)\n",
        "print(\"n=%d\"%(n))\n",
        "print(file_list[0])"
      ],
      "execution_count": 8,
      "outputs": [
        {
          "output_type": "stream",
          "text": [
            "n=412\n",
            "can_1.jpg\n"
          ],
          "name": "stdout"
        }
      ]
    },
    {
      "cell_type": "code",
      "metadata": {
        "id": "djuHu0ik-dXD",
        "colab_type": "code",
        "colab": {
          "base_uri": "https://localhost:8080/",
          "height": 426
        },
        "outputId": "0fba54f7-bc03-45c1-8518-df25362ab77b"
      },
      "source": [
        "np.random.seed(5)\n",
        "from keras.preprocessing.image import ImageDataGenerator, array_to_img, img_to_array, load_img\n",
        "\n",
        "\n",
        "#데이터가 충분하면 나누기\n",
        "trainGen = imageGenerator.flow_from_directory('/content/drive/My Drive/CTRC/train',\n",
        "                                              target_size=(64,64),\n",
        "                                              subset='training')\n",
        "\n",
        "validationGen = imageGenerator.flow_from_directory('/content/drive/My Drive/CTRC/test',\n",
        "                                                  target_size=(64,64),\n",
        "                                                  subset='validation')\n",
        "\n",
        "\n",
        "\n",
        "for j in range(n):\n",
        "    \n",
        "    img = load_img('/content/drive/My Drive/CTRC/test/1. Cancer/{}'.format(file_list[j]))\n",
        "    x = img_to_array(img)\n",
        "    x = x.reshape((1,) + x.shape)\n",
        "\n",
        "    i = 0\n",
        "\n",
        "    for batch in imageGenerator.flow(x, \n",
        "                                     batch_size=1,\n",
        "                                     save_to_dir='/content/drive/My Drive/CTRC/train/1. Cancer', \n",
        "                                     save_prefix='{}'.format(file_list[j]),\n",
        "                                     save_format='jpg'):\n",
        "\n",
        "        i += 1\n",
        "\n",
        "        if i > 13: \n",
        "\n",
        "            break\n",
        "\n",
        "\n",
        "\n",
        "\n",
        "'''\n",
        "  for batch in imageGenerator.flow(x, batch_size=1,\n",
        "                              save_to_dir=saveDir,\n",
        "                              save_format='jpg'):\n",
        "        i += 1'''"
      ],
      "execution_count": 9,
      "outputs": [
        {
          "output_type": "stream",
          "text": [
            "Using TensorFlow backend.\n"
          ],
          "name": "stderr"
        },
        {
          "output_type": "stream",
          "text": [
            "Found 16647 images belonging to 4 classes.\n",
            "Found 0 images belonging to 4 classes.\n"
          ],
          "name": "stdout"
        },
        {
          "output_type": "error",
          "ename": "KeyboardInterrupt",
          "evalue": "ignored",
          "traceback": [
            "\u001b[0;31m---------------------------------------------------------------------------\u001b[0m",
            "\u001b[0;31mKeyboardInterrupt\u001b[0m                         Traceback (most recent call last)",
            "\u001b[0;32m<ipython-input-9-93ed6c6d712e>\u001b[0m in \u001b[0;36m<module>\u001b[0;34m()\u001b[0m\n\u001b[1;32m     26\u001b[0m                                      \u001b[0msave_to_dir\u001b[0m\u001b[0;34m=\u001b[0m\u001b[0;34m'/content/drive/My Drive/CTRC/train/1. Cancer'\u001b[0m\u001b[0;34m,\u001b[0m\u001b[0;34m\u001b[0m\u001b[0;34m\u001b[0m\u001b[0m\n\u001b[1;32m     27\u001b[0m                                      \u001b[0msave_prefix\u001b[0m\u001b[0;34m=\u001b[0m\u001b[0;34m'{}'\u001b[0m\u001b[0;34m.\u001b[0m\u001b[0mformat\u001b[0m\u001b[0;34m(\u001b[0m\u001b[0mfile_list\u001b[0m\u001b[0;34m[\u001b[0m\u001b[0mj\u001b[0m\u001b[0;34m]\u001b[0m\u001b[0;34m)\u001b[0m\u001b[0;34m,\u001b[0m\u001b[0;34m\u001b[0m\u001b[0;34m\u001b[0m\u001b[0m\n\u001b[0;32m---> 28\u001b[0;31m                                      save_format='jpg'):\n\u001b[0m\u001b[1;32m     29\u001b[0m \u001b[0;34m\u001b[0m\u001b[0m\n\u001b[1;32m     30\u001b[0m         \u001b[0mi\u001b[0m \u001b[0;34m+=\u001b[0m \u001b[0;36m1\u001b[0m\u001b[0;34m\u001b[0m\u001b[0;34m\u001b[0m\u001b[0m\n",
            "\u001b[0;32m/usr/local/lib/python3.6/dist-packages/keras_preprocessing/image/iterator.py\u001b[0m in \u001b[0;36m__next__\u001b[0;34m(self, *args, **kwargs)\u001b[0m\n\u001b[1;32m    102\u001b[0m \u001b[0;34m\u001b[0m\u001b[0m\n\u001b[1;32m    103\u001b[0m     \u001b[0;32mdef\u001b[0m \u001b[0m__next__\u001b[0m\u001b[0;34m(\u001b[0m\u001b[0mself\u001b[0m\u001b[0;34m,\u001b[0m \u001b[0;34m*\u001b[0m\u001b[0margs\u001b[0m\u001b[0;34m,\u001b[0m \u001b[0;34m**\u001b[0m\u001b[0mkwargs\u001b[0m\u001b[0;34m)\u001b[0m\u001b[0;34m:\u001b[0m\u001b[0;34m\u001b[0m\u001b[0;34m\u001b[0m\u001b[0m\n\u001b[0;32m--> 104\u001b[0;31m         \u001b[0;32mreturn\u001b[0m \u001b[0mself\u001b[0m\u001b[0;34m.\u001b[0m\u001b[0mnext\u001b[0m\u001b[0;34m(\u001b[0m\u001b[0;34m*\u001b[0m\u001b[0margs\u001b[0m\u001b[0;34m,\u001b[0m \u001b[0;34m**\u001b[0m\u001b[0mkwargs\u001b[0m\u001b[0;34m)\u001b[0m\u001b[0;34m\u001b[0m\u001b[0;34m\u001b[0m\u001b[0m\n\u001b[0m\u001b[1;32m    105\u001b[0m \u001b[0;34m\u001b[0m\u001b[0m\n\u001b[1;32m    106\u001b[0m     \u001b[0;32mdef\u001b[0m \u001b[0mnext\u001b[0m\u001b[0;34m(\u001b[0m\u001b[0mself\u001b[0m\u001b[0;34m)\u001b[0m\u001b[0;34m:\u001b[0m\u001b[0;34m\u001b[0m\u001b[0;34m\u001b[0m\u001b[0m\n",
            "\u001b[0;32m/usr/local/lib/python3.6/dist-packages/keras_preprocessing/image/iterator.py\u001b[0m in \u001b[0;36mnext\u001b[0;34m(self)\u001b[0m\n\u001b[1;32m    114\u001b[0m         \u001b[0;31m# The transformation of images is not under thread lock\u001b[0m\u001b[0;34m\u001b[0m\u001b[0;34m\u001b[0m\u001b[0;34m\u001b[0m\u001b[0m\n\u001b[1;32m    115\u001b[0m         \u001b[0;31m# so it can be done in parallel\u001b[0m\u001b[0;34m\u001b[0m\u001b[0;34m\u001b[0m\u001b[0;34m\u001b[0m\u001b[0m\n\u001b[0;32m--> 116\u001b[0;31m         \u001b[0;32mreturn\u001b[0m \u001b[0mself\u001b[0m\u001b[0;34m.\u001b[0m\u001b[0m_get_batches_of_transformed_samples\u001b[0m\u001b[0;34m(\u001b[0m\u001b[0mindex_array\u001b[0m\u001b[0;34m)\u001b[0m\u001b[0;34m\u001b[0m\u001b[0;34m\u001b[0m\u001b[0m\n\u001b[0m\u001b[1;32m    117\u001b[0m \u001b[0;34m\u001b[0m\u001b[0m\n\u001b[1;32m    118\u001b[0m     \u001b[0;32mdef\u001b[0m \u001b[0m_get_batches_of_transformed_samples\u001b[0m\u001b[0;34m(\u001b[0m\u001b[0mself\u001b[0m\u001b[0;34m,\u001b[0m \u001b[0mindex_array\u001b[0m\u001b[0;34m)\u001b[0m\u001b[0;34m:\u001b[0m\u001b[0;34m\u001b[0m\u001b[0;34m\u001b[0m\u001b[0m\n",
            "\u001b[0;32m/usr/local/lib/python3.6/dist-packages/keras_preprocessing/image/numpy_array_iterator.py\u001b[0m in \u001b[0;36m_get_batches_of_transformed_samples\u001b[0;34m(self, index_array)\u001b[0m\n\u001b[1;32m    172\u001b[0m                     \u001b[0mhash\u001b[0m\u001b[0;34m=\u001b[0m\u001b[0mnp\u001b[0m\u001b[0;34m.\u001b[0m\u001b[0mrandom\u001b[0m\u001b[0;34m.\u001b[0m\u001b[0mrandint\u001b[0m\u001b[0;34m(\u001b[0m\u001b[0;36m1e4\u001b[0m\u001b[0;34m)\u001b[0m\u001b[0;34m,\u001b[0m\u001b[0;34m\u001b[0m\u001b[0;34m\u001b[0m\u001b[0m\n\u001b[1;32m    173\u001b[0m                     format=self.save_format)\n\u001b[0;32m--> 174\u001b[0;31m                 \u001b[0mimg\u001b[0m\u001b[0;34m.\u001b[0m\u001b[0msave\u001b[0m\u001b[0;34m(\u001b[0m\u001b[0mos\u001b[0m\u001b[0;34m.\u001b[0m\u001b[0mpath\u001b[0m\u001b[0;34m.\u001b[0m\u001b[0mjoin\u001b[0m\u001b[0;34m(\u001b[0m\u001b[0mself\u001b[0m\u001b[0;34m.\u001b[0m\u001b[0msave_to_dir\u001b[0m\u001b[0;34m,\u001b[0m \u001b[0mfname\u001b[0m\u001b[0;34m)\u001b[0m\u001b[0;34m)\u001b[0m\u001b[0;34m\u001b[0m\u001b[0;34m\u001b[0m\u001b[0m\n\u001b[0m\u001b[1;32m    175\u001b[0m         \u001b[0mbatch_x_miscs\u001b[0m \u001b[0;34m=\u001b[0m \u001b[0;34m[\u001b[0m\u001b[0mxx\u001b[0m\u001b[0;34m[\u001b[0m\u001b[0mindex_array\u001b[0m\u001b[0;34m]\u001b[0m \u001b[0;32mfor\u001b[0m \u001b[0mxx\u001b[0m \u001b[0;32min\u001b[0m \u001b[0mself\u001b[0m\u001b[0;34m.\u001b[0m\u001b[0mx_misc\u001b[0m\u001b[0;34m]\u001b[0m\u001b[0;34m\u001b[0m\u001b[0;34m\u001b[0m\u001b[0m\n\u001b[1;32m    176\u001b[0m         output = (batch_x if batch_x_miscs == []\n",
            "\u001b[0;32m/usr/local/lib/python3.6/dist-packages/PIL/Image.py\u001b[0m in \u001b[0;36msave\u001b[0;34m(self, fp, format, **params)\u001b[0m\n\u001b[1;32m   2097\u001b[0m                 \u001b[0mfp\u001b[0m \u001b[0;34m=\u001b[0m \u001b[0mbuiltins\u001b[0m\u001b[0;34m.\u001b[0m\u001b[0mopen\u001b[0m\u001b[0;34m(\u001b[0m\u001b[0mfilename\u001b[0m\u001b[0;34m,\u001b[0m \u001b[0;34m\"r+b\"\u001b[0m\u001b[0;34m)\u001b[0m\u001b[0;34m\u001b[0m\u001b[0;34m\u001b[0m\u001b[0m\n\u001b[1;32m   2098\u001b[0m             \u001b[0;32melse\u001b[0m\u001b[0;34m:\u001b[0m\u001b[0;34m\u001b[0m\u001b[0;34m\u001b[0m\u001b[0m\n\u001b[0;32m-> 2099\u001b[0;31m                 \u001b[0mfp\u001b[0m \u001b[0;34m=\u001b[0m \u001b[0mbuiltins\u001b[0m\u001b[0;34m.\u001b[0m\u001b[0mopen\u001b[0m\u001b[0;34m(\u001b[0m\u001b[0mfilename\u001b[0m\u001b[0;34m,\u001b[0m \u001b[0;34m\"w+b\"\u001b[0m\u001b[0;34m)\u001b[0m\u001b[0;34m\u001b[0m\u001b[0;34m\u001b[0m\u001b[0m\n\u001b[0m\u001b[1;32m   2100\u001b[0m \u001b[0;34m\u001b[0m\u001b[0m\n\u001b[1;32m   2101\u001b[0m         \u001b[0;32mtry\u001b[0m\u001b[0;34m:\u001b[0m\u001b[0;34m\u001b[0m\u001b[0;34m\u001b[0m\u001b[0m\n",
            "\u001b[0;31mKeyboardInterrupt\u001b[0m: "
          ]
        }
      ]
    },
    {
      "cell_type": "markdown",
      "metadata": {
        "id": "Zn9l8z9J_PFQ",
        "colab_type": "text"
      },
      "source": [
        "#### 2. Precancer\n"
      ]
    },
    {
      "cell_type": "code",
      "metadata": {
        "id": "ZWk-j42J_MQr",
        "colab_type": "code",
        "colab": {}
      },
      "source": [
        "import os\n",
        "import numpy as np\n",
        "from PIL import Image\n",
        "#path = 이미지resize할 file directory\n",
        "path2 = \"/content/drive/My Drive/CTRC/test/2. Precancer\"\n",
        "\n",
        "file_list = os.listdir(path2)\n",
        "\n",
        "print (\"file_list: {}\".format(file_list))\n",
        "\n",
        "n=len(file_list)\n",
        "print(\"n=%d\"%(n))\n",
        "print(file_list[0])"
      ],
      "execution_count": null,
      "outputs": []
    },
    {
      "cell_type": "code",
      "metadata": {
        "id": "ELEVzorm_RnA",
        "colab_type": "code",
        "colab": {}
      },
      "source": [
        "np.random.seed(5)\n",
        "from keras.preprocessing.image import ImageDataGenerator, array_to_img, img_to_array, load_img\n",
        "\n",
        "\n",
        "#데이터가 충분하면 나누기\n",
        "trainGen = imageGenerator.flow_from_directory('/content/drive/My Drive/CTRC/train/2. Precancer',\n",
        "                                              target_size=(64,64),\n",
        "                                              subset='training')\n",
        "\n",
        "validationGen = imageGenerator.flow_from_directory('/content/drive/My Drive/CTRC/test/2. Precancer',\n",
        "                                                  target_size=(64,64),\n",
        "                                                  subset='validation')\n",
        "\n",
        "\n",
        "\n",
        "for j in range(n):\n",
        "    \n",
        "    img = load_img('/content/drive/My Drive/CTRC/test/2. Precancer/{}'.format(file_list[j]))\n",
        "    x = img_to_array(img)\n",
        "    x = x.reshape((1,) + x.shape)\n",
        "\n",
        "    i = 0\n",
        "\n",
        "    for batch in imageGenerator.flow(x, batch_size=1, save_to_dir='/content/drive/My Drive/CTRC/train/2. Precancer',\n",
        "                               save_prefix='{}'.format(file_list[j]), save_format='jpg'):\n",
        "\n",
        "        i += 1\n",
        "\n",
        "        if i >35: \n",
        "\n",
        "            break"
      ],
      "execution_count": null,
      "outputs": []
    },
    {
      "cell_type": "markdown",
      "metadata": {
        "id": "MEdhTRFuDXt6",
        "colab_type": "text"
      },
      "source": [
        "#### 3. Extra"
      ]
    },
    {
      "cell_type": "code",
      "metadata": {
        "id": "BM2DjGJPDZke",
        "colab_type": "code",
        "colab": {}
      },
      "source": [
        "import os\n",
        "import numpy as np\n",
        "from PIL import Image\n",
        "#path = 이미지resize할 file directory\n",
        "path3 = \"/content/drive/My Drive/CTRC/test/3. Extra\"\n",
        "\n",
        "file_list = os.listdir(path3)\n",
        "\n",
        "print (\"file_list: {}\".format(file_list))\n",
        "\n",
        "n=len(file_list)\n",
        "print(\"n=%d\"%(n))\n",
        "print(file_list[0])"
      ],
      "execution_count": null,
      "outputs": []
    },
    {
      "cell_type": "code",
      "metadata": {
        "id": "7rGQ0gGbDeIa",
        "colab_type": "code",
        "colab": {}
      },
      "source": [
        "np.random.seed(5)\n",
        "from keras.preprocessing.image import ImageDataGenerator, array_to_img, img_to_array, load_img\n",
        "\n",
        "\n",
        "#데이터가 충분하면 나누기\n",
        "trainGen = imageGenerator.flow_from_directory('/content/drive/My Drive/CTRC/train/3. Extra',\n",
        "                                              target_size=(64,64),\n",
        "                                              subset='training')\n",
        "\n",
        "validationGen = imageGenerator.flow_from_directory('/content/drive/My Drive/CTRC/test/3. Extra',\n",
        "                                                  target_size=(64,64),\n",
        "                                                  subset='validation')\n",
        "\n",
        "\n",
        "\n",
        "for j in range(n):\n",
        "    \n",
        "    img = load_img('/content/drive/My Drive/CTRC/test/3. Extra/{}'.format(file_list[j]))\n",
        "    x = img_to_array(img)\n",
        "    x = x.reshape((1,) + x.shape)\n",
        "\n",
        "    i = 0\n",
        "\n",
        "    for batch in imageGenerator.flow(x, batch_size=1, save_to_dir='/content/drive/My Drive/CTRC/train/3. Extra',\n",
        "                               save_prefix='{}'.format(file_list[j]), save_format='jpg'):\n",
        "\n",
        "        i += 1\n",
        "\n",
        "        if i > 20: \n",
        "\n",
        "            break"
      ],
      "execution_count": null,
      "outputs": []
    },
    {
      "cell_type": "markdown",
      "metadata": {
        "id": "F347m1zsDpIO",
        "colab_type": "text"
      },
      "source": [
        "#### 4. Normal"
      ]
    },
    {
      "cell_type": "code",
      "metadata": {
        "id": "5Es_QupIDoyN",
        "colab_type": "code",
        "colab": {}
      },
      "source": [
        "import os\n",
        "import numpy as np\n",
        "from PIL import Image\n",
        "#path = 이미지resize할 file directory\n",
        "path4 = \"/content/drive/My Drive/CTRC/test/4. Normal\"\n",
        "\n",
        "file_list = os.listdir(path4)\n",
        "\n",
        "print (\"file_list: {}\".format(file_list))\n",
        "\n",
        "n=len(file_list)\n",
        "print(\"n=%d\"%(n))\n",
        "print(file_list[0])"
      ],
      "execution_count": null,
      "outputs": []
    },
    {
      "cell_type": "code",
      "metadata": {
        "id": "o9Y99gTdDvQY",
        "colab_type": "code",
        "colab": {}
      },
      "source": [
        "np.random.seed(5)\n",
        "from keras.preprocessing.image import ImageDataGenerator, array_to_img, img_to_array, load_img\n",
        "\n",
        "\n",
        "#데이터가 충분하면 나누기\n",
        "trainGen = imageGenerator.flow_from_directory('/content/drive/My Drive/CTRC/train/4. Normal',\n",
        "                                              target_size=(64,64),\n",
        "                                              subset='training')\n",
        "\n",
        "validationGen = imageGenerator.flow_from_directory('/content/drive/My Drive/CTRC/test/4. Normal',\n",
        "                                                  target_size=(64,64),\n",
        "                                                  subset='validation')\n",
        "\n",
        "\n",
        "\n",
        "for j in range(n):\n",
        "    \n",
        "    img = load_img('/content/drive/My Drive/CTRC/test/4. Normal/{}'.format(file_list[j]))\n",
        "    x = img_to_array(img)\n",
        "    x = x.reshape((1,) + x.shape)\n",
        "\n",
        "    i = 0\n",
        "\n",
        "    for batch in imageGenerator.flow(x, batch_size=1, save_to_dir='/content/drive/My Drive/CTRC/train/4. Normal',\n",
        "                               save_prefix='{}'.format(file_list[j]), save_format='jpg'):\n",
        "\n",
        "        i += 1\n",
        "\n",
        "        if i > 5: \n",
        "\n",
        "            break"
      ],
      "execution_count": null,
      "outputs": []
    },
    {
      "cell_type": "markdown",
      "metadata": {
        "id": "3ArNio6RRgTe",
        "colab_type": "text"
      },
      "source": [
        "### 폴더내 이미지 개수 확인하기 -train"
      ]
    },
    {
      "cell_type": "code",
      "metadata": {
        "id": "8XvzMI44RjGh",
        "colab_type": "code",
        "colab": {}
      },
      "source": [
        "#코드 추가해서 확인하기\n",
        "\n",
        "import os\n",
        "\n",
        "path, dirs, files = next(os.walk(\"/content/drive/My Drive/CTRC/train/4. Normal\"))\n",
        "file_count = len(files)\n",
        "\n",
        "file_count"
      ],
      "execution_count": null,
      "outputs": []
    },
    {
      "cell_type": "code",
      "metadata": {
        "id": "a7mC-hEeTsAw",
        "colab_type": "code",
        "colab": {
          "base_uri": "https://localhost:8080/",
          "height": 37
        },
        "outputId": "3bc0cba9-ed2f-4e8e-a4f0-72d888e1a096"
      },
      "source": [
        "import os\n",
        "\n",
        "path, dirs, files = next(os.walk(\"/content/drive/My Drive/CTRC/train/3. Extra\"))\n",
        "file_count = len(files)\n",
        "\n",
        "file_count"
      ],
      "execution_count": null,
      "outputs": [
        {
          "output_type": "execute_result",
          "data": {
            "text/plain": [
              "2879"
            ]
          },
          "metadata": {
            "tags": []
          },
          "execution_count": 16
        }
      ]
    },
    {
      "cell_type": "code",
      "metadata": {
        "id": "W29rppybTr-8",
        "colab_type": "code",
        "colab": {
          "base_uri": "https://localhost:8080/",
          "height": 37
        },
        "outputId": "d3657b4c-9b32-4acd-8e2b-7bbf402306af"
      },
      "source": [
        "import os\n",
        "\n",
        "path, dirs, files = next(os.walk(\"/content/drive/My Drive/CTRC/train/2. Precancer\"))\n",
        "file_count = len(files)\n",
        "\n",
        "file_count"
      ],
      "execution_count": null,
      "outputs": [
        {
          "output_type": "execute_result",
          "data": {
            "text/plain": [
              "1797"
            ]
          },
          "metadata": {
            "tags": []
          },
          "execution_count": 17
        }
      ]
    },
    {
      "cell_type": "code",
      "metadata": {
        "id": "U_eyxexgT4V9",
        "colab_type": "code",
        "colab": {
          "base_uri": "https://localhost:8080/",
          "height": 37
        },
        "outputId": "9eb00a49-c72f-4ea5-a062-d1413e6c43b0"
      },
      "source": [
        "import os\n",
        "\n",
        "path, dirs, files = next(os.walk(\"/content/drive/My Drive/CTRC/train/1. Cancer\"))\n",
        "file_count = len(files)\n",
        "\n",
        "file_count"
      ],
      "execution_count": null,
      "outputs": [
        {
          "output_type": "execute_result",
          "data": {
            "text/plain": [
              "2471"
            ]
          },
          "metadata": {
            "tags": []
          },
          "execution_count": 18
        }
      ]
    },
    {
      "cell_type": "markdown",
      "metadata": {
        "id": "V5_HvWmEda9r",
        "colab_type": "text"
      },
      "source": [
        "# 이지우 설계\n"
      ]
    },
    {
      "cell_type": "code",
      "metadata": {
        "id": "NpIHpYP_dwBs",
        "colab_type": "code",
        "colab": {}
      },
      "source": [
        "categories = [\"1. Cancer\",\"2. Precancer\",\"3. Extra\",\"4. Normal\"]\n",
        "nb_classes = len(categories)\n"
      ],
      "execution_count": null,
      "outputs": []
    },
    {
      "cell_type": "code",
      "metadata": {
        "id": "YZdm7Q0ZdZZy",
        "colab_type": "code",
        "colab": {
          "base_uri": "https://localhost:8080/",
          "height": 583
        },
        "outputId": "25772587-6a75-4fa5-d34f-2a11b2a98b79"
      },
      "source": [
        "from PIL import Image\n",
        "import os, glob, numpy as np\n",
        "from sklearn.model_selection import train_test_split\n",
        "\n",
        "caltech_dir = '/content/drive/My Drive/CTRC/train'\n",
        "categories = [\"1. Cancer\",\"2. Precancer\",\"3. Extra\",\"4. Normal\"]\n",
        "nb_classes = len(categories)\n",
        "\n",
        "image_w = 64\n",
        "image_h = 64\n",
        "\n",
        "pixels = image_h * image_w * 3\n",
        "\n",
        "X = []\n",
        "y = []\n",
        "\n",
        "for idx, cat in enumerate(categories):\n",
        "    \n",
        "    #one-hot 돌리기.\n",
        "    label = [0 for i in range(nb_classes)]\n",
        "    label[idx] = 1\n",
        "\n",
        "    image_dir = caltech_dir + \"/\" + cat\n",
        "    files = glob.glob(image_dir+\"/*.jpg\")\n",
        "    print(cat, \" 파일 길이 : \", len(files))\n",
        "    for i, f in enumerate(files):\n",
        "        img = Image.open(f)\n",
        "        img = img.convert(\"RGB\")\n",
        "        img = img.resize((image_w, image_h))\n",
        "        data = np.asarray(img)\n",
        "\n",
        "        X.append(data)\n",
        "        y.append(label)\n",
        "\n",
        "        if i % 700 == 0:\n",
        "            print(cat, \" : \", f)\n",
        "\n",
        "X = np.array(X)\n",
        "y = np.array(y)\n",
        "#1 0 0 0 이면 airplanes\n",
        "#0 1 0 0 이면 buddha 이런식\n",
        "\n",
        "\n",
        "X_train, X_test, y_train, y_test = train_test_split(X, y, test_size=0.3, random_state=321)\n",
        "xy = (X_train, X_test, y_train, y_test)\n",
        "np.save('/content/drive/My Drive/CTRC/train/multi_image_data.npy', xy)\n",
        "\n",
        "print(\"ok\", len(y))\n"
      ],
      "execution_count": null,
      "outputs": [
        {
          "output_type": "stream",
          "text": [
            "1. Cancer  파일 길이 :  2471\n",
            "1. Cancer  :  /content/drive/My Drive/CTRC/train/1. Cancer/can_232.jpg_0_9397.jpg\n",
            "1. Cancer  :  /content/drive/My Drive/CTRC/train/1. Cancer/can_349.jpg_0_240.jpg\n",
            "1. Cancer  :  /content/drive/My Drive/CTRC/train/1. Cancer/can_132.jpg_0_9914.jpg\n",
            "1. Cancer  :  /content/drive/My Drive/CTRC/train/1. Cancer/can_17.jpg_0_4612.jpg\n",
            "2. Precancer  파일 길이 :  1797\n",
            "2. Precancer  :  /content/drive/My Drive/CTRC/train/2. Precancer/precan_67.jpg_0_9867.jpg\n",
            "2. Precancer  :  /content/drive/My Drive/CTRC/train/2. Precancer/precan_123.jpg_0_2662.jpg\n",
            "2. Precancer  :  /content/drive/My Drive/CTRC/train/2. Precancer/precan_34.jpg_0_8027.jpg\n",
            "3. Extra  파일 길이 :  2879\n",
            "3. Extra  :  /content/drive/My Drive/CTRC/train/3. Extra/inf_160.jpg_0_2318.jpg\n",
            "3. Extra  :  /content/drive/My Drive/CTRC/train/3. Extra/inf_229.jpg_0_7959.jpg\n",
            "3. Extra  :  /content/drive/My Drive/CTRC/train/3. Extra/inf_107.jpg_0_1857.jpg\n",
            "3. Extra  :  /content/drive/My Drive/CTRC/train/3. Extra/inf_8.jpg_0_4612.jpg\n",
            "3. Extra  :  /content/drive/My Drive/CTRC/train/3. Extra/inf_63.jpg_0_7942.jpg\n",
            "4. Normal  파일 길이 :  6821\n",
            "4. Normal  :  /content/drive/My Drive/CTRC/train/4. Normal/nor_314_2.jpg_0_1991.jpg\n",
            "4. Normal  :  /content/drive/My Drive/CTRC/train/4. Normal/nor_89_1.jpg_0_2121.jpg\n",
            "4. Normal  :  /content/drive/My Drive/CTRC/train/4. Normal/nor_295.jpg_0_412.jpg\n",
            "4. Normal  :  /content/drive/My Drive/CTRC/train/4. Normal/nor_248.jpg_0_4757.jpg\n",
            "4. Normal  :  /content/drive/My Drive/CTRC/train/4. Normal/nor_268_3.jpg_0_5038.jpg\n",
            "4. Normal  :  /content/drive/My Drive/CTRC/train/4. Normal/nor_232_4.jpg_0_4848.jpg\n",
            "4. Normal  :  /content/drive/My Drive/CTRC/train/4. Normal/nor_429_2.jpg_0_3941.jpg\n",
            "4. Normal  :  /content/drive/My Drive/CTRC/train/4. Normal/nor_214_2.jpg_0_5897.jpg\n",
            "4. Normal  :  /content/drive/My Drive/CTRC/train/4. Normal/nor_396_1.jpg_0_7886.jpg\n",
            "4. Normal  :  /content/drive/My Drive/CTRC/train/4. Normal/nor_180.jpg_0_3230.jpg\n",
            "ok 13968\n"
          ],
          "name": "stdout"
        }
      ]
    },
    {
      "cell_type": "code",
      "metadata": {
        "id": "pmPn9lZpdhMK",
        "colab_type": "code",
        "colab": {
          "base_uri": "https://localhost:8080/",
          "height": 163
        },
        "outputId": "2f5222fa-3445-4c74-a916-3d65c138ebd5"
      },
      "source": [
        "import os, glob, numpy as np\n",
        "from keras.models import Sequential\n",
        "from keras.layers import Conv2D, MaxPooling2D, Dense, Flatten, Dropout\n",
        "from keras.callbacks import EarlyStopping, ModelCheckpoint\n",
        "import matplotlib.pyplot as plt\n",
        "import keras.backend.tensorflow_backend as K\n",
        "\n",
        "import tensorflow as tf\n",
        "config = tf.compat.v1.ConfigProto()\n",
        "config.gpu_options.allow_growth = True\n",
        "session = tf.compat.v1.Session(config=config)\n",
        "\n",
        "X_train, X_test, y_train, y_test = np.load('/content/drive/My Drive/CTRC/train/multi_image_data.npy', \n",
        "                                           allow_pickle=True)\n",
        "\n",
        "\n",
        "#일반화\n",
        "X_train = X_train.astype(float) / 255\n",
        "X_test = X_test.astype(float) / 255\n",
        "\n",
        "print(len(y_train))\n",
        "print(len(X_train))\n",
        "print(len(X_test))\n",
        "print(len(y_test))\n",
        "print(X_train.shape)\n",
        "print(X_train.shape[0])"
      ],
      "execution_count": null,
      "outputs": [
        {
          "output_type": "stream",
          "text": [
            "Using TensorFlow backend.\n"
          ],
          "name": "stderr"
        },
        {
          "output_type": "stream",
          "text": [
            "9777\n",
            "9777\n",
            "4191\n",
            "4191\n",
            "(9777, 64, 64, 3)\n",
            "9777\n"
          ],
          "name": "stdout"
        }
      ]
    },
    {
      "cell_type": "markdown",
      "metadata": {
        "id": "9352Bt6Inuk7",
        "colab_type": "text"
      },
      "source": [
        "## CNN 모델 만들기 (Conv2D 이용)"
      ]
    },
    {
      "cell_type": "code",
      "metadata": {
        "id": "mhc9w51LVj7s",
        "colab_type": "code",
        "colab": {
          "base_uri": "https://localhost:8080/",
          "height": 225
        },
        "outputId": "3765c4d6-1a4b-4a4e-a8df-b1d7e246c5ab"
      },
      "source": [
        "#import keras.backend.tensorflow_backend as K\n",
        "import tensorflow.keras.backend as K\n",
        "import os, glob, numpy as np\n",
        "\n",
        "import tensorflow.compat.v1 as tf\n",
        "tf.disable_v2_behavior()\n",
        "\n",
        "from keras.models import Sequential\n",
        "from keras.layers import Conv2D, MaxPooling2D, Dense, Flatten, Dropout\n",
        "from keras.callbacks import EarlyStopping, ModelCheckpoint\n",
        "import matplotlib.pyplot as plt\n",
        "\n",
        "\n",
        "\n",
        "model = Sequential()\n",
        "model.add(Conv2D(32, (7,7), padding=\"same\", input_shape=(64,64,3), activation='relu'))\n",
        "model.add(MaxPooling2D(pool_size=(2,2)))\n",
        "    #model.add(Dropout(0.25))\n",
        "    # 3X3 크기의 컨볼루션 레이어를 32개의 필터수를 처음에 생성\n",
        "    # 활성화 함수 relu\n",
        "    # (64,64,3)의 튜플 값 가진다\n",
        "    # Maxpooling2D를 통해 중요 값만 뽑아 작은 출력값 만든다\n",
        "\n",
        "    \n",
        "model.add(Conv2D(64, (5,5), padding=\"same\", activation='relu'))\n",
        "model.add(MaxPooling2D(pool_size=(2,2)))\n",
        "#model.add(Dropout(0.1))\n",
        "\n",
        "model.add(Conv2D(64, (3,3), padding=\"same\", activation='relu'))\n",
        "model.add(MaxPooling2D(pool_size=(2,2)))\n",
        "#model.add(Dropout(0.1))\n",
        "\n",
        "model.add(Conv2D(128, (3,3), padding=\"same\", activation='relu'))\n",
        "model.add(MaxPooling2D(pool_size=(2,2)))\n",
        "#model.add(Dropout(0.1))\n",
        "\n",
        "\n",
        "model.add(Conv2D(128, (3,3), padding=\"same\", activation='relu'))\n",
        "model.add(MaxPooling2D(pool_size=(2,2)))\n",
        "#odel.add(Dropout(0.1))\n",
        "\n",
        "\n",
        "model.add(Conv2D(256, (3,3), padding=\"same\", activation='relu'))\n",
        "model.add(MaxPooling2D(pool_size=(2,2)))\n",
        "\n",
        "\n",
        "model.add(Conv2D(256, (3,3), padding=\"same\", activation='relu'))\n",
        "model.add(MaxPooling2D(pool_size=(1,1)))\n",
        "model.add(Dropout(0.1))\n",
        "\n",
        "model.add(Conv2D(512, (3,3), padding=\"same\", activation='relu'))\n",
        "model.add(MaxPooling2D(pool_size=(1,1)))\n",
        "model.add(Dropout(0.1))\n",
        "\n",
        "\n",
        "model.add(Flatten()) \n",
        "    #CNN에서 컨볼루션 레이어나 맥스풀링을 거치면 주요 특징만 추출되어 학습됨\n",
        "    \n",
        "    #컨볼루션이나 맥스풀링은 주로 2차원을 다루지만\n",
        "    #전결합층에 전달을 하기 위해서는 1차원으로 바꿔야하는데\n",
        "    #이 때 Flatten사용\n",
        "model.add(Dense(256, activation='relu'))\n",
        "#model.add(Dropout(0.25))\n",
        "\n",
        "model.add(Dense(64, activation='relu'))\n",
        "#model.add(Dropout(0.25))\n",
        "\n",
        "model.add(Dense(32, activation='relu'))\n",
        "#model.add(Dropout(0.25))\n",
        "\n",
        "model.add(Dense(16, activation='relu'))\n",
        "#model.add(Dropout(0.25))\n",
        "\n",
        "model.add(Dense(16, activation='relu'))\n",
        "#model.add(Dropout(0.25))\n",
        "\n",
        "model.add(Dense(8, activation='relu'))\n",
        "model.add(Dropout(0.1))\n",
        "\n",
        "model.add(Dense(8, activation='relu'))\n",
        "model.add(Dropout(0.15))\n",
        "\n",
        "    #model.add(Dropout(0.5))\n",
        "\n",
        "model.add(Dense(4, activation='softmax'))\n",
        "\n",
        "\n",
        "model.compile(loss='kullback_leibler_divergence', optimizer='adam', metrics=['accuracy'])\n",
        "model_dir = './model'\n",
        "    \n",
        "if not os.path.exists(model_dir):\n",
        "    os.mkdir(model_dir)\n",
        "    \n",
        "model_path = model_dir + '/multi_img_classification.model'\n",
        "checkpoint = ModelCheckpoint(filepath=model_path , monitor='val_loss', verbose=1, save_best_only=True)\n",
        "early_stopping = EarlyStopping(monitor='val_loss', patience=6)"
      ],
      "execution_count": null,
      "outputs": [
        {
          "output_type": "stream",
          "text": [
            "WARNING:tensorflow:From /usr/local/lib/python3.6/dist-packages/tensorflow/python/compat/compat.py:175: disable_resource_variables (from tensorflow.python.ops.variable_scope) is deprecated and will be removed in a future version.\n",
            "Instructions for updating:\n",
            "non-resource variables are not supported in the long term\n",
            "WARNING:tensorflow:From /usr/local/lib/python3.6/dist-packages/tensorflow/python/framework/op_def_library.py:263: colocate_with (from tensorflow.python.framework.ops) is deprecated and will be removed in a future version.\n",
            "Instructions for updating:\n",
            "Colocations handled automatically by placer.\n",
            "WARNING:tensorflow:From /usr/local/lib/python3.6/dist-packages/keras/backend/tensorflow_backend.py:3445: calling dropout (from tensorflow.python.ops.nn_ops) with keep_prob is deprecated and will be removed in a future version.\n",
            "Instructions for updating:\n",
            "Please use `rate` instead of `keep_prob`. Rate should be set to `rate = 1 - keep_prob`.\n"
          ],
          "name": "stdout"
        }
      ]
    },
    {
      "cell_type": "markdown",
      "metadata": {
        "id": "ATW202c9Q6Ct",
        "colab_type": "text"
      },
      "source": [
        "\n",
        "```\n",
        "model.compile(optimizer='adam',\n",
        "              loss='categorical_crossentropy',\n",
        "              metrics=['accuracy'])# 코드로 형식 지정됨\n",
        "```\n",
        "\n",
        "\n",
        "-손실 함수(Loss function)-훈련 하는 동안 모델의 오차를 측정합니다. 모델의 학습이 올바른 방향으로 향하도록 이 함수를 최소화해야 합니다.\n",
        "\n",
        "-옵티마이저(Optimizer)-데이터와 손실 함수를 바탕으로 모델의 업데이트 방법을 결정합니다.\n",
        "\n",
        "-지표(Metrics)-훈련 단계와 테스트 단계를 모니터링하기 위해 사용합니다. 다음 예에서는 올바르게 분류된 이미지의 비율인 정확도를 사용합니다."
      ]
    },
    {
      "cell_type": "markdown",
      "metadata": {
        "id": "7LISq6dNrZJs",
        "colab_type": "text"
      },
      "source": [
        "\n",
        "\n",
        "```\n",
        "model.add(Dropout(0.25))\n",
        "```\n",
        "\n",
        "\n",
        "오버피팅을 피하기 위하여 25% 드롭아웃\n"
      ]
    },
    {
      "cell_type": "code",
      "metadata": {
        "id": "c6RTeFURre1n",
        "colab_type": "code",
        "colab": {}
      },
      "source": [
        ""
      ],
      "execution_count": null,
      "outputs": []
    },
    {
      "cell_type": "code",
      "metadata": {
        "id": "LFPqoC_nVj8G",
        "colab_type": "code",
        "colab": {
          "base_uri": "https://localhost:8080/",
          "height": 1000
        },
        "outputId": "67aac133-49da-4b93-be5d-414a3ceca460"
      },
      "source": [
        "model.summary()"
      ],
      "execution_count": null,
      "outputs": [
        {
          "output_type": "stream",
          "text": [
            "_________________________________________________________________\n",
            "Layer (type)                 Output Shape              Param #   \n",
            "=================================================================\n",
            "conv2d_1 (Conv2D)            (None, 64, 64, 32)        4736      \n",
            "_________________________________________________________________\n",
            "max_pooling2d_1 (MaxPooling2 (None, 32, 32, 32)        0         \n",
            "_________________________________________________________________\n",
            "conv2d_2 (Conv2D)            (None, 32, 32, 64)        51264     \n",
            "_________________________________________________________________\n",
            "max_pooling2d_2 (MaxPooling2 (None, 16, 16, 64)        0         \n",
            "_________________________________________________________________\n",
            "conv2d_3 (Conv2D)            (None, 16, 16, 64)        36928     \n",
            "_________________________________________________________________\n",
            "max_pooling2d_3 (MaxPooling2 (None, 8, 8, 64)          0         \n",
            "_________________________________________________________________\n",
            "conv2d_4 (Conv2D)            (None, 8, 8, 128)         73856     \n",
            "_________________________________________________________________\n",
            "max_pooling2d_4 (MaxPooling2 (None, 4, 4, 128)         0         \n",
            "_________________________________________________________________\n",
            "conv2d_5 (Conv2D)            (None, 4, 4, 128)         147584    \n",
            "_________________________________________________________________\n",
            "max_pooling2d_5 (MaxPooling2 (None, 2, 2, 128)         0         \n",
            "_________________________________________________________________\n",
            "conv2d_6 (Conv2D)            (None, 2, 2, 256)         295168    \n",
            "_________________________________________________________________\n",
            "max_pooling2d_6 (MaxPooling2 (None, 1, 1, 256)         0         \n",
            "_________________________________________________________________\n",
            "conv2d_7 (Conv2D)            (None, 1, 1, 256)         590080    \n",
            "_________________________________________________________________\n",
            "max_pooling2d_7 (MaxPooling2 (None, 1, 1, 256)         0         \n",
            "_________________________________________________________________\n",
            "dropout_1 (Dropout)          (None, 1, 1, 256)         0         \n",
            "_________________________________________________________________\n",
            "conv2d_8 (Conv2D)            (None, 1, 1, 512)         1180160   \n",
            "_________________________________________________________________\n",
            "max_pooling2d_8 (MaxPooling2 (None, 1, 1, 512)         0         \n",
            "_________________________________________________________________\n",
            "dropout_2 (Dropout)          (None, 1, 1, 512)         0         \n",
            "_________________________________________________________________\n",
            "flatten_1 (Flatten)          (None, 512)               0         \n",
            "_________________________________________________________________\n",
            "dense_1 (Dense)              (None, 256)               131328    \n",
            "_________________________________________________________________\n",
            "dense_2 (Dense)              (None, 64)                16448     \n",
            "_________________________________________________________________\n",
            "dense_3 (Dense)              (None, 32)                2080      \n",
            "_________________________________________________________________\n",
            "dense_4 (Dense)              (None, 16)                528       \n",
            "_________________________________________________________________\n",
            "dense_5 (Dense)              (None, 16)                272       \n",
            "_________________________________________________________________\n",
            "dense_6 (Dense)              (None, 8)                 136       \n",
            "_________________________________________________________________\n",
            "dropout_3 (Dropout)          (None, 8)                 0         \n",
            "_________________________________________________________________\n",
            "dense_7 (Dense)              (None, 8)                 72        \n",
            "_________________________________________________________________\n",
            "dropout_4 (Dropout)          (None, 8)                 0         \n",
            "_________________________________________________________________\n",
            "dense_8 (Dense)              (None, 4)                 36        \n",
            "=================================================================\n",
            "Total params: 2,530,676\n",
            "Trainable params: 2,530,676\n",
            "Non-trainable params: 0\n",
            "_________________________________________________________________\n"
          ],
          "name": "stdout"
        }
      ]
    },
    {
      "cell_type": "markdown",
      "metadata": {
        "id": "N_S9grYCWkbB",
        "colab_type": "text"
      },
      "source": [
        "드롭아웃 0.1두번 0.15두번"
      ]
    },
    {
      "cell_type": "markdown",
      "metadata": {
        "id": "74PccX8coNHb",
        "colab_type": "text"
      },
      "source": [
        "## model.fitting"
      ]
    },
    {
      "cell_type": "markdown",
      "metadata": {
        "id": "3D-yBz5VKRdO",
        "colab_type": "text"
      },
      "source": [
        "**model.fit_generator**\n",
        "\n",
        "- 첫번째 인자 : 훈련데이터셋을 제공할 제네레이터를 지정합니다.\n",
        "\n",
        "- steps_per_epoch : 한 epoch에 사용한 스텝 수를 지정합니다. \n",
        "\n",
        "- epochs : 전체 훈련 데이터셋에 대해 학습 반복 횟수를 지정합니다. \n",
        "\n",
        "- validation_data : 검증데이터셋을 제공할 제네레이터를 지정합니다. \n",
        "\n",
        "- validation_steps : 한 epoch 종료 시 마다 검증할 때 사용되는 검증 스텝 수를 지정합니다. "
      ]
    },
    {
      "cell_type": "code",
      "metadata": {
        "id": "sZcHM-pPXg5k",
        "colab_type": "code",
        "colab": {
          "base_uri": "https://localhost:8080/",
          "height": 37
        },
        "outputId": "da11e1d9-92aa-41f2-ed5c-a1e1093fb462"
      },
      "source": [
        "validationGen = imageGenerator.flow_from_directory('/content/drive/My Drive/CTRC/test',\n",
        "                                                  target_size=(64,64),\n",
        "                                                  batch_size=3,\n",
        "                                                   class_mode='categorical')"
      ],
      "execution_count": null,
      "outputs": [
        {
          "output_type": "stream",
          "text": [
            "Found 1961 images belonging to 4 classes.\n"
          ],
          "name": "stdout"
        }
      ]
    },
    {
      "cell_type": "code",
      "metadata": {
        "id": "LUfA4nyKh51L",
        "colab_type": "code",
        "colab": {
          "base_uri": "https://localhost:8080/",
          "height": 1000
        },
        "outputId": "18cdb77d-e845-4819-8355-e1b3b466e5f9"
      },
      "source": [
        "\n",
        "history = model.fit(X_train, y_train, \n",
        "                    batch_size=300, epochs=100, \n",
        "                    validation_data=(X_test, y_test))\n",
        "\n",
        "\n",
        "'''#Train\n",
        "history=model.fit_generator(trainGen,\n",
        "                    steps_per_epoch=300,\n",
        "                    epochs=100,\n",
        "                    validation_data=(X_test, y_test) \n",
        "                    validation_steps=60)'''\n"
      ],
      "execution_count": null,
      "outputs": [
        {
          "output_type": "stream",
          "text": [
            "WARNING:tensorflow:From /usr/local/lib/python3.6/dist-packages/tensorflow/python/ops/math_ops.py:3066: to_int32 (from tensorflow.python.ops.math_ops) is deprecated and will be removed in a future version.\n",
            "Instructions for updating:\n",
            "Use tf.cast instead.\n",
            "Train on 9777 samples, validate on 4191 samples\n",
            "Epoch 1/100\n",
            "9777/9777 [==============================] - 293s 30ms/step - loss: 1.3345 - acc: 0.4660 - val_loss: 1.2786 - val_acc: 0.4803\n",
            "Epoch 2/100\n",
            "9777/9777 [==============================] - 283s 29ms/step - loss: 1.2522 - acc: 0.4877 - val_loss: 1.2515 - val_acc: 0.4803\n",
            "Epoch 3/100\n",
            "9777/9777 [==============================] - 274s 28ms/step - loss: 1.1980 - acc: 0.4903 - val_loss: 1.1415 - val_acc: 0.4803\n",
            "Epoch 4/100\n",
            "9777/9777 [==============================] - 275s 28ms/step - loss: 1.1386 - acc: 0.5126 - val_loss: 1.0976 - val_acc: 0.5364\n",
            "Epoch 5/100\n",
            "9777/9777 [==============================] - 270s 28ms/step - loss: 1.1086 - acc: 0.5362 - val_loss: 1.0806 - val_acc: 0.5402\n",
            "Epoch 6/100\n",
            "9777/9777 [==============================] - 268s 27ms/step - loss: 1.0958 - acc: 0.5317 - val_loss: 1.0603 - val_acc: 0.4915\n",
            "Epoch 7/100\n",
            "9777/9777 [==============================] - 267s 27ms/step - loss: 1.0728 - acc: 0.5351 - val_loss: 1.0157 - val_acc: 0.5414\n",
            "Epoch 8/100\n",
            "9777/9777 [==============================] - 267s 27ms/step - loss: 1.0441 - acc: 0.5497 - val_loss: 0.9913 - val_acc: 0.5481\n",
            "Epoch 9/100\n",
            "9777/9777 [==============================] - 270s 28ms/step - loss: 1.0334 - acc: 0.5543 - val_loss: 0.9760 - val_acc: 0.5617\n",
            "Epoch 10/100\n",
            "9777/9777 [==============================] - 269s 28ms/step - loss: 1.0196 - acc: 0.5543 - val_loss: 0.9895 - val_acc: 0.5665\n",
            "Epoch 11/100\n",
            "9777/9777 [==============================] - 267s 27ms/step - loss: 0.9999 - acc: 0.5607 - val_loss: 1.0256 - val_acc: 0.5829\n",
            "Epoch 12/100\n",
            "9777/9777 [==============================] - 268s 27ms/step - loss: 0.9673 - acc: 0.5780 - val_loss: 0.9356 - val_acc: 0.5827\n",
            "Epoch 13/100\n",
            "9777/9777 [==============================] - 271s 28ms/step - loss: 0.9369 - acc: 0.5814 - val_loss: 0.9217 - val_acc: 0.5960\n",
            "Epoch 14/100\n",
            "9777/9777 [==============================] - 266s 27ms/step - loss: 0.9152 - acc: 0.5871 - val_loss: 1.0034 - val_acc: 0.5846\n",
            "Epoch 15/100\n",
            "9777/9777 [==============================] - 268s 27ms/step - loss: 0.9467 - acc: 0.5741 - val_loss: 0.9083 - val_acc: 0.5786\n",
            "Epoch 16/100\n",
            "9777/9777 [==============================] - 266s 27ms/step - loss: 0.9079 - acc: 0.5792 - val_loss: 0.9007 - val_acc: 0.6006\n",
            "Epoch 17/100\n",
            "9777/9777 [==============================] - 266s 27ms/step - loss: 0.8830 - acc: 0.6047 - val_loss: 0.8606 - val_acc: 0.6421\n",
            "Epoch 18/100\n",
            "9777/9777 [==============================] - 266s 27ms/step - loss: 0.8669 - acc: 0.6223 - val_loss: 0.8547 - val_acc: 0.6407\n",
            "Epoch 19/100\n",
            "9777/9777 [==============================] - 263s 27ms/step - loss: 0.8751 - acc: 0.6204 - val_loss: 0.8594 - val_acc: 0.6271\n",
            "Epoch 20/100\n",
            "9777/9777 [==============================] - 263s 27ms/step - loss: 0.8208 - acc: 0.6391 - val_loss: 0.9210 - val_acc: 0.6180\n",
            "Epoch 21/100\n",
            "9777/9777 [==============================] - 263s 27ms/step - loss: 0.8179 - acc: 0.6370 - val_loss: 0.8129 - val_acc: 0.6617\n",
            "Epoch 22/100\n",
            "9777/9777 [==============================] - 264s 27ms/step - loss: 0.7893 - acc: 0.6513 - val_loss: 0.7904 - val_acc: 0.6590\n",
            "Epoch 23/100\n",
            "9777/9777 [==============================] - 271s 28ms/step - loss: 0.7567 - acc: 0.6585 - val_loss: 0.8153 - val_acc: 0.6781\n",
            "Epoch 24/100\n",
            "9777/9777 [==============================] - 265s 27ms/step - loss: 0.7736 - acc: 0.6569 - val_loss: 0.8144 - val_acc: 0.6800\n",
            "Epoch 25/100\n",
            "9777/9777 [==============================] - 266s 27ms/step - loss: 0.7478 - acc: 0.6666 - val_loss: 0.8356 - val_acc: 0.6602\n",
            "Epoch 26/100\n",
            "9777/9777 [==============================] - 265s 27ms/step - loss: 0.7322 - acc: 0.6691 - val_loss: 0.8252 - val_acc: 0.6681\n",
            "Epoch 27/100\n",
            "9777/9777 [==============================] - 264s 27ms/step - loss: 0.7056 - acc: 0.6851 - val_loss: 0.7728 - val_acc: 0.6819\n",
            "Epoch 28/100\n",
            "9777/9777 [==============================] - 264s 27ms/step - loss: 0.6996 - acc: 0.6882 - val_loss: 0.7654 - val_acc: 0.6700\n",
            "Epoch 29/100\n",
            "9777/9777 [==============================] - 263s 27ms/step - loss: 0.7698 - acc: 0.6637 - val_loss: 0.9427 - val_acc: 0.6290\n",
            "Epoch 30/100\n",
            "9777/9777 [==============================] - 263s 27ms/step - loss: 0.7547 - acc: 0.6672 - val_loss: 0.7735 - val_acc: 0.6769\n",
            "Epoch 31/100\n",
            "9777/9777 [==============================] - 263s 27ms/step - loss: 0.6764 - acc: 0.7009 - val_loss: 0.7591 - val_acc: 0.6764\n",
            "Epoch 32/100\n",
            "9777/9777 [==============================] - 266s 27ms/step - loss: 0.6463 - acc: 0.7052 - val_loss: 0.7274 - val_acc: 0.6881\n",
            "Epoch 33/100\n",
            "9777/9777 [==============================] - 265s 27ms/step - loss: 0.6167 - acc: 0.7188 - val_loss: 0.7715 - val_acc: 0.6886\n",
            "Epoch 34/100\n",
            "9777/9777 [==============================] - 267s 27ms/step - loss: 0.6503 - acc: 0.7067 - val_loss: 0.7610 - val_acc: 0.7005\n",
            "Epoch 35/100\n",
            "9777/9777 [==============================] - 264s 27ms/step - loss: 0.6119 - acc: 0.7164 - val_loss: 0.7347 - val_acc: 0.6943\n",
            "Epoch 36/100\n",
            "9777/9777 [==============================] - 263s 27ms/step - loss: 0.6589 - acc: 0.7077 - val_loss: 0.7887 - val_acc: 0.6657\n",
            "Epoch 37/100\n",
            "9777/9777 [==============================] - 264s 27ms/step - loss: 0.6474 - acc: 0.7160 - val_loss: 0.8300 - val_acc: 0.7063\n",
            "Epoch 38/100\n",
            "9777/9777 [==============================] - 264s 27ms/step - loss: 0.5673 - acc: 0.7419 - val_loss: 0.7235 - val_acc: 0.6977\n",
            "Epoch 39/100\n",
            "9777/9777 [==============================] - 264s 27ms/step - loss: 0.5431 - acc: 0.7538 - val_loss: 1.0894 - val_acc: 0.6936\n",
            "Epoch 40/100\n",
            "9777/9777 [==============================] - 264s 27ms/step - loss: 0.5429 - acc: 0.7475 - val_loss: 0.7242 - val_acc: 0.7218\n",
            "Epoch 41/100\n",
            "9777/9777 [==============================] - 263s 27ms/step - loss: 0.5157 - acc: 0.7622 - val_loss: 0.7929 - val_acc: 0.7060\n",
            "Epoch 42/100\n",
            "9777/9777 [==============================] - 263s 27ms/step - loss: 0.5547 - acc: 0.7528 - val_loss: 0.9892 - val_acc: 0.7025\n",
            "Epoch 43/100\n",
            "9777/9777 [==============================] - 264s 27ms/step - loss: 0.4937 - acc: 0.7777 - val_loss: 0.8005 - val_acc: 0.7165\n",
            "Epoch 44/100\n",
            "9777/9777 [==============================] - 263s 27ms/step - loss: 0.4734 - acc: 0.7887 - val_loss: 0.8935 - val_acc: 0.7127\n",
            "Epoch 45/100\n",
            "9777/9777 [==============================] - 264s 27ms/step - loss: 0.5046 - acc: 0.7741 - val_loss: 0.8129 - val_acc: 0.6960\n",
            "Epoch 46/100\n",
            "9777/9777 [==============================] - 264s 27ms/step - loss: 0.4964 - acc: 0.7882 - val_loss: 0.7881 - val_acc: 0.7385\n",
            "Epoch 47/100\n",
            "9777/9777 [==============================] - 264s 27ms/step - loss: 0.4514 - acc: 0.8088 - val_loss: 0.7771 - val_acc: 0.7366\n",
            "Epoch 48/100\n",
            "9777/9777 [==============================] - 264s 27ms/step - loss: 0.4347 - acc: 0.8136 - val_loss: 0.9271 - val_acc: 0.6884\n",
            "Epoch 49/100\n",
            "9777/9777 [==============================] - 263s 27ms/step - loss: 0.4192 - acc: 0.8199 - val_loss: 0.7830 - val_acc: 0.7511\n",
            "Epoch 50/100\n",
            "9777/9777 [==============================] - 263s 27ms/step - loss: 0.4076 - acc: 0.8316 - val_loss: 0.8788 - val_acc: 0.7466\n",
            "Epoch 51/100\n",
            "9777/9777 [==============================] - 270s 28ms/step - loss: 0.4163 - acc: 0.8266 - val_loss: 0.8475 - val_acc: 0.7523\n",
            "Epoch 52/100\n",
            "9777/9777 [==============================] - 272s 28ms/step - loss: 0.4313 - acc: 0.8242 - val_loss: 0.8493 - val_acc: 0.6793\n",
            "Epoch 53/100\n",
            "9777/9777 [==============================] - 267s 27ms/step - loss: 0.4610 - acc: 0.8087 - val_loss: 0.8581 - val_acc: 0.7402\n",
            "Epoch 54/100\n",
            "9777/9777 [==============================] - 265s 27ms/step - loss: 0.4291 - acc: 0.8254 - val_loss: 0.8635 - val_acc: 0.7366\n",
            "Epoch 55/100\n",
            "9777/9777 [==============================] - 266s 27ms/step - loss: 0.3660 - acc: 0.8480 - val_loss: 0.8926 - val_acc: 0.7578\n",
            "Epoch 56/100\n",
            "9777/9777 [==============================] - 264s 27ms/step - loss: 0.3685 - acc: 0.8551 - val_loss: 0.9614 - val_acc: 0.7471\n",
            "Epoch 57/100\n",
            "9777/9777 [==============================] - 263s 27ms/step - loss: 0.3199 - acc: 0.8727 - val_loss: 0.9606 - val_acc: 0.7647\n",
            "Epoch 58/100\n",
            "9777/9777 [==============================] - 263s 27ms/step - loss: 0.2842 - acc: 0.8906 - val_loss: 1.0104 - val_acc: 0.7712\n",
            "Epoch 59/100\n",
            "9777/9777 [==============================] - 262s 27ms/step - loss: 0.2850 - acc: 0.8922 - val_loss: 1.0833 - val_acc: 0.7745\n",
            "Epoch 60/100\n",
            "9777/9777 [==============================] - 261s 27ms/step - loss: 0.3024 - acc: 0.8804 - val_loss: 0.8629 - val_acc: 0.7712\n",
            "Epoch 61/100\n",
            "9777/9777 [==============================] - 263s 27ms/step - loss: 0.3075 - acc: 0.8858 - val_loss: 1.0338 - val_acc: 0.7454\n",
            "Epoch 62/100\n",
            "9777/9777 [==============================] - 280s 29ms/step - loss: 0.3083 - acc: 0.8841 - val_loss: 0.9655 - val_acc: 0.7776\n",
            "Epoch 63/100\n",
            "9777/9777 [==============================] - 280s 29ms/step - loss: 0.3296 - acc: 0.8810 - val_loss: 0.9311 - val_acc: 0.7483\n",
            "Epoch 64/100\n",
            "9777/9777 [==============================] - 279s 28ms/step - loss: 0.3434 - acc: 0.8696 - val_loss: 1.0166 - val_acc: 0.7581\n",
            "Epoch 65/100\n",
            "9777/9777 [==============================] - 284s 29ms/step - loss: 0.2837 - acc: 0.8955 - val_loss: 0.8869 - val_acc: 0.7628\n",
            "Epoch 66/100\n",
            "9777/9777 [==============================] - 277s 28ms/step - loss: 0.3763 - acc: 0.8562 - val_loss: 0.8649 - val_acc: 0.7702\n",
            "Epoch 67/100\n",
            "9777/9777 [==============================] - 271s 28ms/step - loss: 0.2354 - acc: 0.9131 - val_loss: 0.9653 - val_acc: 0.8017\n",
            "Epoch 68/100\n",
            "9777/9777 [==============================] - 274s 28ms/step - loss: 0.2122 - acc: 0.9261 - val_loss: 1.2854 - val_acc: 0.7721\n",
            "Epoch 69/100\n",
            "9777/9777 [==============================] - 274s 28ms/step - loss: 0.2972 - acc: 0.8910 - val_loss: 1.0368 - val_acc: 0.7588\n",
            "Epoch 70/100\n",
            "9777/9777 [==============================] - 275s 28ms/step - loss: 0.2416 - acc: 0.9136 - val_loss: 0.9994 - val_acc: 0.7731\n",
            "Epoch 71/100\n",
            "9777/9777 [==============================] - 276s 28ms/step - loss: 0.2853 - acc: 0.8895 - val_loss: 1.1452 - val_acc: 0.7748\n",
            "Epoch 72/100\n",
            "9777/9777 [==============================] - 290s 30ms/step - loss: 0.4532 - acc: 0.8436 - val_loss: 1.1612 - val_acc: 0.6943\n",
            "Epoch 73/100\n",
            "9777/9777 [==============================] - 292s 30ms/step - loss: 0.4609 - acc: 0.8302 - val_loss: 0.9201 - val_acc: 0.7759\n",
            "Epoch 74/100\n",
            "9777/9777 [==============================] - 292s 30ms/step - loss: 0.2667 - acc: 0.9055 - val_loss: 1.1728 - val_acc: 0.7619\n",
            "Epoch 75/100\n",
            "9777/9777 [==============================] - 288s 29ms/step - loss: 0.2861 - acc: 0.9007 - val_loss: 1.0349 - val_acc: 0.7671\n",
            "Epoch 76/100\n",
            "9777/9777 [==============================] - 285s 29ms/step - loss: 1.1318 - acc: 0.6137 - val_loss: 0.9741 - val_acc: 0.6025\n",
            "Epoch 77/100\n",
            "9777/9777 [==============================] - 282s 29ms/step - loss: 0.6702 - acc: 0.7198 - val_loss: 0.8490 - val_acc: 0.7170\n",
            "Epoch 78/100\n",
            "9777/9777 [==============================] - 287s 29ms/step - loss: 0.4131 - acc: 0.8291 - val_loss: 0.8416 - val_acc: 0.7645\n",
            "Epoch 79/100\n",
            "9777/9777 [==============================] - 284s 29ms/step - loss: 0.2841 - acc: 0.8943 - val_loss: 0.9369 - val_acc: 0.7659\n",
            "Epoch 80/100\n",
            "9777/9777 [==============================] - 281s 29ms/step - loss: 0.2780 - acc: 0.8995 - val_loss: 0.9837 - val_acc: 0.7683\n",
            "Epoch 81/100\n",
            "9777/9777 [==============================] - 278s 28ms/step - loss: 0.2765 - acc: 0.9021 - val_loss: 0.9872 - val_acc: 0.7707\n",
            "Epoch 82/100\n",
            "9777/9777 [==============================] - 282s 29ms/step - loss: 0.2409 - acc: 0.9112 - val_loss: 1.0317 - val_acc: 0.7922\n",
            "Epoch 83/100\n",
            "9777/9777 [==============================] - 283s 29ms/step - loss: 0.1780 - acc: 0.9357 - val_loss: 1.0859 - val_acc: 0.8031\n",
            "Epoch 84/100\n",
            "9777/9777 [==============================] - 281s 29ms/step - loss: 0.2302 - acc: 0.9249 - val_loss: 0.8799 - val_acc: 0.7719\n",
            "Epoch 85/100\n",
            "9777/9777 [==============================] - 289s 30ms/step - loss: 0.1931 - acc: 0.9326 - val_loss: 1.0803 - val_acc: 0.7962\n",
            "Epoch 86/100\n",
            "9777/9777 [==============================] - 286s 29ms/step - loss: 0.2124 - acc: 0.9252 - val_loss: 1.2846 - val_acc: 0.7492\n",
            "Epoch 87/100\n",
            "9777/9777 [==============================] - 289s 30ms/step - loss: 0.2255 - acc: 0.9164 - val_loss: 0.8733 - val_acc: 0.7998\n",
            "Epoch 88/100\n",
            "9777/9777 [==============================] - 289s 30ms/step - loss: 0.3212 - acc: 0.8916 - val_loss: 0.8515 - val_acc: 0.7227\n",
            "Epoch 89/100\n",
            "9777/9777 [==============================] - 287s 29ms/step - loss: 0.2655 - acc: 0.8969 - val_loss: 1.2879 - val_acc: 0.7941\n",
            "Epoch 90/100\n",
            "9777/9777 [==============================] - 304s 31ms/step - loss: 0.2274 - acc: 0.9205 - val_loss: 0.9603 - val_acc: 0.7946\n",
            "Epoch 91/100\n",
            "9777/9777 [==============================] - 292s 30ms/step - loss: 0.1461 - acc: 0.9493 - val_loss: 1.2251 - val_acc: 0.8172\n",
            "Epoch 92/100\n",
            "9777/9777 [==============================] - 287s 29ms/step - loss: 0.1510 - acc: 0.9480 - val_loss: 1.0135 - val_acc: 0.7989\n",
            "Epoch 93/100\n",
            "9777/9777 [==============================] - 281s 29ms/step - loss: 0.1482 - acc: 0.9476 - val_loss: 1.2181 - val_acc: 0.7981\n",
            "Epoch 94/100\n",
            "9777/9777 [==============================] - 280s 29ms/step - loss: 0.4152 - acc: 0.8937 - val_loss: 1.5624 - val_acc: 0.5631\n",
            "Epoch 95/100\n",
            "9777/9777 [==============================] - 283s 29ms/step - loss: 0.9037 - acc: 0.6239 - val_loss: 0.9390 - val_acc: 0.6292\n",
            "Epoch 96/100\n",
            "9777/9777 [==============================] - 288s 29ms/step - loss: 0.6119 - acc: 0.7318 - val_loss: 0.9005 - val_acc: 0.7175\n",
            "Epoch 97/100\n",
            "9777/9777 [==============================] - 287s 29ms/step - loss: 0.3781 - acc: 0.8445 - val_loss: 0.8905 - val_acc: 0.7733\n",
            "Epoch 98/100\n",
            "9777/9777 [==============================] - 290s 30ms/step - loss: 0.2625 - acc: 0.9013 - val_loss: 0.8880 - val_acc: 0.7958\n",
            "Epoch 99/100\n",
            "9777/9777 [==============================] - 292s 30ms/step - loss: 0.2059 - acc: 0.9251 - val_loss: 1.0702 - val_acc: 0.8008\n",
            "Epoch 100/100\n",
            "9777/9777 [==============================] - 288s 29ms/step - loss: 0.1725 - acc: 0.9405 - val_loss: 1.2455 - val_acc: 0.7938\n"
          ],
          "name": "stdout"
        },
        {
          "output_type": "execute_result",
          "data": {
            "application/vnd.google.colaboratory.intrinsic+json": {
              "type": "string"
            },
            "text/plain": [
              "'#Train\\nhistory=model.fit_generator(trainGen,\\n                    steps_per_epoch=300,\\n                    epochs=100,\\n                    validation_data=(X_test, y_test) \\n                    validation_steps=60)'"
            ]
          },
          "metadata": {
            "tags": []
          },
          "execution_count": 8
        }
      ]
    },
    {
      "cell_type": "markdown",
      "metadata": {
        "id": "BITyR1WVjTJ8",
        "colab_type": "text"
      },
      "source": [
        "## 예측 만들기"
      ]
    },
    {
      "cell_type": "markdown",
      "metadata": {
        "id": "J94ty7hhxWRg",
        "colab_type": "text"
      },
      "source": [
        ""
      ]
    },
    {
      "cell_type": "code",
      "metadata": {
        "id": "jt3gP9Wcjaph",
        "colab_type": "code",
        "colab": {
          "base_uri": "https://localhost:8080/",
          "height": 58
        },
        "outputId": "99984072-00b9-444b-e1e7-544c38fc5c7d"
      },
      "source": [
        "print(\"정확도 : %.4f\" % (model.evaluate(X_test, y_test)[1]))"
      ],
      "execution_count": null,
      "outputs": [
        {
          "output_type": "stream",
          "text": [
            "4191/4191 [==============================] - 36s 9ms/step\n",
            "정확도 : 0.7938\n"
          ],
          "name": "stdout"
        }
      ]
    },
    {
      "cell_type": "code",
      "metadata": {
        "id": "Qr5k-QIQhFe8",
        "colab_type": "code",
        "colab": {
          "base_uri": "https://localhost:8080/",
          "height": 37
        },
        "outputId": "ee449276-6a5b-4ab7-c99c-8d0426fc02b7"
      },
      "source": [
        "\n",
        "validationGen = imageGenerator.flow_from_directory('/content/drive/My Drive/CTRC/test',\n",
        "                                                  target_size=(64,64),\n",
        "                                                  batch_size=3,\n",
        "                                                   class_mode='categorical')"
      ],
      "execution_count": null,
      "outputs": [
        {
          "output_type": "stream",
          "text": [
            "Found 1961 images belonging to 4 classes.\n"
          ],
          "name": "stdout"
        }
      ]
    },
    {
      "cell_type": "code",
      "metadata": {
        "id": "vrV2VTVUX3vg",
        "colab_type": "code",
        "colab": {
          "base_uri": "https://localhost:8080/",
          "height": 121
        },
        "outputId": "c187b080-2a6f-430b-998b-f06d9402d01c"
      },
      "source": [
        "from sklearn.metrics import confusion_matrix\n",
        "\n",
        "#Confution Matrix and Classification Report\n",
        "Y_pred = model.predict_generator(validationGen, 654)\n",
        "y_pred = np.argmax(Y_pred, axis=1)\n",
        "\n",
        "print('Confusion Matrix')\n",
        "print(confusion_matrix(validationGen.classes, y_pred))\n"
      ],
      "execution_count": null,
      "outputs": [
        {
          "output_type": "stream",
          "text": [
            "Confusion Matrix\n",
            "[[225  34  23 130]\n",
            " [ 85  17  11  37]\n",
            " [139  27  22  74]\n",
            " [597 138  84 318]]\n"
          ],
          "name": "stdout"
        }
      ]
    },
    {
      "cell_type": "code",
      "metadata": {
        "id": "WYgtHHn65wxm",
        "colab_type": "code",
        "colab": {
          "base_uri": "https://localhost:8080/",
          "height": 331
        },
        "outputId": "ff2b8b0a-f588-492f-d0dd-9947a99aa14d"
      },
      "source": [
        "import sklearn.metrics as metrics\n",
        "\n",
        "print(metrics.confusion_matrix(validationGen.classes, y_pred))\n",
        "\n",
        "print(metrics.classification_report(validationGen.classes, y_pred))"
      ],
      "execution_count": null,
      "outputs": [
        {
          "output_type": "stream",
          "text": [
            "[[225  34  23 130]\n",
            " [ 85  17  11  37]\n",
            " [139  27  22  74]\n",
            " [597 138  84 318]]\n",
            "              precision    recall  f1-score   support\n",
            "\n",
            "           0       0.22      0.55      0.31       412\n",
            "           1       0.08      0.11      0.09       150\n",
            "           2       0.16      0.08      0.11       262\n",
            "           3       0.57      0.28      0.38      1137\n",
            "\n",
            "    accuracy                           0.30      1961\n",
            "   macro avg       0.25      0.26      0.22      1961\n",
            "weighted avg       0.40      0.30      0.30      1961\n",
            "\n"
          ],
          "name": "stdout"
        }
      ]
    },
    {
      "cell_type": "code",
      "metadata": {
        "id": "hohNPjQf7U5O",
        "colab_type": "code",
        "colab": {}
      },
      "source": [
        ""
      ],
      "execution_count": null,
      "outputs": []
    },
    {
      "cell_type": "code",
      "metadata": {
        "id": "GrVWxw20K-tG",
        "colab_type": "code",
        "colab": {
          "base_uri": "https://localhost:8080/",
          "height": 226
        },
        "outputId": "43785573-294c-4156-f60f-6ad896df7e85"
      },
      "source": [
        "\n",
        "print('Classification Report')\n",
        "target_names = ['cancer', 'precancer', 'extra','normal']\n",
        "print(classification_report(validationGen.classes, y_pred, target_names=target_names))"
      ],
      "execution_count": null,
      "outputs": [
        {
          "output_type": "stream",
          "text": [
            "Classification Report\n"
          ],
          "name": "stdout"
        },
        {
          "output_type": "error",
          "ename": "NameError",
          "evalue": "ignored",
          "traceback": [
            "\u001b[0;31m---------------------------------------------------------------------------\u001b[0m",
            "\u001b[0;31mNameError\u001b[0m                                 Traceback (most recent call last)",
            "\u001b[0;32m<ipython-input-19-b663c3058a01>\u001b[0m in \u001b[0;36m<module>\u001b[0;34m()\u001b[0m\n\u001b[1;32m      2\u001b[0m \u001b[0mprint\u001b[0m\u001b[0;34m(\u001b[0m\u001b[0;34m'Classification Report'\u001b[0m\u001b[0;34m)\u001b[0m\u001b[0;34m\u001b[0m\u001b[0;34m\u001b[0m\u001b[0m\n\u001b[1;32m      3\u001b[0m \u001b[0mtarget_names\u001b[0m \u001b[0;34m=\u001b[0m \u001b[0;34m[\u001b[0m\u001b[0;34m'cancer'\u001b[0m\u001b[0;34m,\u001b[0m \u001b[0;34m'precancer'\u001b[0m\u001b[0;34m,\u001b[0m \u001b[0;34m'extra'\u001b[0m\u001b[0;34m,\u001b[0m\u001b[0;34m'normal'\u001b[0m\u001b[0;34m]\u001b[0m\u001b[0;34m\u001b[0m\u001b[0;34m\u001b[0m\u001b[0m\n\u001b[0;32m----> 4\u001b[0;31m \u001b[0mprint\u001b[0m\u001b[0;34m(\u001b[0m\u001b[0mclassification_report\u001b[0m\u001b[0;34m(\u001b[0m\u001b[0mvalidationGen\u001b[0m\u001b[0;34m.\u001b[0m\u001b[0mclasses\u001b[0m\u001b[0;34m,\u001b[0m \u001b[0my_pred\u001b[0m\u001b[0;34m,\u001b[0m \u001b[0mtarget_names\u001b[0m\u001b[0;34m=\u001b[0m\u001b[0mtarget_names\u001b[0m\u001b[0;34m)\u001b[0m\u001b[0;34m)\u001b[0m\u001b[0;34m\u001b[0m\u001b[0;34m\u001b[0m\u001b[0m\n\u001b[0m",
            "\u001b[0;31mNameError\u001b[0m: name 'classification_report' is not defined"
          ]
        }
      ]
    },
    {
      "cell_type": "code",
      "metadata": {
        "id": "NlKVAN_d9Jl1",
        "colab_type": "code",
        "colab": {
          "base_uri": "https://localhost:8080/",
          "height": 899
        },
        "outputId": "9af16158-5cae-4ae5-aaee-ed4fbf580a4c"
      },
      "source": [
        "img_to_array(img)"
      ],
      "execution_count": null,
      "outputs": [
        {
          "output_type": "execute_result",
          "data": {
            "text/plain": [
              "array([[[148.,  22.,  46.],\n",
              "        [148.,  22.,  46.],\n",
              "        [149.,  23.,  47.],\n",
              "        ...,\n",
              "        [210., 116., 168.],\n",
              "        [234., 142., 194.],\n",
              "        [233., 140., 193.]],\n",
              "\n",
              "       [[147.,  23.,  47.],\n",
              "        [148.,  24.,  48.],\n",
              "        [148.,  24.,  48.],\n",
              "        ...,\n",
              "        [214., 120., 173.],\n",
              "        [235., 142., 195.],\n",
              "        [230., 138., 192.]],\n",
              "\n",
              "       [[144.,  21.,  45.],\n",
              "        [145.,  21.,  45.],\n",
              "        [145.,  22.,  46.],\n",
              "        ...,\n",
              "        [218., 122., 178.],\n",
              "        [235., 141., 197.],\n",
              "        [228., 136., 192.]],\n",
              "\n",
              "       ...,\n",
              "\n",
              "       [[ 80.,  24.,  33.],\n",
              "        [ 82.,  25.,  34.],\n",
              "        [ 81.,  24.,  33.],\n",
              "        ...,\n",
              "        [102.,  14.,  29.],\n",
              "        [104.,  16.,  30.],\n",
              "        [106.,  18.,  30.]],\n",
              "\n",
              "       [[ 81.,  25.,  34.],\n",
              "        [ 83.,  26.,  35.],\n",
              "        [ 80.,  24.,  32.],\n",
              "        ...,\n",
              "        [104.,  16.,  30.],\n",
              "        [107.,  19.,  33.],\n",
              "        [107.,  19.,  32.]],\n",
              "\n",
              "       [[ 82.,  25.,  34.],\n",
              "        [ 83.,  26.,  35.],\n",
              "        [ 81.,  23.,  32.],\n",
              "        ...,\n",
              "        [104.,  16.,  31.],\n",
              "        [107.,  19.,  33.],\n",
              "        [107.,  19.,  32.]]], dtype=float32)"
            ]
          },
          "metadata": {
            "tags": []
          },
          "execution_count": 28
        }
      ]
    },
    {
      "cell_type": "code",
      "metadata": {
        "id": "NKXhm3qC9Y8k",
        "colab_type": "code",
        "colab": {
          "base_uri": "https://localhost:8080/",
          "height": 81
        },
        "outputId": "e7541209-0661-418e-859a-91991b62d9c5"
      },
      "source": [
        "img"
      ],
      "execution_count": null,
      "outputs": [
        {
          "output_type": "execute_result",
          "data": {
            "image/png": "[encoded data removed]",
            "text/plain": [
              "<PIL.Image.Image image mode=RGB size=64x64 at 0x7F10749B1710>"
            ]
          },
          "metadata": {
            "tags": []
          },
          "execution_count": 30
        }
      ]
    },
    {
      "cell_type": "code",
      "metadata": {
        "id": "ofILoFWw61bu",
        "colab_type": "code",
        "colab": {
          "base_uri": "https://localhost:8080/",
          "height": 755
        },
        "outputId": "3111b77d-d67c-4877-ee62-65739dff8b8c"
      },
      "source": [
        "\n",
        "title = 'test'\n",
        "cmap=plt.cm.Greens\n",
        "plt.figure(figsize=(6, 6))\n",
        "plt.imshow(confusion_matrix, interpolation='nearest', cmap=cmap)  # , cmap=plt.cm.Greens\n",
        "plt.title(title, size=12)\n",
        "plt.colorbar(fraction=0.05, pad=0.05)\n",
        "tick_marks = np.arange(3, 3)\n",
        "plt.xticks(np.arange(4), (\"1. Cancer\",\"2. Precancer\",\"3. Extra\",\"4. Normal\"))\n",
        "plt.yticks(np.arange(4), (\"1. Cancer\",\"2. Precancer\",\"3. Extra\",\"4. Normal\"))\n",
        "\n",
        "fmt = 'd' \n",
        "thresh = 1\n",
        "for i in range(confusion_matrix.shape[0]):\n",
        "    for j in range(confusion_matrix.shape[1]):\n",
        "        plt.text(j, i, format(confusion_matrix[i, j], fmt),\n",
        "                 ha=\"center\", va=\"center\", \n",
        "                 color=\"white\" if confusion_matrix[i, j] > thresh else \"black\")  #horizontalalignment"
      ],
      "execution_count": null,
      "outputs": [
        {
          "output_type": "error",
          "ename": "TypeError",
          "evalue": "ignored",
          "traceback": [
            "\u001b[0;31m---------------------------------------------------------------------------\u001b[0m",
            "\u001b[0;31mTypeError\u001b[0m                                 Traceback (most recent call last)",
            "\u001b[0;32m<ipython-input-29-5fba0b5b57a7>\u001b[0m in \u001b[0;36m<module>\u001b[0;34m()\u001b[0m\n\u001b[1;32m      3\u001b[0m \u001b[0mcmap\u001b[0m\u001b[0;34m=\u001b[0m\u001b[0mplt\u001b[0m\u001b[0;34m.\u001b[0m\u001b[0mcm\u001b[0m\u001b[0;34m.\u001b[0m\u001b[0mGreens\u001b[0m\u001b[0;34m\u001b[0m\u001b[0;34m\u001b[0m\u001b[0m\n\u001b[1;32m      4\u001b[0m \u001b[0mplt\u001b[0m\u001b[0;34m.\u001b[0m\u001b[0mfigure\u001b[0m\u001b[0;34m(\u001b[0m\u001b[0mfigsize\u001b[0m\u001b[0;34m=\u001b[0m\u001b[0;34m(\u001b[0m\u001b[0;36m6\u001b[0m\u001b[0;34m,\u001b[0m \u001b[0;36m6\u001b[0m\u001b[0;34m)\u001b[0m\u001b[0;34m)\u001b[0m\u001b[0;34m\u001b[0m\u001b[0;34m\u001b[0m\u001b[0m\n\u001b[0;32m----> 5\u001b[0;31m \u001b[0mplt\u001b[0m\u001b[0;34m.\u001b[0m\u001b[0mimshow\u001b[0m\u001b[0;34m(\u001b[0m\u001b[0mconfusion_matrix\u001b[0m\u001b[0;34m,\u001b[0m \u001b[0minterpolation\u001b[0m\u001b[0;34m=\u001b[0m\u001b[0;34m'nearest'\u001b[0m\u001b[0;34m,\u001b[0m \u001b[0mcmap\u001b[0m\u001b[0;34m=\u001b[0m\u001b[0mcmap\u001b[0m\u001b[0;34m)\u001b[0m  \u001b[0;31m# , cmap=plt.cm.Greens\u001b[0m\u001b[0;34m\u001b[0m\u001b[0;34m\u001b[0m\u001b[0m\n\u001b[0m\u001b[1;32m      6\u001b[0m \u001b[0mplt\u001b[0m\u001b[0;34m.\u001b[0m\u001b[0mtitle\u001b[0m\u001b[0;34m(\u001b[0m\u001b[0mtitle\u001b[0m\u001b[0;34m,\u001b[0m \u001b[0msize\u001b[0m\u001b[0;34m=\u001b[0m\u001b[0;36m12\u001b[0m\u001b[0;34m)\u001b[0m\u001b[0;34m\u001b[0m\u001b[0;34m\u001b[0m\u001b[0m\n\u001b[1;32m      7\u001b[0m \u001b[0mplt\u001b[0m\u001b[0;34m.\u001b[0m\u001b[0mcolorbar\u001b[0m\u001b[0;34m(\u001b[0m\u001b[0mfraction\u001b[0m\u001b[0;34m=\u001b[0m\u001b[0;36m0.05\u001b[0m\u001b[0;34m,\u001b[0m \u001b[0mpad\u001b[0m\u001b[0;34m=\u001b[0m\u001b[0;36m0.05\u001b[0m\u001b[0;34m)\u001b[0m\u001b[0;34m\u001b[0m\u001b[0;34m\u001b[0m\u001b[0m\n",
            "\u001b[0;32m/usr/local/lib/python3.6/dist-packages/matplotlib/pyplot.py\u001b[0m in \u001b[0;36mimshow\u001b[0;34m(X, cmap, norm, aspect, interpolation, alpha, vmin, vmax, origin, extent, shape, filternorm, filterrad, imlim, resample, url, data, **kwargs)\u001b[0m\n\u001b[1;32m   2649\u001b[0m         \u001b[0mfilternorm\u001b[0m\u001b[0;34m=\u001b[0m\u001b[0mfilternorm\u001b[0m\u001b[0;34m,\u001b[0m \u001b[0mfilterrad\u001b[0m\u001b[0;34m=\u001b[0m\u001b[0mfilterrad\u001b[0m\u001b[0;34m,\u001b[0m \u001b[0mimlim\u001b[0m\u001b[0;34m=\u001b[0m\u001b[0mimlim\u001b[0m\u001b[0;34m,\u001b[0m\u001b[0;34m\u001b[0m\u001b[0;34m\u001b[0m\u001b[0m\n\u001b[1;32m   2650\u001b[0m         resample=resample, url=url, **({\"data\": data} if data is not\n\u001b[0;32m-> 2651\u001b[0;31m         None else {}), **kwargs)\n\u001b[0m\u001b[1;32m   2652\u001b[0m     \u001b[0msci\u001b[0m\u001b[0;34m(\u001b[0m\u001b[0m__ret\u001b[0m\u001b[0;34m)\u001b[0m\u001b[0;34m\u001b[0m\u001b[0;34m\u001b[0m\u001b[0m\n\u001b[1;32m   2653\u001b[0m     \u001b[0;32mreturn\u001b[0m \u001b[0m__ret\u001b[0m\u001b[0;34m\u001b[0m\u001b[0;34m\u001b[0m\u001b[0m\n",
            "\u001b[0;32m/usr/local/lib/python3.6/dist-packages/matplotlib/__init__.py\u001b[0m in \u001b[0;36minner\u001b[0;34m(ax, data, *args, **kwargs)\u001b[0m\n\u001b[1;32m   1563\u001b[0m     \u001b[0;32mdef\u001b[0m \u001b[0minner\u001b[0m\u001b[0;34m(\u001b[0m\u001b[0max\u001b[0m\u001b[0;34m,\u001b[0m \u001b[0;34m*\u001b[0m\u001b[0margs\u001b[0m\u001b[0;34m,\u001b[0m \u001b[0mdata\u001b[0m\u001b[0;34m=\u001b[0m\u001b[0;32mNone\u001b[0m\u001b[0;34m,\u001b[0m \u001b[0;34m**\u001b[0m\u001b[0mkwargs\u001b[0m\u001b[0;34m)\u001b[0m\u001b[0;34m:\u001b[0m\u001b[0;34m\u001b[0m\u001b[0;34m\u001b[0m\u001b[0m\n\u001b[1;32m   1564\u001b[0m         \u001b[0;32mif\u001b[0m \u001b[0mdata\u001b[0m \u001b[0;32mis\u001b[0m \u001b[0;32mNone\u001b[0m\u001b[0;34m:\u001b[0m\u001b[0;34m\u001b[0m\u001b[0;34m\u001b[0m\u001b[0m\n\u001b[0;32m-> 1565\u001b[0;31m             \u001b[0;32mreturn\u001b[0m \u001b[0mfunc\u001b[0m\u001b[0;34m(\u001b[0m\u001b[0max\u001b[0m\u001b[0;34m,\u001b[0m \u001b[0;34m*\u001b[0m\u001b[0mmap\u001b[0m\u001b[0;34m(\u001b[0m\u001b[0msanitize_sequence\u001b[0m\u001b[0;34m,\u001b[0m \u001b[0margs\u001b[0m\u001b[0;34m)\u001b[0m\u001b[0;34m,\u001b[0m \u001b[0;34m**\u001b[0m\u001b[0mkwargs\u001b[0m\u001b[0;34m)\u001b[0m\u001b[0;34m\u001b[0m\u001b[0;34m\u001b[0m\u001b[0m\n\u001b[0m\u001b[1;32m   1566\u001b[0m \u001b[0;34m\u001b[0m\u001b[0m\n\u001b[1;32m   1567\u001b[0m         \u001b[0mbound\u001b[0m \u001b[0;34m=\u001b[0m \u001b[0mnew_sig\u001b[0m\u001b[0;34m.\u001b[0m\u001b[0mbind\u001b[0m\u001b[0;34m(\u001b[0m\u001b[0max\u001b[0m\u001b[0;34m,\u001b[0m \u001b[0;34m*\u001b[0m\u001b[0margs\u001b[0m\u001b[0;34m,\u001b[0m \u001b[0;34m**\u001b[0m\u001b[0mkwargs\u001b[0m\u001b[0;34m)\u001b[0m\u001b[0;34m\u001b[0m\u001b[0;34m\u001b[0m\u001b[0m\n",
            "\u001b[0;32m/usr/local/lib/python3.6/dist-packages/matplotlib/cbook/deprecation.py\u001b[0m in \u001b[0;36mwrapper\u001b[0;34m(*args, **kwargs)\u001b[0m\n\u001b[1;32m    356\u001b[0m                 \u001b[0;34mf\"%(removal)s.  If any parameter follows {name!r}, they \"\u001b[0m\u001b[0;34m\u001b[0m\u001b[0;34m\u001b[0m\u001b[0m\n\u001b[1;32m    357\u001b[0m                 f\"should be pass as keyword, not positionally.\")\n\u001b[0;32m--> 358\u001b[0;31m         \u001b[0;32mreturn\u001b[0m \u001b[0mfunc\u001b[0m\u001b[0;34m(\u001b[0m\u001b[0;34m*\u001b[0m\u001b[0margs\u001b[0m\u001b[0;34m,\u001b[0m \u001b[0;34m**\u001b[0m\u001b[0mkwargs\u001b[0m\u001b[0;34m)\u001b[0m\u001b[0;34m\u001b[0m\u001b[0;34m\u001b[0m\u001b[0m\n\u001b[0m\u001b[1;32m    359\u001b[0m \u001b[0;34m\u001b[0m\u001b[0m\n\u001b[1;32m    360\u001b[0m     \u001b[0;32mreturn\u001b[0m \u001b[0mwrapper\u001b[0m\u001b[0;34m\u001b[0m\u001b[0;34m\u001b[0m\u001b[0m\n",
            "\u001b[0;32m/usr/local/lib/python3.6/dist-packages/matplotlib/cbook/deprecation.py\u001b[0m in \u001b[0;36mwrapper\u001b[0;34m(*args, **kwargs)\u001b[0m\n\u001b[1;32m    356\u001b[0m                 \u001b[0;34mf\"%(removal)s.  If any parameter follows {name!r}, they \"\u001b[0m\u001b[0;34m\u001b[0m\u001b[0;34m\u001b[0m\u001b[0m\n\u001b[1;32m    357\u001b[0m                 f\"should be pass as keyword, not positionally.\")\n\u001b[0;32m--> 358\u001b[0;31m         \u001b[0;32mreturn\u001b[0m \u001b[0mfunc\u001b[0m\u001b[0;34m(\u001b[0m\u001b[0;34m*\u001b[0m\u001b[0margs\u001b[0m\u001b[0;34m,\u001b[0m \u001b[0;34m**\u001b[0m\u001b[0mkwargs\u001b[0m\u001b[0;34m)\u001b[0m\u001b[0;34m\u001b[0m\u001b[0;34m\u001b[0m\u001b[0m\n\u001b[0m\u001b[1;32m    359\u001b[0m \u001b[0;34m\u001b[0m\u001b[0m\n\u001b[1;32m    360\u001b[0m     \u001b[0;32mreturn\u001b[0m \u001b[0mwrapper\u001b[0m\u001b[0;34m\u001b[0m\u001b[0;34m\u001b[0m\u001b[0m\n",
            "\u001b[0;32m/usr/local/lib/python3.6/dist-packages/matplotlib/axes/_axes.py\u001b[0m in \u001b[0;36mimshow\u001b[0;34m(self, X, cmap, norm, aspect, interpolation, alpha, vmin, vmax, origin, extent, shape, filternorm, filterrad, imlim, resample, url, **kwargs)\u001b[0m\n\u001b[1;32m   5624\u001b[0m                               resample=resample, **kwargs)\n\u001b[1;32m   5625\u001b[0m \u001b[0;34m\u001b[0m\u001b[0m\n\u001b[0;32m-> 5626\u001b[0;31m         \u001b[0mim\u001b[0m\u001b[0;34m.\u001b[0m\u001b[0mset_data\u001b[0m\u001b[0;34m(\u001b[0m\u001b[0mX\u001b[0m\u001b[0;34m)\u001b[0m\u001b[0;34m\u001b[0m\u001b[0;34m\u001b[0m\u001b[0m\n\u001b[0m\u001b[1;32m   5627\u001b[0m         \u001b[0mim\u001b[0m\u001b[0;34m.\u001b[0m\u001b[0mset_alpha\u001b[0m\u001b[0;34m(\u001b[0m\u001b[0malpha\u001b[0m\u001b[0;34m)\u001b[0m\u001b[0;34m\u001b[0m\u001b[0;34m\u001b[0m\u001b[0m\n\u001b[1;32m   5628\u001b[0m         \u001b[0;32mif\u001b[0m \u001b[0mim\u001b[0m\u001b[0;34m.\u001b[0m\u001b[0mget_clip_path\u001b[0m\u001b[0;34m(\u001b[0m\u001b[0;34m)\u001b[0m \u001b[0;32mis\u001b[0m \u001b[0;32mNone\u001b[0m\u001b[0;34m:\u001b[0m\u001b[0;34m\u001b[0m\u001b[0;34m\u001b[0m\u001b[0m\n",
            "\u001b[0;32m/usr/local/lib/python3.6/dist-packages/matplotlib/image.py\u001b[0m in \u001b[0;36mset_data\u001b[0;34m(self, A)\u001b[0m\n\u001b[1;32m    692\u001b[0m                 not np.can_cast(self._A.dtype, float, \"same_kind\")):\n\u001b[1;32m    693\u001b[0m             raise TypeError(\"Image data of dtype {} cannot be converted to \"\n\u001b[0;32m--> 694\u001b[0;31m                             \"float\".format(self._A.dtype))\n\u001b[0m\u001b[1;32m    695\u001b[0m \u001b[0;34m\u001b[0m\u001b[0m\n\u001b[1;32m    696\u001b[0m         if not (self._A.ndim == 2\n",
            "\u001b[0;31mTypeError\u001b[0m: Image data of dtype object cannot be converted to float"
          ]
        },
        {
          "output_type": "display_data",
          "data": {
            "image/png": "[encoded data removed]",
            "text/plain": [
              "<Figure size 432x432 with 1 Axes>"
            ]
          },
          "metadata": {
            "tags": [],
            "needs_background": "light"
          }
        }
      ]
    },
    {
      "cell_type": "markdown",
      "metadata": {
        "id": "fOcIWHLgWMIS",
        "colab_type": "text"
      },
      "source": [
        ""
      ]
    },
    {
      "cell_type": "markdown",
      "metadata": {
        "id": "dQyZ1iPQOyu7",
        "colab_type": "text"
      },
      "source": [
        "## 모델을 이용해 새로운 이미지를 분류하기"
      ]
    },
    {
      "cell_type": "code",
      "metadata": {
        "id": "eiATXxnBj3oR",
        "colab_type": "code",
        "colab": {}
      },
      "source": [
        "from PIL import Image\n",
        "import os, glob, numpy as np\n",
        "from keras.models import load_model\n",
        "\n",
        "caltech_dir = \"/content/drive/My Drive/CTRC/train/multi_img_data/imgs_others_test\"\n",
        "image_w = 64\n",
        "image_h = 64\n",
        "\n",
        "pixels = image_h * image_w * 3\n",
        "\n",
        "\n",
        "#테스트할 이미지를 변환할 소스\n",
        "X = []\n",
        "filenames = []\n",
        "files = glob.glob(caltech_dir+\"/*.*\")\n",
        "for i, f in enumerate(files):\n",
        "    img = Image.open(f)\n",
        "    img = img.convert(\"RGB\")\n",
        "    img = img.resize((image_w, image_h))\n",
        "    data = np.asarray(img)\n",
        "    filenames.append(f)\n",
        "    X.append(data)\n",
        "\n",
        "X = np.array(X)\n",
        "X = X.reshape(X.shape[0], 64,64,3)\n",
        "#model = load_model( './model/multi_img_classification.model')\n",
        "\n",
        "\n",
        "#해당 이미지 predict\n",
        "prediction = model.predict(X)\n",
        "np.set_printoptions(formatter={'float': lambda x: \"{0:0.3f}\".format(x)})\n",
        "cnt = 0"
      ],
      "execution_count": null,
      "outputs": []
    },
    {
      "cell_type": "code",
      "metadata": {
        "id": "n06sVosJj3lM",
        "colab_type": "code",
        "colab": {}
      },
      "source": [
        ""
      ],
      "execution_count": null,
      "outputs": []
    },
    {
      "cell_type": "code",
      "metadata": {
        "id": "atilE7sX0yGz",
        "colab_type": "code",
        "colab": {
          "base_uri": "https://localhost:8080/",
          "height": 197
        },
        "outputId": "005e3b31-6604-4bb3-95ce-fb5de0086136"
      },
      "source": [
        "#저장된 모델구조와 모델 가중치를 불러옵니다.\n",
        "\n",
        "from keras.models import load_model\n",
        "\n",
        "#model=load_model('project.h5')\n",
        "\n",
        "\n",
        "\n",
        "trainGen = imageGenerator.flow_from_directory('/content/drive/My Drive/CTRC/train',\n",
        "                                                  target_size=(64,64),\n",
        "                                                  batch_size=3,\n",
        "                                                   class_mode='categorical')\n",
        "\n",
        "\n",
        "\n",
        "print(\"--Predict--\")\n",
        "\n",
        "output=model.predict_generator(trainGen,steps=220)\n",
        "\n",
        "np.set_printoptions(formatter={'float':lambda x:\"{0:0.3f}\".format(x)})\n",
        "\n",
        "print(trainGen.class_indices)\n",
        "\n",
        "print(output)\n"
      ],
      "execution_count": null,
      "outputs": [
        {
          "output_type": "stream",
          "text": [
            "Found 11762 images belonging to 4 classes.\n",
            "--Predict--\n",
            "{'1. Cancer': 0, '2. Precancer': 1, '3. Extra': 2, '4. Normal': 3}\n",
            "[[0.053 0.111 0.344 0.492]\n",
            " [0.003 0.091 0.733 0.173]\n",
            " [0.000 0.000 0.000 1.000]\n",
            " ...\n",
            " [0.409 0.271 0.301 0.019]\n",
            " [0.697 0.233 0.070 0.000]\n",
            " [0.000 0.000 0.000 1.000]]\n"
          ],
          "name": "stdout"
        }
      ]
    },
    {
      "cell_type": "code",
      "metadata": {
        "id": "qBCM9KPDDJHO",
        "colab_type": "code",
        "colab": {
          "base_uri": "https://localhost:8080/",
          "height": 35
        },
        "outputId": "b816ceba-6422-4f63-ee8a-ba7e6fcc1f8e"
      },
      "source": [
        "testGen = imageGenerator.flow_from_directory('/content/drive/My Drive/CTRC/test',\n",
        "                                                  target_size=(64,64),\n",
        "                                                  batch_size=3,\n",
        "                                                   class_mode='categorical')"
      ],
      "execution_count": null,
      "outputs": [
        {
          "output_type": "stream",
          "text": [
            "Found 1961 images belonging to 4 classes.\n"
          ],
          "name": "stdout"
        }
      ]
    },
    {
      "cell_type": "code",
      "metadata": {
        "id": "ZpOWX84PoKT4",
        "colab_type": "code",
        "colab": {}
      },
      "source": [
        "from tensorflow.keras.preprocessing.image import array_to_img\n",
        "import numpy as np\n",
        "\n",
        "cls_index = ['1. Cancer', '2. Precancer','3. Extra','4. Normal']\n",
        "\n",
        "imgs = testGen.next()\n",
        "arr = imgs[0][0]\n",
        "\n",
        "\n",
        "img = array_to_img(arr).resize((128, 128))"
      ],
      "execution_count": null,
      "outputs": []
    },
    {
      "cell_type": "code",
      "metadata": {
        "id": "PWR7EmL-oKQ7",
        "colab_type": "code",
        "colab": {}
      },
      "source": [
        ""
      ],
      "execution_count": null,
      "outputs": []
    },
    {
      "cell_type": "markdown",
      "metadata": {
        "id": "D8JCzkgVK3Iu",
        "colab_type": "text"
      },
      "source": [
        "## 성능 그래프 그리기"
      ]
    },
    {
      "cell_type": "code",
      "metadata": {
        "id": "uJH-rKjKWCuy",
        "colab_type": "code",
        "colab": {
          "base_uri": "https://localhost:8080/",
          "height": 279
        },
        "outputId": "e4577f71-b977-458a-ed89-3591a12fa45f"
      },
      "source": [
        "y_vloss = history.history['val_loss']\n",
        "y_loss = history.history['loss']\n",
        "\n",
        "x_len = np.arange(len(y_loss))\n",
        "\n",
        "plt.plot(x_len, y_vloss, marker='.', c='red', label='val_set_loss')\n",
        "plt.plot(x_len, y_loss, marker='.', c='blue', label='train_set_oss')\n",
        "plt.legend()\n",
        "plt.xlabel('epochs')\n",
        "plt.ylabel('loss')\n",
        "plt.grid()\n",
        "plt.show()"
      ],
      "execution_count": null,
      "outputs": [
        {
          "output_type": "display_data",
          "data": {
            "image/png": "[encoded data removed]",
            "text/plain": [
              "<Figure size 432x288 with 1 Axes>"
            ]
          },
          "metadata": {
            "tags": [],
            "needs_background": "light"
          }
        }
      ]
    },
    {
      "cell_type": "code",
      "metadata": {
        "id": "m1hkvrJRoeId",
        "colab_type": "code",
        "colab": {
          "base_uri": "https://localhost:8080/",
          "height": 295
        },
        "outputId": "ad2ec9fa-56ff-4b93-a623-f109b4cf1bba"
      },
      "source": [
        "plt.clf() # 그래프를 초기화합니다.\n",
        "acc = history.history['acc']\n",
        "val_acc = history.history['val_acc']\n",
        "\n",
        "plt.plot(x_len, acc, 'bo', label='Training acc')\n",
        "plt.plot(x_len, val_acc, 'b', label='Validation acc')\n",
        "plt.title('Training and validation accuracy')\n",
        "plt.xlabel('Epochs')\n",
        "plt.ylabel('Accuracy')\n",
        "plt.legend()\n",
        "\n",
        "plt.show()"
      ],
      "execution_count": null,
      "outputs": [
        {
          "output_type": "display_data",
          "data": {
            "image/png": "[encoded data removed]",
            "text/plain": [
              "<Figure size 432x288 with 1 Axes>"
            ]
          },
          "metadata": {
            "tags": [],
            "needs_background": "light"
          }
        }
      ]
    },
    {
      "cell_type": "code",
      "metadata": {
        "id": "Ic4vQQoUooLt",
        "colab_type": "code",
        "colab": {
          "base_uri": "https://localhost:8080/",
          "height": 394
        },
        "outputId": "ef0d1b30-cef1-489c-dfa6-a4befdbed002"
      },
      "source": [
        "import numpy as np\n",
        "import sklearn.metrics as metrics\n",
        "\n",
        "\n",
        "\n",
        "y = trainGen \n",
        "\n",
        "p = output\n",
        "\n",
        "\n",
        "\n",
        "accuracy = np.mean(np.equal(y,p))\n",
        "\n",
        "right = np.sum(y * p == 1)\n",
        "\n",
        "precision = right / np.sum(p)\n",
        "\n",
        "recall = right / np.sum(y)\n",
        "\n",
        "f1 = 2 * precision*recall/(precision+recall)\n",
        "\n",
        "\n",
        "\n",
        "print('accuracy',accuracy)\n",
        "\n",
        "print('precision', precision)\n",
        "\n",
        "print('recall', recall)\n",
        "\n",
        "print('f1', f1)\n",
        "\n",
        "\n",
        "\n",
        "# sklearn 을 이용하면 전부 계산해준다.\n",
        "\n",
        "print('accuracy', metrics.accuracy_score(y,p) )\n",
        "\n",
        "print('precision', metrics.precision_score(y,p) )\n",
        "\n",
        "print('recall', metrics.recall_score(y,p) )\n",
        "\n",
        "print('f1', metrics.f1_score(y,p) )\n"
      ],
      "execution_count": null,
      "outputs": [
        {
          "output_type": "error",
          "ename": "KeyboardInterrupt",
          "evalue": "ignored",
          "traceback": [
            "\u001b[0;31m---------------------------------------------------------------------------\u001b[0m",
            "\u001b[0;31mKeyboardInterrupt\u001b[0m                         Traceback (most recent call last)",
            "\u001b[0;32m<ipython-input-16-772769e8a738>\u001b[0m in \u001b[0;36m<module>\u001b[0;34m()\u001b[0m\n\u001b[1;32m     10\u001b[0m \u001b[0;34m\u001b[0m\u001b[0m\n\u001b[1;32m     11\u001b[0m \u001b[0;34m\u001b[0m\u001b[0m\n\u001b[0;32m---> 12\u001b[0;31m \u001b[0maccuracy\u001b[0m \u001b[0;34m=\u001b[0m \u001b[0mnp\u001b[0m\u001b[0;34m.\u001b[0m\u001b[0mmean\u001b[0m\u001b[0;34m(\u001b[0m\u001b[0mnp\u001b[0m\u001b[0;34m.\u001b[0m\u001b[0mequal\u001b[0m\u001b[0;34m(\u001b[0m\u001b[0my\u001b[0m\u001b[0;34m,\u001b[0m\u001b[0mp\u001b[0m\u001b[0;34m)\u001b[0m\u001b[0;34m)\u001b[0m\u001b[0;34m\u001b[0m\u001b[0;34m\u001b[0m\u001b[0m\n\u001b[0m\u001b[1;32m     13\u001b[0m \u001b[0;34m\u001b[0m\u001b[0m\n\u001b[1;32m     14\u001b[0m \u001b[0mright\u001b[0m \u001b[0;34m=\u001b[0m \u001b[0mnp\u001b[0m\u001b[0;34m.\u001b[0m\u001b[0msum\u001b[0m\u001b[0;34m(\u001b[0m\u001b[0my\u001b[0m \u001b[0;34m*\u001b[0m \u001b[0mp\u001b[0m \u001b[0;34m==\u001b[0m \u001b[0;36m1\u001b[0m\u001b[0;34m)\u001b[0m\u001b[0;34m\u001b[0m\u001b[0;34m\u001b[0m\u001b[0m\n",
            "\u001b[0;32m/usr/local/lib/python3.6/dist-packages/keras_preprocessing/image/iterator.py\u001b[0m in \u001b[0;36m__next__\u001b[0;34m(self, *args, **kwargs)\u001b[0m\n\u001b[1;32m    102\u001b[0m \u001b[0;34m\u001b[0m\u001b[0m\n\u001b[1;32m    103\u001b[0m     \u001b[0;32mdef\u001b[0m \u001b[0m__next__\u001b[0m\u001b[0;34m(\u001b[0m\u001b[0mself\u001b[0m\u001b[0;34m,\u001b[0m \u001b[0;34m*\u001b[0m\u001b[0margs\u001b[0m\u001b[0;34m,\u001b[0m \u001b[0;34m**\u001b[0m\u001b[0mkwargs\u001b[0m\u001b[0;34m)\u001b[0m\u001b[0;34m:\u001b[0m\u001b[0;34m\u001b[0m\u001b[0;34m\u001b[0m\u001b[0m\n\u001b[0;32m--> 104\u001b[0;31m         \u001b[0;32mreturn\u001b[0m \u001b[0mself\u001b[0m\u001b[0;34m.\u001b[0m\u001b[0mnext\u001b[0m\u001b[0;34m(\u001b[0m\u001b[0;34m*\u001b[0m\u001b[0margs\u001b[0m\u001b[0;34m,\u001b[0m \u001b[0;34m**\u001b[0m\u001b[0mkwargs\u001b[0m\u001b[0;34m)\u001b[0m\u001b[0;34m\u001b[0m\u001b[0;34m\u001b[0m\u001b[0m\n\u001b[0m\u001b[1;32m    105\u001b[0m \u001b[0;34m\u001b[0m\u001b[0m\n\u001b[1;32m    106\u001b[0m     \u001b[0;32mdef\u001b[0m \u001b[0mnext\u001b[0m\u001b[0;34m(\u001b[0m\u001b[0mself\u001b[0m\u001b[0;34m)\u001b[0m\u001b[0;34m:\u001b[0m\u001b[0;34m\u001b[0m\u001b[0;34m\u001b[0m\u001b[0m\n",
            "\u001b[0;32m/usr/local/lib/python3.6/dist-packages/keras_preprocessing/image/iterator.py\u001b[0m in \u001b[0;36mnext\u001b[0;34m(self)\u001b[0m\n\u001b[1;32m    114\u001b[0m         \u001b[0;31m# The transformation of images is not under thread lock\u001b[0m\u001b[0;34m\u001b[0m\u001b[0;34m\u001b[0m\u001b[0;34m\u001b[0m\u001b[0m\n\u001b[1;32m    115\u001b[0m         \u001b[0;31m# so it can be done in parallel\u001b[0m\u001b[0;34m\u001b[0m\u001b[0;34m\u001b[0m\u001b[0;34m\u001b[0m\u001b[0m\n\u001b[0;32m--> 116\u001b[0;31m         \u001b[0;32mreturn\u001b[0m \u001b[0mself\u001b[0m\u001b[0;34m.\u001b[0m\u001b[0m_get_batches_of_transformed_samples\u001b[0m\u001b[0;34m(\u001b[0m\u001b[0mindex_array\u001b[0m\u001b[0;34m)\u001b[0m\u001b[0;34m\u001b[0m\u001b[0;34m\u001b[0m\u001b[0m\n\u001b[0m\u001b[1;32m    117\u001b[0m \u001b[0;34m\u001b[0m\u001b[0m\n\u001b[1;32m    118\u001b[0m     \u001b[0;32mdef\u001b[0m \u001b[0m_get_batches_of_transformed_samples\u001b[0m\u001b[0;34m(\u001b[0m\u001b[0mself\u001b[0m\u001b[0;34m,\u001b[0m \u001b[0mindex_array\u001b[0m\u001b[0;34m)\u001b[0m\u001b[0;34m:\u001b[0m\u001b[0;34m\u001b[0m\u001b[0;34m\u001b[0m\u001b[0m\n",
            "\u001b[0;32m/usr/local/lib/python3.6/dist-packages/keras_preprocessing/image/iterator.py\u001b[0m in \u001b[0;36m_get_batches_of_transformed_samples\u001b[0;34m(self, index_array)\u001b[0m\n\u001b[1;32m    228\u001b[0m                            \u001b[0mcolor_mode\u001b[0m\u001b[0;34m=\u001b[0m\u001b[0mself\u001b[0m\u001b[0;34m.\u001b[0m\u001b[0mcolor_mode\u001b[0m\u001b[0;34m,\u001b[0m\u001b[0;34m\u001b[0m\u001b[0;34m\u001b[0m\u001b[0m\n\u001b[1;32m    229\u001b[0m                            \u001b[0mtarget_size\u001b[0m\u001b[0;34m=\u001b[0m\u001b[0mself\u001b[0m\u001b[0;34m.\u001b[0m\u001b[0mtarget_size\u001b[0m\u001b[0;34m,\u001b[0m\u001b[0;34m\u001b[0m\u001b[0;34m\u001b[0m\u001b[0m\n\u001b[0;32m--> 230\u001b[0;31m                            interpolation=self.interpolation)\n\u001b[0m\u001b[1;32m    231\u001b[0m             \u001b[0mx\u001b[0m \u001b[0;34m=\u001b[0m \u001b[0mimg_to_array\u001b[0m\u001b[0;34m(\u001b[0m\u001b[0mimg\u001b[0m\u001b[0;34m,\u001b[0m \u001b[0mdata_format\u001b[0m\u001b[0;34m=\u001b[0m\u001b[0mself\u001b[0m\u001b[0;34m.\u001b[0m\u001b[0mdata_format\u001b[0m\u001b[0;34m)\u001b[0m\u001b[0;34m\u001b[0m\u001b[0;34m\u001b[0m\u001b[0m\n\u001b[1;32m    232\u001b[0m             \u001b[0;31m# Pillow images should be closed after `load_img`,\u001b[0m\u001b[0;34m\u001b[0m\u001b[0;34m\u001b[0m\u001b[0;34m\u001b[0m\u001b[0m\n",
            "\u001b[0;32m/usr/local/lib/python3.6/dist-packages/keras_preprocessing/image/utils.py\u001b[0m in \u001b[0;36mload_img\u001b[0;34m(path, grayscale, color_mode, target_size, interpolation)\u001b[0m\n\u001b[1;32m    111\u001b[0m         raise ImportError('Could not import PIL.Image. '\n\u001b[1;32m    112\u001b[0m                           'The use of `load_img` requires PIL.')\n\u001b[0;32m--> 113\u001b[0;31m     \u001b[0;32mwith\u001b[0m \u001b[0mopen\u001b[0m\u001b[0;34m(\u001b[0m\u001b[0mpath\u001b[0m\u001b[0;34m,\u001b[0m \u001b[0;34m'rb'\u001b[0m\u001b[0;34m)\u001b[0m \u001b[0;32mas\u001b[0m \u001b[0mf\u001b[0m\u001b[0;34m:\u001b[0m\u001b[0;34m\u001b[0m\u001b[0;34m\u001b[0m\u001b[0m\n\u001b[0m\u001b[1;32m    114\u001b[0m         \u001b[0mimg\u001b[0m \u001b[0;34m=\u001b[0m \u001b[0mpil_image\u001b[0m\u001b[0;34m.\u001b[0m\u001b[0mopen\u001b[0m\u001b[0;34m(\u001b[0m\u001b[0mio\u001b[0m\u001b[0;34m.\u001b[0m\u001b[0mBytesIO\u001b[0m\u001b[0;34m(\u001b[0m\u001b[0mf\u001b[0m\u001b[0;34m.\u001b[0m\u001b[0mread\u001b[0m\u001b[0;34m(\u001b[0m\u001b[0;34m)\u001b[0m\u001b[0;34m)\u001b[0m\u001b[0;34m)\u001b[0m\u001b[0;34m\u001b[0m\u001b[0;34m\u001b[0m\u001b[0m\n\u001b[1;32m    115\u001b[0m         \u001b[0;32mif\u001b[0m \u001b[0mcolor_mode\u001b[0m \u001b[0;34m==\u001b[0m \u001b[0;34m'grayscale'\u001b[0m\u001b[0;34m:\u001b[0m\u001b[0;34m\u001b[0m\u001b[0;34m\u001b[0m\u001b[0m\n",
            "\u001b[0;31mKeyboardInterrupt\u001b[0m: "
          ]
        }
      ]
    },
    {
      "cell_type": "markdown",
      "metadata": {
        "id": "j2IJ8ebWrsIz",
        "colab_type": "text"
      },
      "source": [
        "## 혼동 행렬 그리기"
      ]
    },
    {
      "cell_type": "code",
      "metadata": {
        "id": "ZzXtI-lwnshO",
        "colab_type": "code",
        "colab": {
          "base_uri": "https://localhost:8080/",
          "height": 37
        },
        "outputId": "008867aa-5d2e-4892-8228-9f42922e9868"
      },
      "source": [
        "testGen = imageGenerator.flow_from_directory('/content/drive/My Drive/CTRC/test',\n",
        "                                                  target_size=(64,64),\n",
        "                                                  batch_size=3,\n",
        "                                                   class_mode='categorical')"
      ],
      "execution_count": null,
      "outputs": [
        {
          "output_type": "stream",
          "text": [
            "Found 1961 images belonging to 4 classes.\n"
          ],
          "name": "stdout"
        }
      ]
    },
    {
      "cell_type": "code",
      "metadata": {
        "id": "sjuTFWDHo6Q9",
        "colab_type": "code",
        "colab": {}
      },
      "source": [
        "output2=model.predict_generator(testGen,steps=3)\n"
      ],
      "execution_count": null,
      "outputs": []
    },
    {
      "cell_type": "code",
      "metadata": {
        "id": "s1eX23zDBbgz",
        "colab_type": "code",
        "colab": {
          "base_uri": "https://localhost:8080/",
          "height": 34
        },
        "outputId": "13c1cdc7-cf31-420c-bf05-62b7d69ba7ac"
      },
      "source": [
        "\n",
        "'''from sklearn.metrics import confusion_matrix\n",
        "\n",
        "y_test = [2, 0, 2, 2, 0, 1] #실제값\n",
        "y_pred = [0, 0, 2, 2, 0, 2] #예측값\n",
        "\n",
        "conf_matrix = confusion_matrix(y_test, y_pred) #혼동 행렬\n",
        "print(conf_matrix)'''\n",
        "\n",
        "'''\n",
        "from sklearn.metrics import confusion_matrix\n",
        "\n",
        "y_test = testGen #내 코드에서 수정\n",
        "y_pred = output2\n",
        "\n",
        "\n",
        "conf_matrix = confusion_matrix(trainGen, output) \n",
        "print(conf_matrix)'''"
      ],
      "execution_count": null,
      "outputs": [
        {
          "output_type": "execute_result",
          "data": {
            "application/vnd.google.colaboratory.intrinsic+json": {
              "type": "string"
            },
            "text/plain": [
              "'\\nfrom sklearn.metrics import confusion_matrix\\n\\ny_test = testGen #내 코드에서 수정\\ny_pred = output2\\n\\n\\nconf_matrix = confusion_matrix(trainGen, output) \\nprint(conf_matrix)'"
            ]
          },
          "metadata": {
            "tags": []
          },
          "execution_count": 23
        }
      ]
    },
    {
      "cell_type": "code",
      "metadata": {
        "id": "fTO0zXZ-rxPW",
        "colab_type": "code",
        "colab": {
          "base_uri": "https://localhost:8080/",
          "height": 70
        },
        "outputId": "b0e31bc2-285f-4f71-dd14-15238a36e9f2"
      },
      "source": [
        "'''\n",
        "title = 'test'\n",
        "cmap=plt.cm.Greens\n",
        "plt.figure(figsize=(6, 6))\n",
        "plt.imshow(conf_matrix, interpolation='nearest', cmap=cmap)  # , cmap=plt.cm.Greens\n",
        "plt.title(title, size=12)\n",
        "plt.colorbar(fraction=0.05, pad=0.05)\n",
        "tick_marks = np.arange(3, 3)\n",
        "plt.xticks(np.arange(4), (\"1. Cancer\",\"2. Precancer\",\"3. Extra\",\"4. Normal\"))\n",
        "plt.yticks(np.arange(4), (\"1. Cancer\",\"2. Precancer\",\"3. Extra\",\"4. Normal\"))\n",
        "\n",
        "fmt = 'd' \n",
        "thresh = 1\n",
        "for i in range(conf_matrix.shape[0]):\n",
        "    for j in range(conf_matrix.shape[1]):\n",
        "        plt.text(j, i, format(conf_matrix[i, j], fmt),\n",
        "                 ha=\"center\", va=\"center\", \n",
        "                 color=\"white\" if conf_matrix[i, j] > thresh else \"black\")  #horizontalalignment'''"
      ],
      "execution_count": null,
      "outputs": [
        {
          "output_type": "execute_result",
          "data": {
            "application/vnd.google.colaboratory.intrinsic+json": {
              "type": "string"
            },
            "text/plain": [
              "'\\ntitle = \\'test\\'\\ncmap=plt.cm.Greens\\nplt.figure(figsize=(6, 6))\\nplt.imshow(conf_matrix, interpolation=\\'nearest\\', cmap=cmap)  # , cmap=plt.cm.Greens\\nplt.title(title, size=12)\\nplt.colorbar(fraction=0.05, pad=0.05)\\ntick_marks = np.arange(3, 3)\\nplt.xticks(np.arange(4), (\"1. Cancer\",\"2. Precancer\",\"3. Extra\",\"4. Normal\"))\\nplt.yticks(np.arange(4), (\"1. Cancer\",\"2. Precancer\",\"3. Extra\",\"4. Normal\"))\\n\\nfmt = \\'d\\' \\nthresh = 1\\nfor i in range(conf_matrix.shape[0]):\\n    for j in range(conf_matrix.shape[1]):\\n        plt.text(j, i, format(conf_matrix[i, j], fmt),\\n                 ha=\"center\", va=\"center\", \\n                 color=\"white\" if conf_matrix[i, j] > thresh else \"black\")  #horizontalalignment'"
            ]
          },
          "metadata": {
            "tags": []
          },
          "execution_count": 24
        }
      ]
    },
    {
      "cell_type": "code",
      "metadata": {
        "id": "ph43TapLdCBm",
        "colab_type": "code",
        "colab": {}
      },
      "source": [
        "#Confusion matrix\n",
        "def plot_confusion_matrix(cm, classes,\n",
        "                          normalize=False,\n",
        "                          title='Confusion matrix',\n",
        "                          cmap=plt.cm.Blues):\n",
        "    \"\"\"\n",
        "    This function prints and plots the confusion matrix.\n",
        "    Normalization can be applied by setting `normalize=True`.\n",
        "    \"\"\"\n",
        "    plt.imshow(cm, interpolation='nearest', cmap=cmap)\n",
        "    plt.title(title)\n",
        "    plt.colorbar()\n",
        "    tick_marks = np.arange(len(nb_classes))\n",
        "    plt.xticks(tick_marks, nb_classes, rotation=45)\n",
        "    plt.yticks(tick_marks, nb_classes)\n",
        "    if normalize:\n",
        "        cm = cm.astype('float') / cm.sum(axis=1)[:, np.newaxis]\n",
        "    thresh = cm.max() / 2.\n",
        "    for i, j in itertools.product(range(cm.shape[0]), range(cm.shape[1])):\n",
        "        plt.text(j, i, cm[i, j],\n",
        "                 horizontalalignment=\"center\",\n",
        "                 color=\"white\" if cm[i, j] > thresh else \"black\")\n",
        "    plt.tight_layout()\n",
        "    plt.ylabel('True label')\n",
        "    plt.xlabel('Predicted label')\n",
        "# Predict the values from the validation dataset\n",
        "Y_pred = model.predict(X_train)\n",
        "# Convert predictions classes to one hot vectors \n",
        "Y_pred_classes = np.argmax(Y_pred,axis = 1) \n",
        "# Convert validation observations to one hot vectors\n",
        "Y_true = np.argmax(trainGen,axis = 1) \n",
        "# compute the confusion matrix\n",
        "confusion_mtx = confusion_matrix(Y_true, Y_pred_classes) \n",
        "# plot the confusion matrix\n",
        "plot_confusion_matrix(confusion_mtx, classes = range(10))\n",
        "sns.heatmap(confusion_mtx, annot=True, fmt='d')\n"
      ],
      "execution_count": null,
      "outputs": []
    },
    {
      "cell_type": "code",
      "metadata": {
        "id": "1XDVCDIfF-XI",
        "colab_type": "code",
        "colab": {}
      },
      "source": [
        ""
      ],
      "execution_count": null,
      "outputs": []
    },
    {
      "cell_type": "markdown",
      "metadata": {
        "id": "gJ_CKCd8-htm",
        "colab_type": "text"
      },
      "source": [
        "# 한승현 설계"
      ]
    },
    {
      "cell_type": "code",
      "metadata": {
        "id": "25tD9c67-jDX",
        "colab_type": "code",
        "colab": {}
      },
      "source": [
        "import os\n",
        "import glob\n",
        "import numpy as np\n",
        "import cv2\n",
        "from sklearn.utils import shuffle\n",
        "\n",
        "def load_train(train_path, image_size, classes):\n",
        "    images = []\n",
        "    labels = []\n",
        "    ids = []\n",
        "    cls = []\n",
        "\n",
        "    print('Reading training images')\n",
        "    for fld in classes:\n",
        "        index = classes.index(fld)\n",
        "        print('Loading {} files (Index: {})'.format(fld, index))\n",
        "        path = os.path.join(train_path, fld, '*g')\n",
        "        files = glob.glob(path)\n",
        "        for fl in files:\n",
        "            image = cv2.imread(fl)\n",
        "            image = cv2.resize(image, (image_size, image_size), cv2.INTER_LINEAR)\n",
        "            images.append(image)\n",
        "            label = np.zeros(len(classes))\n",
        "            label[index] = 1.0\n",
        "            labels.append(label)\n",
        "            flbase = os.path.basename(fl)\n",
        "            ids.append(flbase)\n",
        "            cls.append(fld)\n",
        "    images = np.array(images)\n",
        "    labels = np.array(labels)\n",
        "    ids = np.array(ids)\n",
        "    cls = np.array(cls)\n",
        "  \n",
        "\n",
        "    return images, labels, ids, cls\n",
        "\n",
        "\n",
        "def load_test(test_path, image_size):\n",
        "    path = os.path.join(test_path, '*g')\n",
        "    files = sorted(glob.glob(path))\n",
        "\n",
        "    X_test = []\n",
        "    X_test_id = []\n",
        "    print(\"Reading test images\")\n",
        "    for fl in files:\n",
        "        \n",
        "        img = cv2.imread(fl)\n",
        "        img = cv2.resize(img, (image_size, image_size), cv2.INTER_LINEAR)\n",
        "        X_test.append(img)\n",
        "        X_test_id.append(flbase)\n",
        "        flbase = os.path.basename(fl)\n",
        "\n",
        "    X_test = np.array(X_test, dtype=np.uint8)\n",
        "    X_test = X_test.astype('float32')\n",
        "    X_test = X_test / 255\n",
        "    X_test_id = np.array(X_test_id)\n",
        "\n",
        "    return X_test, X_test_id\n",
        "\n",
        "\n",
        "class DataSet(object):\n",
        "\n",
        "    def __init__(self, images, labels, ids, cls):\n",
        "        \"\"\"Construct a DataSet. one_hot arg is used only if fake_data is true.\"\"\"\n",
        "\n",
        "        self._num_examples = images.shape[0]\n",
        "\n",
        "        # Convert shape from [num examples, rows, columns, depth]\n",
        "        # to [num examples, rows*columns] (assuming depth == 1)\n",
        "        # Convert from [0, 255] -> [0.0, 1.0].\n",
        "\n",
        "        images = images.astype(np.float32)\n",
        "        images = np.multiply(images, 1.0 / 255.0)\n",
        "\n",
        "        self._images = images\n",
        "        self._labels = labels\n",
        "        self._ids = ids\n",
        "        self._cls = cls\n",
        "        self._epochs_completed = 0\n",
        "        self._index_in_epoch = 0\n",
        "\n",
        "    @property\n",
        "    def images(self):\n",
        "        return self._images\n",
        "\n",
        "    @property\n",
        "    def labels(self):\n",
        "        return self._labels\n",
        "\n",
        "    @property\n",
        "    def ids(self):\n",
        "        return self._ids\n",
        "\n",
        "    @property\n",
        "    def cls(self):\n",
        "        return self._cls\n",
        "\n",
        "    @property\n",
        "    def num_examples(self):\n",
        "        return self._num_examples\n",
        "\n",
        "    @property\n",
        "    def epochs_completed(self):\n",
        "        return self._epochs_completed\n",
        "\n",
        "    def next_batch(self, batch_size):\n",
        "        \"\"\"Return the next `batch_size` examples from this data set.\"\"\"\n",
        "        start = self._index_in_epoch\n",
        "        self._index_in_epoch += batch_size\n",
        "\n",
        "        if self._index_in_epoch > self._num_examples:\n",
        "            # Finished epoch\n",
        "            self._epochs_completed += 1\n",
        "\n",
        "            # # Shuffle the data (maybe)\n",
        "            # perm = np.arange(self._num_examples)\n",
        "            # np.random.shuffle(perm)\n",
        "            # self._images = self._images[perm]\n",
        "            # self._labels = self._labels[perm]\n",
        "            # Start next epoch\n",
        "\n",
        "            start = 0\n",
        "            self._index_in_epoch = batch_size\n",
        "            assert batch_size <= self._num_examples\n",
        "        end = self._index_in_epoch\n",
        "\n",
        "        return self._images[start:end], self._labels[start:end], self._ids[start:end], self._cls[start:end]\n",
        "\n",
        "\n",
        "def read_train_sets(train_path, image_size, classes, validation_size=0):\n",
        "    class DataSets(object):\n",
        "        pass\n",
        "\n",
        "    data_sets = DataSets()\n",
        "\n",
        "    images, labels, ids, cls = load_train(train_path, image_size, classes)\n",
        "    images, labels, ids, cls = shuffle(images, labels, ids, cls)  # shuffle the data\n",
        "\n",
        "    if isinstance(validation_size, float):\n",
        "        validation_size = int(validation_size * images.shape[0])\n",
        "\n",
        "    validation_images = images[:validation_size]\n",
        "    validation_labels = labels[:validation_size]\n",
        "    validation_ids = ids[:validation_size]\n",
        "    validation_cls = cls[:validation_size]\n",
        "\n",
        "    train_images = images[validation_size:]\n",
        "    train_labels = labels[validation_size:]\n",
        "    train_ids = ids[validation_size:]\n",
        "    train_cls = cls[validation_size:]\n",
        "\n",
        "    data_sets.train = DataSet(train_images, train_labels, train_ids, train_cls)\n",
        "    data_sets.valid = DataSet(validation_images, validation_labels, validation_ids, validation_cls)\n",
        "\n",
        "    return data_sets\n",
        "\n",
        "\n",
        "def read_test_sets(test_path, image_size):\n",
        "    images, ids = load_test(test_path, image_size)\n",
        "    return images, ids"
      ],
      "execution_count": null,
      "outputs": []
    },
    {
      "cell_type": "code",
      "metadata": {
        "id": "wayI0jn1-v5s",
        "colab_type": "code",
        "colab": {}
      },
      "source": [
        "import time\n",
        "import math\n",
        "import random\n",
        "\n",
        "import pandas as pd\n",
        "import numpy as np\n",
        "import matplotlib.pyplot as plt\n",
        "import tensorflow.compat.v1 as tf\n",
        "import cv2\n",
        "import dataset\n",
        "import os\n",
        "import keras\n",
        "\n",
        "from sklearn.metrics import confusion_matrix\n",
        "from datetime import timedelta\n",
        "import seaborn as sn\n",
        "\n",
        "%matplotlib inline\n",
        "\n",
        "tf.disable_v2_behavior()\n",
        "\n",
        "\n",
        "filter_size1 = 5\n",
        "num_filters1 = 16\n",
        "\n",
        "filter_size2 = 5\n",
        "num_filters2 = 16\n",
        "\n",
        "filter_size3 = 5\n",
        "num_filters3 = 32\n",
        "\n",
        "filter_size4 = 5\n",
        "num_filters4 = 32\n",
        "\n",
        "filter_size5 = 5\n",
        "num_filters5 = 32\n",
        "\n",
        "filter_size6 = 7\n",
        "num_filters6 = 64\n",
        "\n",
        "filter_size7 = 7\n",
        "num_filters7 = 64\n",
        "\n",
        "# Fully-connected layer.\n",
        "fc_size = 256             # Number of neurons in fully-connected layer.\n",
        "\n",
        "# Number of color channels for the images: 1 channel for gray-scale.\n",
        "num_channels = 3\n",
        "\n",
        "# image dimensions (only squares for now)\n",
        "img_size = 128\n",
        "\n",
        "# Size of image when flattened to a single dimension\n",
        "img_size_flat = img_size * img_size * num_channels\n",
        "\n",
        "# Tuple with height and width of images used to reshape arrays.\n",
        "img_shape = (img_size, img_size)\n",
        "\n",
        "# class info\n",
        "classes = ['1.Cancer', '2.Precancer', '3.Inflammatory', '4.Normal']\n",
        "num_classes = len(classes)\n",
        "\n",
        "# batch size\n",
        "batch_size = 32\n",
        "\n",
        "# validation split\n",
        "validation_size = .3\n",
        "\n",
        "# how long to wait after validation loss stops improving before terminating training\n",
        "early_stopping = None  # use None if you don't want to implement early stoping"
      ],
      "execution_count": null,
      "outputs": []
    },
    {
      "cell_type": "code",
      "metadata": {
        "id": "h8RFmIJU-y1Q",
        "colab_type": "code",
        "colab": {}
      },
      "source": [
        "train_path = '/content/drive/My Drive/train'\n",
        "test_path = '/content/drive/My Drive/test'\n",
        "checkpoint_dir = '/content/drive/My Drive/model'\n",
        "\n",
        "data = read_train_sets(train_path, img_size, classes, validation_size=validation_size)\n",
        "test_images, test_ids = read_test_sets(test_path, img_size)\n",
        "\n",
        "\n",
        "print(\"Size of:\")\n",
        "print(\"- Training-set:\\t\\t{}\".format(len(data.train.labels)))\n",
        "print(\"- Test-set:\\t\\t{}\".format(len(test_images)))\n",
        "print(\"- Validation-set:\\t{}\".format(len(data.valid.labels)))"
      ],
      "execution_count": null,
      "outputs": []
    },
    {
      "cell_type": "code",
      "metadata": {
        "id": "b1hv2iDG-zhM",
        "colab_type": "code",
        "colab": {}
      },
      "source": [
        "def plot_images(images, cls_true, cls_pred=None):\n",
        "    \n",
        "    if len(images) == 0:\n",
        "        print(\"no images to show\")\n",
        "        return \n",
        "    else:\n",
        "        random_indices = random.sample(range(len(images)), min(len(images), 9))\n",
        "        \n",
        "    if cls_pred is not None:\n",
        "        images, cls_true, cls_pred  = zip(*[(images[i], cls_true[i], cls_pred[i]) for i in random_indices])\n",
        "    else:\n",
        "        images, cls_true  = zip(*[(images[i], cls_true[i]) for i in random_indices])\n",
        "\n",
        "    print(cls_pred)\n",
        "    \n",
        "    # Create figure with 3x3 sub-plots.\n",
        "    fig, axes = plt.subplots(3, 3)\n",
        "    fig.subplots_adjust(hspace=0.3, wspace=0.3)\n",
        "\n",
        "    for i, ax in enumerate(axes.flat):\n",
        "        # Plot image.\n",
        "        ax.imshow(images[i].reshape((img_size, img_size, num_channels)))\n",
        "\n",
        "        # Show true and predicted classes.\n",
        "        if cls_pred is None:\n",
        "            xlabel = \"True: {0}\".format(cls_true[i])\n",
        "        else:\n",
        "            xlabel = \"True: {0}, Pred: {1}\".format(cls_true[i], cls_pred[i])\n",
        "\n",
        "        # Show the classes as the label on the x-axis.\n",
        "        ax.set_xlabel(xlabel)\n",
        "        \n",
        "        # Remove ticks from the plot.\n",
        "        ax.set_xticks([])\n",
        "        ax.set_yticks([])\n",
        "    \n",
        "    # Ensure the plot is shown correctly with multiple plots\n",
        "    # in a single Notebook cell.\n",
        "    plt.show()\n",
        "\n",
        "images, cls_true  = data.train.images, data.train.cls\n",
        "\n",
        "# Plot the images and labels using our helper-function above.\n",
        "plot_images(images=images, cls_true=cls_true)"
      ],
      "execution_count": null,
      "outputs": []
    },
    {
      "cell_type": "code",
      "metadata": {
        "id": "kGme578p-1Kq",
        "colab_type": "code",
        "colab": {}
      },
      "source": [
        "def new_weights(shape):\n",
        "    return tf.Variable(tf.truncated_normal(shape, stddev=0.05))\n",
        "\n",
        "def new_biases(length):\n",
        "    return tf.Variable(tf.constant(0.05, shape=[length]))\n",
        "\n",
        "def new_conv_layer(input,              \n",
        "                   num_input_channels, \n",
        "                   filter_size,       \n",
        "                   num_filters,       \n",
        "                   use_pooling=True): \n",
        "\n",
        "    shape = [filter_size, filter_size, num_input_channels, num_filters]\n",
        "\n",
        "    weights = new_weights(shape=shape)\n",
        "\n",
        "    biases = new_biases(length=num_filters)\n",
        "\n",
        "    layer = tf.nn.conv2d(input=input,\n",
        "                         filter=weights,\n",
        "                         strides=[1, 1, 1, 1],\n",
        "                         padding='SAME')\n",
        "\n",
        "    layer += biases\n",
        "\n",
        "    if use_pooling:\n",
        "\n",
        "        layer = tf.nn.max_pool(value=layer,\n",
        "                               ksize=[1, 2, 2, 1],\n",
        "                               strides=[1, 2, 2, 1],\n",
        "                               padding='SAME')\n",
        "\n",
        "    layer = tf.nn.relu(layer)\n",
        "\n",
        "\n",
        "    return layer, weights\n",
        "\n",
        "def new_conv_layer_drop(input,              \n",
        "                   num_input_channels, \n",
        "                   filter_size,       \n",
        "                   num_filters,       \n",
        "                   use_pooling=True): \n",
        "\n",
        "    shape = [filter_size, filter_size, num_input_channels, num_filters]\n",
        "\n",
        "    weights = new_weights(shape=shape)\n",
        "\n",
        "    biases = new_biases(length=num_filters)\n",
        "\n",
        "    layer = tf.nn.conv2d(input=input,\n",
        "                         filter=weights,\n",
        "                         strides=[1, 1, 1, 1],\n",
        "                         padding='SAME')\n",
        "\n",
        "    layer += biases\n",
        "\n",
        "    if use_pooling:\n",
        "\n",
        "        layer = tf.nn.max_pool(value=layer,\n",
        "                               ksize=[1, 2, 2, 1],\n",
        "                               strides=[1, 2, 2, 1],\n",
        "                               padding='SAME')\n",
        "\n",
        "    layer = tf.nn.relu(layer)\n",
        "    layer = tf.nn.dropout(layer, keep_prob=keep_prob)\n",
        "    \n",
        "    return layer, weights\n",
        "\n",
        "def flatten_layer(layer):\n",
        "\n",
        "    layer_shape = layer.get_shape()\n",
        "\n",
        "    num_features = layer_shape[1:8].num_elements()\n",
        "    \n",
        "    layer_flat = tf.reshape(layer, [-1, num_features])\n",
        "\n",
        "    return layer_flat, num_features\n",
        "\n",
        "  \n",
        "def new_fc_layer(input,        \n",
        "                 num_inputs,    \n",
        "                 num_outputs,  \n",
        "                 use_relu=True):\n",
        "\n",
        "    weights = new_weights(shape=[num_inputs, num_outputs])\n",
        "    biases = new_biases(length=num_outputs)\n",
        "\n",
        "    layer = tf.matmul(input, weights) + biases\n",
        "    \n",
        "    if use_relu:\n",
        "        layer = tf.nn.relu(layer)\n",
        "\n",
        "    return layer\n",
        "\n",
        "x = tf.compat.v1.placeholder(tf.float32, shape=[None, img_size_flat], name='x')\n",
        "\n",
        "x_image = tf.reshape(x, [-1, img_size, img_size, num_channels])\n",
        "\n",
        "y_true = tf.compat.v1.placeholder(tf.float32, shape=[None, num_classes], name='y_true')\n",
        "\n",
        "y_true_cls = tf.argmax(y_true, axis=1)\n",
        "\n",
        "keep_prob = tf.compat.v1.placeholder(tf.float32)"
      ],
      "execution_count": null,
      "outputs": []
    },
    {
      "cell_type": "code",
      "metadata": {
        "id": "3T17VZN--3X0",
        "colab_type": "code",
        "colab": {}
      },
      "source": [
        "layer_conv1, weights_conv1 = \\\n",
        "    new_conv_layer_drop(input=x_image,\n",
        "                   num_input_channels=num_channels,\n",
        "                   filter_size=filter_size1,\n",
        "                   num_filters=num_filters1,\n",
        "                   use_pooling=True)\n",
        "     \n",
        "\n",
        "layer_conv2, weights_conv2 = \\\n",
        "    new_conv_layer(input=layer_conv1,\n",
        "                   num_input_channels=num_filters1,\n",
        "                   filter_size=filter_size2,\n",
        "                   num_filters=num_filters2,\n",
        "                   use_pooling=True)\n",
        "    \n",
        "layer_conv3, weights_conv3 = \\\n",
        "    new_conv_layer_drop(input=layer_conv2,\n",
        "                   num_input_channels=num_filters2,\n",
        "                   filter_size=filter_size3,\n",
        "                   num_filters=num_filters3,\n",
        "                   use_pooling=True)\n",
        "    \n",
        "layer_conv4, weights_conv4 = \\\n",
        "    new_conv_layer(input=layer_conv3,\n",
        "                   num_input_channels=num_filters3,\n",
        "                   filter_size=filter_size4,\n",
        "                   num_filters=num_filters4,\n",
        "                   use_pooling=True)\n",
        "    \n",
        "layer_conv5, weights_conv5 = \\\n",
        "    new_conv_layer_drop(input=layer_conv4,\n",
        "                   num_input_channels=num_filters4,\n",
        "                   filter_size=filter_size5,\n",
        "                   num_filters=num_filters5,\n",
        "                   use_pooling=True)\n",
        "    \n",
        "layer_conv6, weights_conv6 = \\\n",
        "    new_conv_layer(input=layer_conv5,\n",
        "                   num_input_channels=num_filters5,\n",
        "                   filter_size=filter_size6,\n",
        "                   num_filters=num_filters6,\n",
        "                   use_pooling=True)\n",
        "    \n",
        "layer_conv7, weights_conv7 = \\\n",
        "    new_conv_layer_drop(input=layer_conv6,\n",
        "                   num_input_channels=num_filters6,\n",
        "                   filter_size=filter_size7,\n",
        "                   num_filters=num_filters7,\n",
        "                   use_pooling=True)\n",
        "    \n",
        "layer_flat, num_features = flatten_layer(layer_conv7)\n",
        "\n",
        "layer_fc1 = new_fc_layer(input=layer_flat,\n",
        "                         num_inputs=num_features,\n",
        "                         num_outputs=fc_size,\n",
        "                         use_relu=True)\n",
        "\n",
        "layer_fc2 = new_fc_layer(input=layer_fc1,\n",
        "                         num_inputs=fc_size,\n",
        "                         num_outputs=128,\n",
        "                         use_relu=False)\n",
        "\n",
        "layer_fc3 = new_fc_layer(input=layer_fc2,\n",
        "                         num_inputs=128,\n",
        "                         num_outputs=64,\n",
        "                         use_relu=False)\n",
        "\n",
        "layer_fc4 = new_fc_layer(input=layer_fc3,\n",
        "                         num_inputs=64,\n",
        "                         num_outputs=32,\n",
        "                         use_relu=False)\n",
        "\n",
        "layer_fc5 = new_fc_layer(input=layer_fc4,\n",
        "                         num_inputs=32,\n",
        "                         num_outputs=16,\n",
        "                         use_relu=False)\n",
        "\n",
        "layer_fc6 = new_fc_layer(input=layer_fc5,\n",
        "                         num_inputs=16,\n",
        "                         num_outputs=num_classes,                        \n",
        "                         use_relu=False)\n",
        "\n",
        "y_pred = tf.nn.softmax(layer_fc6)\n",
        "\n",
        "y_pred_cls = tf.argmax(y_pred, axis=1)\n",
        "\n",
        "loss_func = tf.nn.softmax_cross_entropy_with_logits_v2(logits=layer_fc6, labels=y_true)\n",
        "\n",
        "cost = tf.reduce_mean(loss_func)\n",
        "\n",
        "\n",
        "optimizer = tf.train.AdamOptimizer(learning_rate=1e-4).minimize(cost)\n",
        "\n",
        "correct_prediction = tf.equal(y_pred_cls, y_true_cls)\n",
        "\n",
        "accuracy = tf.reduce_mean(tf.cast(correct_prediction, tf.float32))"
      ],
      "execution_count": null,
      "outputs": []
    },
    {
      "cell_type": "code",
      "metadata": {
        "id": "-X7ZPQCz-58b",
        "colab_type": "code",
        "colab": {}
      },
      "source": [
        "session = tf.Session()\n",
        "\n",
        "session.run(tf.global_variables_initializer())\n",
        "\n",
        "train_batch_size = batch_size\n",
        "\n",
        "def print_progress(epoch, feed_dict_train, feed_dict_validate, val_loss):\n",
        "    acc = session.run(accuracy, feed_dict=feed_dict_train)\n",
        "    val_acc = session.run(accuracy, feed_dict=feed_dict_validate)\n",
        "    msg = \"Epoch {0} --- Training Accuracy: {1:>6.1%}, Validation Accuracy: {2:>6.1%}, Validation Loss: {3:.3f}\"\n",
        "    print(msg.format(epoch + 1, acc, val_acc, val_loss))\n",
        "    print(print_validation_accuracy(show_confusion_matrix=True))\n",
        "\n",
        "total_iterations = 0\n",
        "\n",
        "def optimize(num_iterations):\n",
        "    global total_iterations\n",
        "\n",
        "    start_time = time.time()\n",
        "    \n",
        "    best_val_loss = float(\"inf\")\n",
        "    patience = 0\n",
        "\n",
        "    for i in range(total_iterations,\n",
        "                   total_iterations + num_iterations):\n",
        "\n",
        "        \n",
        "\n",
        "        x_batch, y_true_batch, _, cls_batch = data.train.next_batch(train_batch_size)\n",
        "        x_valid_batch, y_valid_batch, _, valid_cls_batch = data.valid.next_batch(train_batch_size)\n",
        "\n",
        "        x_batch = x_batch.reshape(train_batch_size, img_size_flat)\n",
        "        x_valid_batch = x_valid_batch.reshape(train_batch_size, img_size_flat)\n",
        "\n",
        "        feed_dict_train = {x: x_batch,\n",
        "                           y_true: y_true_batch, keep_prob: 0.7}\n",
        "        \n",
        "        feed_dict_validate = {x: x_valid_batch,\n",
        "                              y_true: y_valid_batch, keep_prob : 0.7}\n",
        "\n",
        "        session.run(optimizer, feed_dict=feed_dict_train)\n",
        "        \n",
        "        if i % int(data.train.num_examples/batch_size) == 0: \n",
        "            val_loss = session.run(cost, feed_dict=feed_dict_validate)\n",
        "            epoch = int(i / int(data.train.num_examples/batch_size))\n",
        "\n",
        "            print_progress(epoch, feed_dict_train, feed_dict_validate, val_loss)\n",
        "            \n",
        "            if early_stopping:    \n",
        "                if val_loss < best_val_loss:\n",
        "                    best_val_loss = val_loss\n",
        "                    patience = 0\n",
        "                else:\n",
        "                    patience += 1\n",
        "\n",
        "                if patience == early_stopping:\n",
        "                    break\n",
        "\n",
        "\n",
        "\n",
        "    total_iterations += num_iterations\n",
        "\n",
        "    end_time = time.time()\n",
        "\n",
        "    time_dif = end_time - start_time\n",
        "\n",
        "    print(\"Time elapsed: \" + str(timedelta(seconds=int(round(time_dif)))))\n",
        "\n",
        "def print_validation_accuracy(show_example_errors=False, show_confusion_matrix=False):\n",
        "\n",
        "    num_test = len(data.valid.images)\n",
        "\n",
        "    cls_pred = np.zeros(shape=num_test, dtype=np.int)\n",
        "\n",
        "    i = 0\n",
        "\n",
        "    while i < num_test:\n",
        " \n",
        "        j = min(i + batch_size, num_test)\n",
        "\n",
        "        images = data.valid.images[i:j, :].reshape(-1, img_size_flat)\n",
        "        \n",
        "        labels = data.valid.labels[i:j, :]\n",
        "\n",
        "        feed_dict = {x: images, y_true: labels, keep_prob: 0.7}\n",
        "\n",
        "        cls_pred[i:j] = session.run(y_pred_cls, feed_dict=feed_dict)\n",
        "\n",
        "        i = j\n",
        "\n",
        "\n",
        "    cls_true = np.array(data.valid.cls)\n",
        "    cls_pred = np.array([classes[x] for x in cls_pred]) \n",
        "\n",
        "    correct = (cls_true == cls_pred)\n",
        "\n",
        "    correct_sum = correct.sum()\n",
        "\n",
        "    acc = float(correct_sum) / num_test\n",
        "\n",
        "    msg = \"Accuracy on Set: {0:.1%} ({1} / {2})\"\n",
        "    print(msg.format(acc, correct_sum, num_test))\n",
        "\n",
        "    if show_example_errors:\n",
        "        print(\"Example errors:\")\n",
        "        plot_example_errors(cls_pred=cls_pred, correct=correct)\n",
        "\n",
        "    if show_confusion_matrix:\n",
        "        print(\"Confusion Matrix:\")\n",
        "        plot_confusion_matrix(cls_pred=cls_pred)\n",
        "\n",
        "def plot_example_errors(cls_pred, correct):\n",
        "\n",
        "    incorrect = (correct == False)\n",
        "\n",
        "    images = data.valid.images[incorrect]\n",
        "\n",
        "    cls_pred = cls_pred[incorrect]\n",
        "\n",
        "    cls_true = data.valid.cls[incorrect]\n",
        "\n",
        "    plot_images(images=images, cls_true=cls_true, cls_pred=cls_pred)\n",
        "\n",
        "\n",
        "def plot_confusion_matrix(cls_pred):\n",
        "    \n",
        "    cls_true = data.valid.cls\n",
        "\n",
        "    cm = confusion_matrix(y_true=cls_true, y_pred=cls_pred)\n",
        "    \n",
        "    print(cm)\n",
        "    \n",
        "    plt.matshow(cm, cmap=plt.cm.Wistia_r)\n",
        "\n",
        "    plt.colorbar()\n",
        "    tick_marks = np.arange(num_classes)\n",
        "    plt.xticks(tick_marks, range(num_classes))\n",
        "    plt.yticks(tick_marks, range(num_classes))\n",
        "\n",
        "    plt.xlabel('Predicted')\n",
        "    plt.ylabel('True')\n",
        "    for i in range(0,4):\n",
        "      for j in range(0,4):\n",
        "        plt.text(j,i,str(cm[i][j]))\n",
        "    plt.show()\n",
        "\n",
        "    print(\"1.Cancer의 정밀도 : \", (cm[0,0]/(cm[0,0]+cm[1,0]+cm[2,0]+cm[3,0]))*100, \"%\")\n",
        "    print(\"1.Cancer의 재현율 : \", (cm[0,0]/(cm[0,0]+cm[0,1]+cm[0,2]+cm[0,3]))*100, \"%\")\n",
        "    print(\"2.Precancer의 정밀도 : \", (cm[1,1]/(cm[0,1]+cm[1,1]+cm[2,1]+cm[3,1]))*100, \"%\")\n",
        "    print(\"2.Precancer의 재현율 : \", (cm[1,1]/(cm[1,0]+cm[1,1]+cm[1,2]+cm[1,3]))*100, \"%\")\n",
        "    print(\"3.Inflammatory의 정밀도 : \", (cm[2,2]/(cm[0,2]+cm[1,2]+cm[2,2]+cm[3,2]))*100, \"%\")\n",
        "    print(\"3.Inflammatory의 재현율 : \", (cm[2,2]/(cm[2,0]+cm[2,1]+cm[2,2]+cm[2,3]))*100, \"%\")\n",
        "    print(\"4.Normal의 정밀도 : \", (cm[3,3]/(cm[0,3]+cm[1,3]+cm[2,3]+cm[3,3]))*100, \"%\")\n",
        "    print(\"4.Normal의 재현율 : \", (cm[3,3]/(cm[3,0]+cm[3,1]+cm[3,2]+cm[3,3]))*100, \"%\")"
      ],
      "execution_count": null,
      "outputs": []
    },
    {
      "cell_type": "code",
      "metadata": {
        "id": "uFbWnLMf--Gp",
        "colab_type": "code",
        "colab": {}
      },
      "source": [
        "optimize(num_iterations=1000000)\n"
      ],
      "execution_count": null,
      "outputs": []
    },
    {
      "cell_type": "code",
      "metadata": {
        "id": "NmnWc_a0--i1",
        "colab_type": "code",
        "colab": {}
      },
      "source": [
        "import matplotlib.pyplot as plt\n",
        "\n",
        "def plot_confusion_matrix(cls_pred):\n",
        "    \n",
        "    cls_true = data.valid.cls\n",
        "\n",
        "    cm = confusion_matrix(y_true=cls_true, y_pred=cls_pred)\n",
        "    \n",
        "    print(cm)\n",
        "    \n",
        "    plt.matshow(cm, cmap=plt.cm.Wistia_r)\n",
        "\n",
        "    plt.colorbar()\n",
        "    tick_marks = np.arange(num_classes)\n",
        "    plt.xticks(tick_marks, range(num_classes))\n",
        "    plt.yticks(tick_marks, range(num_classes))\n",
        "\n",
        "    plt.xlabel('Predicted')\n",
        "    plt.ylabel('True')\n",
        "    for i in range(0,4):\n",
        "      for j in range(0,4):\n",
        "        plt.text(j,i,str(cm[i][j]))\n",
        "    plt.show()\n",
        "\n",
        "    print(\"1.Cancer의 정밀도 : \", round((cm[0,0]/(cm[0,0]+cm[1,0]+cm[2,0]+cm[3,0]))*100,2), \"%\")\n",
        "    print(\"1.Cancer의 재현율 : \", round((cm[0,0]/(cm[0,0]+cm[0,1]+cm[0,2]+cm[0,3]))*100,2), \"%\")\n",
        "    print(\"2.Precancer의 정밀도 : \", round((cm[1,1]/(cm[0,1]+cm[1,1]+cm[2,1]+cm[3,1]))*100,2), \"%\")\n",
        "    print(\"2.Precancer의 재현율 : \", round((cm[1,1]/(cm[1,0]+cm[1,1]+cm[1,2]+cm[1,3]))*100,2), \"%\")\n",
        "    print(\"3.Inflammatory의 정밀도 : \", round((cm[2,2]/(cm[0,2]+cm[1,2]+cm[2,2]+cm[3,2]))*100,2), \"%\")\n",
        "    print(\"3.Inflammatory의 재현율 : \", round((cm[2,2]/(cm[2,0]+cm[2,1]+cm[2,2]+cm[2,3]))*100,2), \"%\")\n",
        "    print(\"4.Normal의 정밀도 : \", round((cm[3,3]/(cm[0,3]+cm[1,3]+cm[2,3]+cm[3,3]))*100,2), \"%\")\n",
        "    print(\"4.Normal의 재현율 : \", round((cm[3,3]/(cm[3,0]+cm[3,1]+cm[3,2]+cm[3,3]))*100,2), \"%\")"
      ],
      "execution_count": null,
      "outputs": []
    },
    {
      "cell_type": "code",
      "metadata": {
        "id": "8fFRMmXH_CHw",
        "colab_type": "code",
        "colab": {}
      },
      "source": [
        "print_validation_accuracy(show_example_errors=True, show_confusion_matrix=True)"
      ],
      "execution_count": null,
      "outputs": []
    },
    {
      "cell_type": "code",
      "metadata": {
        "id": "YeqJxJ3M_Fx8",
        "colab_type": "code",
        "colab": {}
      },
      "source": [
        "import pandas as pd\n",
        "import tensorflow as tf\n",
        "from tensorflow import keras\n",
        "from sklearn.model_selection import train_test_split\n",
        "import numpy as np\n",
        "import matplotlib.pyplot as plt\n",
        "df = pd.read_csv('C:\\\\ml\\\\molecular_activity.csv')\n",
        "\n",
        "properties = list(df.columns.values)\n",
        "properties.remove('Activity')\n",
        "\n",
        "X = df[properties]\n",
        "y = df['Activity']\n",
        "\n",
        "X_train, X_test, y_train, y_test = train_test_split(X, y, test_size=0.2, random_state=1)\n",
        "X_train, X_val, y_train, y_val = train_test_split(X_train, y_train, test_size=0.2, random_state=1)\n",
        "\n",
        "model = keras.Sequential([\n",
        "    keras.layers.Flatten(input_shape=(4,)),\n",
        "    keras.layers.Dense(4, activation=tf.nn.relu),\n",
        "\tkeras.layers.Dense(4, activation=tf.nn.relu),\n",
        "    keras.layers.Dense(1, activation=tf.nn.sigmoid),\n",
        "])\n",
        "\n",
        "model.compile(optimizer='adam',\n",
        "              loss='mse',\n",
        "              metrics=['accuracy'])\n",
        "\n",
        "history = model.fit(X_train, y_train, epochs=34, batch_size=1, validation_data=(X_val, y_val))"
      ],
      "execution_count": null,
      "outputs": []
    },
    {
      "cell_type": "markdown",
      "metadata": {
        "id": "SSuuXXvN_Ofc",
        "colab_type": "text"
      },
      "source": [
        "## 테스트"
      ]
    },
    {
      "cell_type": "markdown",
      "metadata": {
        "id": "U5wvvUhE_cXn",
        "colab_type": "text"
      },
      "source": [
        "print_validation_accuracy(show_example_errors=True, show_confusion_matrix=True)"
      ]
    },
    {
      "cell_type": "code",
      "metadata": {
        "id": "_JWwlVXz_PjE",
        "colab_type": "code",
        "colab": {}
      },
      "source": [
        "test_cancer = cv2.imread('/content/drive/My Drive/train/Cancer/can_129.jpg')\n",
        "test_cancer = cv2.resize(test_cancer, (img_size, img_size), cv2.INTER_LINEAR) / 255\n",
        "\n",
        "preview_cancer = plt.imshow(test_cancer.reshape(img_size, img_size, num_channels))\n",
        "\n",
        "def sample_prediction(test_im):\n",
        "    \n",
        "    feed_dict_test = {\n",
        "        x: test_im.reshape(1, img_size_flat),\n",
        "        y_true: np.array([[3, 2, 1, 0]])\n",
        "    }\n",
        "\n",
        "    test_pred = session.run(y_pred_cls, feed_dict=feed_dict_test)\n",
        "    return classes[test_pred[0]]\n",
        "\n",
        "print(\"Predicted class for test_cancer: {}\".format(sample_prediction(test_cancer)))"
      ],
      "execution_count": null,
      "outputs": []
    },
    {
      "cell_type": "code",
      "metadata": {
        "id": "oiMBNGoZ_gvH",
        "colab_type": "code",
        "colab": {}
      },
      "source": [
        "test_inflammatory = cv2.imread('/content/drive/My Drive/train/Inflammatory/inf_139.jpg')\n",
        "test_inflammatory = cv2.resize(test_inflammatory, (img_size, img_size), cv2.INTER_LINEAR) / 255\n",
        "\n",
        "preview_inflammatory = plt.imshow(test_inflammatory.reshape(img_size, img_size, num_channels))\n",
        "\n",
        "def sample_prediction(test_im):\n",
        "    \n",
        "    feed_dict_test = {\n",
        "        x: test_im.reshape(1, img_size_flat),\n",
        "        y_true: np.array([[3, 2, 1, 0]])\n",
        "    }\n",
        "\n",
        "    test_pred = session.run(y_pred_cls, feed_dict=feed_dict_test)\n",
        "    return classes[test_pred[0]]\n",
        "\n",
        "print(\"Predicted class for test_inflammatory: {}\".format(sample_prediction(test_inflammatory)))"
      ],
      "execution_count": null,
      "outputs": []
    },
    {
      "cell_type": "code",
      "metadata": {
        "id": "mgW_OQgd_hs3",
        "colab_type": "code",
        "colab": {}
      },
      "source": [
        "test_normal = cv2.imread('/content/drive/My Drive/train/Normal/nor_15.jpg')\n",
        "test_normal = cv2.resize(test_normal, (img_size, img_size), cv2.INTER_LINEAR) / 255\n",
        "\n",
        "preview_normal = plt.imshow(test_normal.reshape(img_size, img_size, num_channels))\n",
        "\n",
        "def sample_prediction(test_im):\n",
        "    \n",
        "    feed_dict_test = {\n",
        "        x: test_im.reshape(1, img_size_flat),\n",
        "        y_true: np.array([[3, 2, 1, 0]])\n",
        "    }\n",
        "\n",
        "    test_pred = session.run(y_pred_cls, feed_dict=feed_dict_test)\n",
        "    return classes[test_pred[0]]\n",
        "\n",
        "print(\"Predicted class for test_normal: {}\".format(sample_prediction(test_normal)))"
      ],
      "execution_count": null,
      "outputs": []
    },
    {
      "cell_type": "code",
      "metadata": {
        "id": "z4bhF0pL_ji1",
        "colab_type": "code",
        "colab": {}
      },
      "source": [
        "test_precancer = cv2.imread('/content/drive/My Drive/train/Precancer/precan_29.jpg')\n",
        "test_precancer = cv2.resize(test_precancer, (img_size, img_size), cv2.INTER_LINEAR) / 255\n",
        "\n",
        "preview_precancer = plt.imshow(test_precancer.reshape(img_size, img_size, num_channels))\n",
        "\n",
        "def sample_prediction(test_im):\n",
        "    \n",
        "    feed_dict_test = {\n",
        "        x: test_im.reshape(1, img_size_flat),\n",
        "        y_true: np.array([[3, 2, 1, 0]])\n",
        "    }\n",
        "\n",
        "    test_pred = session.run(y_pred_cls, feed_dict=feed_dict_test)\n",
        "    return classes[test_pred[0]]\n",
        "\n",
        "print(\"Predicted class for test_precancer: {}\".format(sample_prediction(test_precancer)))"
      ],
      "execution_count": null,
      "outputs": []
    },
    {
      "cell_type": "code",
      "metadata": {
        "id": "GtYdhIJS_l3W",
        "colab_type": "code",
        "colab": {}
      },
      "source": [
        "test_cancer = cv2.imread('/content/drive/My Drive/train/1.Cancer/can_163.jpg')\n",
        "test_cancer = cv2.resize(test_cancer, (img_size, img_size), cv2.INTER_LINEAR) / 255\n",
        "\n",
        "preview_cancer = plt.imshow(test_cancer.reshape(img_size, img_size, num_channels))"
      ],
      "execution_count": null,
      "outputs": []
    },
    {
      "cell_type": "code",
      "metadata": {
        "id": "zGO-1NSu_pKq",
        "colab_type": "code",
        "colab": {}
      },
      "source": [
        "test_precancer = cv2.imread('/content/drive/My Drive/train/2.Precancer/precan_125.jpg')\n",
        "test_precancer = cv2.resize(test_precancer, (img_size, img_size), cv2.INTER_LINEAR) / 255\n",
        "\n",
        "preview_precancer = plt.imshow(test_precancer.reshape(img_size, img_size, num_channels))"
      ],
      "execution_count": null,
      "outputs": []
    },
    {
      "cell_type": "code",
      "metadata": {
        "id": "LlIyKiYQ_rmG",
        "colab_type": "code",
        "colab": {}
      },
      "source": [
        "test_inflammatory = cv2.imread('/content/drive/My Drive/train/3.Inflammatory/inf_146.jpg')\n",
        "test_inflammatory = cv2.resize(test_inflammatory, (img_size, img_size), cv2.INTER_LINEAR) / 255\n",
        "\n",
        "preview_inflammatory = plt.imshow(test_inflammatory.reshape(img_size, img_size, num_channels))"
      ],
      "execution_count": null,
      "outputs": []
    },
    {
      "cell_type": "code",
      "metadata": {
        "id": "Z-pDugCg_sgb",
        "colab_type": "code",
        "colab": {}
      },
      "source": [
        "test_normal = cv2.imread('/content/drive/My Drive/train/4.Normal/nor_135.jpg')\n",
        "test_normal = cv2.resize(test_normal, (img_size, img_size), cv2.INTER_LINEAR) / 255\n",
        "\n",
        "preview_normal = plt.imshow(test_normal.reshape(img_size, img_size, num_channels))"
      ],
      "execution_count": null,
      "outputs": []
    },
    {
      "cell_type": "code",
      "metadata": {
        "id": "Fu6CrhDq_u4G",
        "colab_type": "code",
        "colab": {}
      },
      "source": [
        "def sample_prediction(test_im):\n",
        "    \n",
        "    feed_dict_test = {\n",
        "        x: test_im.reshape(1, img_size_flat),\n",
        "        y_true: np.array([[3, 2, 1, 0]])\n",
        "    }\n",
        "\n",
        "    test_pred = session.run(y_pred_cls, feed_dict=feed_dict_test)\n",
        "    return classes[test_pred[0]]\n",
        "\n",
        "print(\"Predicted class for test_cancer: {}\".format(sample_prediction(test_cancer)))\n",
        "print(\"Predicted class for test_precancer: {}\".format(sample_prediction(test_precancer)))\n",
        "print(\"Predicted class for test_inflammatory: {}\".format(sample_prediction(test_inflammatory)))\n",
        "print(\"Predicted class for test_normal: {}\".format(sample_prediction(test_normal)))"
      ],
      "execution_count": null,
      "outputs": []
    },
    {
      "cell_type": "code",
      "metadata": {
        "id": "1pZpWDql_wRG",
        "colab_type": "code",
        "colab": {}
      },
      "source": [
        "def plot_conv_weights(weights, input_channel=0):\n",
        "    \n",
        "    w = session.run(weights)\n",
        "\n",
        "    w_min = np.min(w)\n",
        "    w_max = np.max(w)\n",
        "\n",
        "    num_filters = w.shape[3]\n",
        "\n",
        "    num_grids = math.ceil(math.sqrt(num_filters))\n",
        "    \n",
        "    fig, axes = plt.subplots(num_grids, num_grids)\n",
        "\n",
        "    for i, ax in enumerate(axes.flat):\n",
        "        if i<num_filters:\n",
        "\n",
        "            img = w[:, :, input_channel, i]\n",
        "\n",
        "            ax.imshow(img, vmin=w_min, vmax=w_max,\n",
        "                      interpolation='nearest', cmap='seismic')\n",
        "        \n",
        "        ax.set_xticks([])\n",
        "        ax.set_yticks([])\n",
        "    \n",
        "    plt.show()\n",
        "\n",
        "def plot_conv_layer(layer, image):\n",
        "    \n",
        "    image = image.reshape(img_size_flat)\n",
        "\n",
        "    feed_dict = {x: [image]}\n",
        "\n",
        "    values = session.run(layer, feed_dict=feed_dict)\n",
        "\n",
        "    num_filters = values.shape[3]\n",
        "\n",
        "    num_grids = math.ceil(math.sqrt(num_filters))\n",
        "    \n",
        "    fig, axes = plt.subplots(num_grids, num_grids)\n",
        "\n",
        "    for i, ax in enumerate(axes.flat):\n",
        "        if i<num_filters:\n",
        "            img = values[0, :, :, i]\n",
        "\n",
        "            ax.imshow(img, interpolation='nearest', cmap='binary')\n",
        "        \n",
        "        ax.set_xticks([])\n",
        "        ax.set_yticks([])\n",
        "    \n",
        "    plt.show()\n",
        "\n",
        "def plot_image(image):\n",
        "    plt.imshow(image.reshape(img_size, img_size, num_channels),\n",
        "               interpolation='nearest')\n",
        "    plt.show()"
      ],
      "execution_count": null,
      "outputs": []
    },
    {
      "cell_type": "code",
      "metadata": {
        "id": "REwOZuiH_z5z",
        "colab_type": "code",
        "colab": {}
      },
      "source": [
        "def plot_image(image):\n",
        "    plt.imshow(image.reshape(img_size, img_size, num_channels),\n",
        "               interpolation='nearest')\n",
        "    plt.show()\n",
        "\n",
        "image1 = test_images\n",
        "plot_image(image1)"
      ],
      "execution_count": null,
      "outputs": []
    },
    {
      "cell_type": "code",
      "metadata": {
        "id": "NxLZxuiE_5zN",
        "colab_type": "code",
        "colab": {}
      },
      "source": [
        "image2 = test_images[13]\n",
        "plot_image(image2)"
      ],
      "execution_count": null,
      "outputs": []
    },
    {
      "cell_type": "code",
      "metadata": {
        "id": "nz_ZdIUW_7my",
        "colab_type": "code",
        "colab": {}
      },
      "source": [
        "image3 = test_images[13]\n",
        "plot_image(image3)"
      ],
      "execution_count": null,
      "outputs": []
    },
    {
      "cell_type": "code",
      "metadata": {
        "id": "GebSjqk-_9nO",
        "colab_type": "code",
        "colab": {}
      },
      "source": [
        "image4 = test_images[13]\n",
        "plot_image(image4)"
      ],
      "execution_count": null,
      "outputs": []
    },
    {
      "cell_type": "code",
      "metadata": {
        "id": "AKXn1UAuAAEj",
        "colab_type": "code",
        "colab": {}
      },
      "source": [
        "plot_conv_weights(weights=weights_conv1)"
      ],
      "execution_count": null,
      "outputs": []
    },
    {
      "cell_type": "code",
      "metadata": {
        "id": "6uYFjK13ACBE",
        "colab_type": "code",
        "colab": {}
      },
      "source": [
        "plot_conv_layer(layer=layer_conv1, image=image1)"
      ],
      "execution_count": null,
      "outputs": []
    },
    {
      "cell_type": "code",
      "metadata": {
        "id": "Dz3ZGYzzAEbh",
        "colab_type": "code",
        "colab": {}
      },
      "source": [
        "plot_conv_layer(layer=layer_conv1, image=image2)"
      ],
      "execution_count": null,
      "outputs": []
    },
    {
      "cell_type": "code",
      "metadata": {
        "id": "yBNM-227AGf7",
        "colab_type": "code",
        "colab": {}
      },
      "source": [
        "plot_conv_weights(weights=weights_conv2, input_channel=0)"
      ],
      "execution_count": null,
      "outputs": []
    },
    {
      "cell_type": "code",
      "metadata": {
        "id": "dJJL7vQrAGd8",
        "colab_type": "code",
        "colab": {}
      },
      "source": [
        "plot_conv_weights(weights=weights_conv2, input_channel=1)"
      ],
      "execution_count": null,
      "outputs": []
    },
    {
      "cell_type": "code",
      "metadata": {
        "id": "lC-iSgXyAGM9",
        "colab_type": "code",
        "colab": {}
      },
      "source": [
        "plot_conv_layer(layer=layer_conv2, image=image1)"
      ],
      "execution_count": null,
      "outputs": []
    },
    {
      "cell_type": "code",
      "metadata": {
        "id": "dzRyQAYKAGJv",
        "colab_type": "code",
        "colab": {}
      },
      "source": [
        "plot_conv_layer(layer=layer_conv2, image=image2)"
      ],
      "execution_count": null,
      "outputs": []
    },
    {
      "cell_type": "code",
      "metadata": {
        "id": "ygldiJOfAMwS",
        "colab_type": "code",
        "colab": {}
      },
      "source": [
        "session.close()"
      ],
      "execution_count": null,
      "outputs": []
    },
    {
      "cell_type": "markdown",
      "metadata": {
        "id": "AJFOjfpfAPP4",
        "colab_type": "text"
      },
      "source": [
        "# 클러스터링"
      ]
    },
    {
      "cell_type": "code",
      "metadata": {
        "id": "XXmjrKnaARpf",
        "colab_type": "code",
        "colab": {}
      },
      "source": [
        "from sklearn.datasets import make_blobs\n",
        "from sklearn.cluster import KMeans\n",
        "\n",
        "\n",
        "kmeans = KMeans(n_clusters=4)\n",
        "kmeans.fit(X)"
      ],
      "execution_count": null,
      "outputs": []
    },
    {
      "cell_type": "code",
      "metadata": {
        "id": "IMsMzzSNC-qk",
        "colab_type": "code",
        "colab": {}
      },
      "source": [
        "print(\"클러스터 레이블 확인 : \\n {}\".format(kmeans.y_train))\n",
        "# 클러스터 레이블 확인 :"
      ],
      "execution_count": null,
      "outputs": []
    },
    {
      "cell_type": "code",
      "metadata": {
        "id": "6EPDSBkKDAOD",
        "colab_type": "code",
        "colab": {}
      },
      "source": [
        "print(np.array_equal(kmeans.labels_,kmeans.predict(X)))"
      ],
      "execution_count": null,
      "outputs": []
    }
  ]
}