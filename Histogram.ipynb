{
  "nbformat": 4,
  "nbformat_minor": 0,
  "metadata": {
    "colab": {
      "name": "Untitled3.ipynb",
      "private_outputs": true,
      "provenance": [],
      "toc_visible": true,
      "mount_file_id": "1B-CKqzwFOBTHC3sXHTrzMi-1k8luHRtG",
      "authorship_tag": "ABX9TyPoiUioRQTBzRCdDdRRszvq",
      "include_colab_link": true
    },
    "kernelspec": {
      "name": "python3",
      "display_name": "Python 3"
    }
  },
  "cells": [
    {
      "cell_type": "markdown",
      "metadata": {
        "id": "view-in-github",
        "colab_type": "text"
      },
      "source": [
        "<a href=\"https://colab.research.google.com/github/seunghyeon2776/98/blob/master/Histogram.ipynb\" target=\"_parent\"><img src=\"https://colab.research.google.com/assets/colab-badge.svg\" alt=\"Open In Colab\"/></a>"
      ]
    },
    {
      "cell_type": "markdown",
      "metadata": {
        "id": "c9IuDuKljS3x"
      },
      "source": [
        "# **Train histogram**"
      ]
    },
    {
      "cell_type": "code",
      "metadata": {
        "id": "uUQJyo7-Xzoq"
      },
      "source": [
        "import cv2 as cv\r\n",
        "import numpy as np\r\n",
        "from google.colab.patches import cv2_imshow\r\n",
        "from tensorflow.keras.preprocessing.image import ImageDataGenerator,array_to_img,img_to_array, load_img\r\n",
        "\r\n",
        "import os\r\n",
        "import numpy as np\r\n",
        "from PIL import Image\r\n",
        "\r\n",
        "path1 = \"/content/drive/MyDrive/Practest\"\r\n",
        "\r\n",
        "file_list = os.listdir(path1)\r\n",
        "\r\n",
        "print (\"file_list: {}\".format(file_list))\r\n",
        "\r\n",
        "n=len(file_list)\r\n",
        "print(\"n=%d\"%(n))\r\n",
        "print(file_list[0])\r\n"
      ],
      "execution_count": null,
      "outputs": []
    },
    {
      "cell_type": "code",
      "metadata": {
        "id": "8jkxnBErLgzZ"
      },
      "source": [
        "\r\n",
        "def histogram():\r\n",
        "  \r\n",
        "  for j in range(0,1):\r\n",
        "    \r\n",
        "    img = cv.imread('/content/drive/MyDrive/Practest/{}'.format(file_list[j]))\r\n",
        "    grayimg = cv.imread('/content/drive/MyDrive/Practest/{}'.format(file_list[j]))\r\n",
        "\r\n",
        "    hist, bins = np.histogram(img.ravel(), 256, [0, 256])\r\n",
        "    cdf = hist.cumsum()\r\n",
        "\r\n",
        "    cdf_m = np.ma.masked_equal(cdf, 0)\r\n",
        "    cdf_m = (cdf_m-cdf_m.min())*255/(cdf_m.max()-cdf_m.min())\r\n",
        "    cdf = np.ma.filled(cdf_m, 0).astype('uint8')\r\n",
        "\r\n",
        "    img2 = cdf[img]\r\n",
        "    \r\n",
        "    cv.imwrite('/content/drive/MyDrive/Practest/{}'.format(file_list[j]),img2)\r\n",
        "    cv2_imshow(img2)\r\n",
        "    cv.waitKey(0)\r\n",
        "    cv.destroyAllWindows()\r\n",
        "\r\n",
        "histogram()"
      ],
      "execution_count": null,
      "outputs": []
    },
    {
      "cell_type": "code",
      "metadata": {
        "id": "YwM49-a6jQhJ"
      },
      "source": [
        "path2 = \"/content/drive/Shareddrives/CTRC/OriginDataGenerate/train/2.Precancer\"\r\n",
        "\r\n",
        "file_list = os.listdir(path2)\r\n",
        "\r\n",
        "print (\"file_list: {}\".format(file_list))\r\n",
        "\r\n",
        "n=len(file_list)\r\n",
        "print(\"n=%d\"%(n))\r\n",
        "print(file_list[0])"
      ],
      "execution_count": null,
      "outputs": []
    },
    {
      "cell_type": "code",
      "metadata": {
        "id": "LXb5G-dCjQv_"
      },
      "source": [
        "def histogram2():\r\n",
        "  \r\n",
        "  for j in range(0,184):\r\n",
        "    \r\n",
        "    img = cv.imread('/content/drive/Shareddrives/CTRC/OriginDataGenerate/train/2.Precancer/{}'.format(file_list[j]))\r\n",
        "    grayimg = cv.imread('/content/drive/Shareddrives/CTRC/OriginDataGenerate/train/2.Precancer/{}'.format(file_list[j]))\r\n",
        "\r\n",
        "    hist, bins = np.histogram(img.ravel(), 256, [0, 256])\r\n",
        "    cdf = hist.cumsum()\r\n",
        "\r\n",
        "    cdf_m = np.ma.masked_equal(cdf, 0)\r\n",
        "    cdf_m = (cdf_m-cdf_m.min())*255/(cdf_m.max()-cdf_m.min())\r\n",
        "    cdf = np.ma.filled(cdf_m, 0).astype('uint8')\r\n",
        "\r\n",
        "    img2 = cdf[img]\r\n",
        "    \r\n",
        "    cv.imwrite('/content/drive/Shareddrives/CTRC/HM_Color/train/2.Precancer/{}'.format(file_list[j]),img2)\r\n",
        "    cv2_imshow(img2)\r\n",
        "    cv.waitKey(0)\r\n",
        "    cv.destroyAllWindows()\r\n",
        "\r\n",
        "histogram2()"
      ],
      "execution_count": null,
      "outputs": []
    },
    {
      "cell_type": "code",
      "metadata": {
        "id": "XKqB8Qg-jQ90"
      },
      "source": [
        "path3 = \"/content/drive/Shareddrives/CTRC/OriginDataGenerate/train/3.Inflammatory\"\r\n",
        "\r\n",
        "file_list = os.listdir(path3)\r\n",
        "\r\n",
        "print (\"file_list: {}\".format(file_list))\r\n",
        "\r\n",
        "n=len(file_list)\r\n",
        "print(\"n=%d\"%(n))\r\n",
        "print(file_list[0])"
      ],
      "execution_count": null,
      "outputs": []
    },
    {
      "cell_type": "code",
      "metadata": {
        "id": "FxF7PFlrjRLH"
      },
      "source": [
        "def histogram3():\r\n",
        "  \r\n",
        "  for j in range(0,316):\r\n",
        "    \r\n",
        "    img = cv.imread('/content/drive/Shareddrives/CTRC/OriginDataGenerate/train/3.Inflammatory/{}'.format(file_list[j]))\r\n",
        "    grayimg = cv.imread('/content/drive/Shareddrives/CTRC/OriginDataGenerate/train/3.Inflammatory/{}'.format(file_list[j]))\r\n",
        "\r\n",
        "    hist, bins = np.histogram(img.ravel(), 256, [0, 256])\r\n",
        "    cdf = hist.cumsum()\r\n",
        "\r\n",
        "    cdf_m = np.ma.masked_equal(cdf, 0)\r\n",
        "    cdf_m = (cdf_m-cdf_m.min())*255/(cdf_m.max()-cdf_m.min())\r\n",
        "    cdf = np.ma.filled(cdf_m, 0).astype('uint8')\r\n",
        "\r\n",
        "    img2 = cdf[img]\r\n",
        "    \r\n",
        "    cv.imwrite('/content/drive/Shareddrives/CTRC/HM_Color/train/3.Inflammatory/{}'.format(file_list[j]),img2)\r\n",
        "    cv2_imshow(img2)\r\n",
        "    cv.waitKey(0)\r\n",
        "    cv.destroyAllWindows()\r\n",
        "\r\n",
        "histogram3()"
      ],
      "execution_count": null,
      "outputs": []
    },
    {
      "cell_type": "code",
      "metadata": {
        "id": "PbVqGCb8jR6K"
      },
      "source": [
        "path4 = \"/content/drive/Shareddrives/CTRC/OriginDataGenerate/train/4.Normal\"\r\n",
        "\r\n",
        "file_list = os.listdir(path4)\r\n",
        "\r\n",
        "print (\"file_list: {}\".format(file_list))\r\n",
        "\r\n",
        "n=len(file_list)\r\n",
        "print(\"n=%d\"%(n))\r\n",
        "print(file_list[0])"
      ],
      "execution_count": null,
      "outputs": []
    },
    {
      "cell_type": "code",
      "metadata": {
        "id": "1m-MPUb8jSFp"
      },
      "source": [
        "def histogram4():\r\n",
        "  \r\n",
        "  for j in range(0,1365):\r\n",
        "    \r\n",
        "    img = cv.imread('/content/drive/Shareddrives/CTRC/OriginDataGenerate/train/4.Normal/{}'.format(file_list[j]))\r\n",
        "    grayimg = cv.imread('/content/drive/Shareddrives/CTRC/OriginDataGenerate/train/4.Normal/{}'.format(file_list[j]))\r\n",
        "\r\n",
        "    hist, bins = np.histogram(img.ravel(), 256, [0, 256])\r\n",
        "    cdf = hist.cumsum()\r\n",
        "\r\n",
        "    cdf_m = np.ma.masked_equal(cdf, 0)\r\n",
        "    cdf_m = (cdf_m-cdf_m.min())*255/(cdf_m.max()-cdf_m.min())\r\n",
        "    cdf = np.ma.filled(cdf_m, 0).astype('uint8')\r\n",
        "\r\n",
        "    img2 = cdf[img]\r\n",
        "    \r\n",
        "    cv.imwrite('/content/drive/Shareddrives/CTRC/HM_Color/train/4.Normal/{}'.format(file_list[j]),img2)\r\n",
        "    cv2_imshow(img2)\r\n",
        "    cv.waitKey(0)\r\n",
        "    cv.destroyAllWindows()\r\n",
        "\r\n",
        "histogram4()"
      ],
      "execution_count": null,
      "outputs": []
    },
    {
      "cell_type": "markdown",
      "metadata": {
        "id": "rd2WjJNuo0-F"
      },
      "source": [
        "# **Validation histogram**"
      ]
    },
    {
      "cell_type": "code",
      "metadata": {
        "id": "3_p1M1Sno-2R"
      },
      "source": [
        "path5 = \"/content/drive/Shareddrives/CTRC/OriginDataGenerate/validation/1.Cancer\"\r\n",
        "\r\n",
        "file_list = os.listdir(path5)\r\n",
        "\r\n",
        "print (\"file_list: {}\".format(file_list))\r\n",
        "\r\n",
        "n=len(file_list)\r\n",
        "print(\"n=%d\"%(n))\r\n",
        "print(file_list[0])"
      ],
      "execution_count": null,
      "outputs": []
    },
    {
      "cell_type": "code",
      "metadata": {
        "id": "qIRrDAFqo_3b"
      },
      "source": [
        "def histogram5():\r\n",
        "  \r\n",
        "  for j in range(0,143):\r\n",
        "    \r\n",
        "    img = cv.imread('/content/drive/Shareddrives/CTRC/OriginDataGenerate/validation/1.Cancer/{}'.format(file_list[j]))\r\n",
        "    grayimg = cv.imread('/content/drive/Shareddrives/CTRC/OriginDataGenerate/validation/1.Cancer/{}'.format(file_list[j]))\r\n",
        "\r\n",
        "    hist, bins = np.histogram(img.ravel(), 256, [0, 256])\r\n",
        "    cdf = hist.cumsum()\r\n",
        "\r\n",
        "    cdf_m = np.ma.masked_equal(cdf, 0)\r\n",
        "    cdf_m = (cdf_m-cdf_m.min())*255/(cdf_m.max()-cdf_m.min())\r\n",
        "    cdf = np.ma.filled(cdf_m, 0).astype('uint8')\r\n",
        "\r\n",
        "    img2 = cdf[img]\r\n",
        "    \r\n",
        "    cv.imwrite('/content/drive/Shareddrives/CTRC/HM_Color/validation/1.Cancer/{}'.format(file_list[j]),img2)\r\n",
        "    cv2_imshow(img2)\r\n",
        "    cv.waitKey(0)\r\n",
        "    cv.destroyAllWindows()\r\n",
        "\r\n",
        "histogram5()"
      ],
      "execution_count": null,
      "outputs": []
    },
    {
      "cell_type": "code",
      "metadata": {
        "id": "cD4bVwDBpAJR"
      },
      "source": [
        "path6 = \"/content/drive/Shareddrives/CTRC/OriginDataGenerate/validation/2.Precancer\"\r\n",
        "\r\n",
        "file_list = os.listdir(path6)\r\n",
        "\r\n",
        "print (\"file_list: {}\".format(file_list))\r\n",
        "\r\n",
        "n=len(file_list)\r\n",
        "print(\"n=%d\"%(n))\r\n",
        "print(file_list[0])"
      ],
      "execution_count": null,
      "outputs": []
    },
    {
      "cell_type": "code",
      "metadata": {
        "id": "chd5pa9EpAXe"
      },
      "source": [
        "def histogram6():\r\n",
        "  \r\n",
        "  for j in range(0,52):\r\n",
        "    \r\n",
        "    img = cv.imread('/content/drive/Shareddrives/CTRC/OriginDataGenerate/validation/2.Precancer/{}'.format(file_list[j]))\r\n",
        "    grayimg = cv.imread('/content/drive/Shareddrives/CTRC/OriginDataGenerate/validation/2.Precancer/{}'.format(file_list[j]))\r\n",
        "\r\n",
        "    hist, bins = np.histogram(img.ravel(), 256, [0, 256])\r\n",
        "    cdf = hist.cumsum()\r\n",
        "\r\n",
        "    cdf_m = np.ma.masked_equal(cdf, 0)\r\n",
        "    cdf_m = (cdf_m-cdf_m.min())*255/(cdf_m.max()-cdf_m.min())\r\n",
        "    cdf = np.ma.filled(cdf_m, 0).astype('uint8')\r\n",
        "\r\n",
        "    img2 = cdf[img]\r\n",
        "    \r\n",
        "    cv.imwrite('/content/drive/Shareddrives/CTRC/HM_Color/validation/2.Precancer/{}'.format(file_list[j]),img2)\r\n",
        "    cv2_imshow(img2)\r\n",
        "    cv.waitKey(0)\r\n",
        "    cv.destroyAllWindows()\r\n",
        "\r\n",
        "histogram6()"
      ],
      "execution_count": null,
      "outputs": []
    },
    {
      "cell_type": "code",
      "metadata": {
        "id": "iaG07EW3qIFu"
      },
      "source": [
        "path7 = \"/content/drive/Shareddrives/CTRC/OriginDataGenerate/validation/3.Inflammatory\"\r\n",
        "\r\n",
        "file_list = os.listdir(path7)\r\n",
        "\r\n",
        "print (\"file_list: {}\".format(file_list))\r\n",
        "\r\n",
        "n=len(file_list)\r\n",
        "print(\"n=%d\"%(n))\r\n",
        "print(file_list[0])"
      ],
      "execution_count": null,
      "outputs": []
    },
    {
      "cell_type": "code",
      "metadata": {
        "id": "xfnN1wp-qIZu"
      },
      "source": [
        "def histogram7():\r\n",
        "  \r\n",
        "  for j in range(0,93):\r\n",
        "    \r\n",
        "    img = cv.imread('/content/drive/Shareddrives/CTRC/OriginDataGenerate/validation/3.Inflammatory/{}'.format(file_list[j]))\r\n",
        "    grayimg = cv.imread('/content/drive/Shareddrives/CTRC/OriginDataGenerate/validation/3.Inflammatory/{}'.format(file_list[j]))\r\n",
        "\r\n",
        "    hist, bins = np.histogram(img.ravel(), 256, [0, 256])\r\n",
        "    cdf = hist.cumsum()\r\n",
        "\r\n",
        "    cdf_m = np.ma.masked_equal(cdf, 0)\r\n",
        "    cdf_m = (cdf_m-cdf_m.min())*255/(cdf_m.max()-cdf_m.min())\r\n",
        "    cdf = np.ma.filled(cdf_m, 0).astype('uint8')\r\n",
        "\r\n",
        "    img2 = cdf[img]\r\n",
        "    \r\n",
        "    cv.imwrite('/content/drive/Shareddrives/CTRC/HM_Color/validation/3.Inflammatory/{}'.format(file_list[j]),img2)\r\n",
        "    cv2_imshow(img2)\r\n",
        "    cv.waitKey(0)\r\n",
        "    cv.destroyAllWindows()\r\n",
        "\r\n",
        "histogram7()"
      ],
      "execution_count": null,
      "outputs": []
    },
    {
      "cell_type": "code",
      "metadata": {
        "id": "QvDjkMQuqp9F"
      },
      "source": [
        "path8 = \"/content/drive/Shareddrives/CTRC/OriginDataGenerate/validation/4.Normal\"\r\n",
        "\r\n",
        "file_list = os.listdir(path8)\r\n",
        "\r\n",
        "print (\"file_list: {}\".format(file_list))\r\n",
        "\r\n",
        "n=len(file_list)\r\n",
        "print(\"n=%d\"%(n))\r\n",
        "print(file_list[0])"
      ],
      "execution_count": null,
      "outputs": []
    },
    {
      "cell_type": "code",
      "metadata": {
        "id": "Q1N9St37qqKb"
      },
      "source": [
        "def histogram8():\r\n",
        "  \r\n",
        "  for j in range(0,341):\r\n",
        "    \r\n",
        "    img = cv.imread('/content/drive/Shareddrives/CTRC/OriginDataGenerate/validation/4.Normal/{}'.format(file_list[j]))\r\n",
        "    grayimg = cv.imread('/content/drive/Shareddrives/CTRC/OriginDataGenerate/validation/4.Normal/{}'.format(file_list[j]))\r\n",
        "\r\n",
        "    hist, bins = np.histogram(img.ravel(), 256, [0, 256])\r\n",
        "    cdf = hist.cumsum()\r\n",
        "\r\n",
        "    cdf_m = np.ma.masked_equal(cdf, 0)\r\n",
        "    cdf_m = (cdf_m-cdf_m.min())*255/(cdf_m.max()-cdf_m.min())\r\n",
        "    cdf = np.ma.filled(cdf_m, 0).astype('uint8')\r\n",
        "\r\n",
        "    img2 = cdf[img]\r\n",
        "    \r\n",
        "    cv.imwrite('/content/drive/Shareddrives/CTRC/HM_Color/validation/4.Normal/{}'.format(file_list[j]),img2)\r\n",
        "    cv2_imshow(img2)\r\n",
        "    cv.waitKey(0)\r\n",
        "    cv.destroyAllWindows()\r\n",
        "\r\n",
        "histogram8()"
      ],
      "execution_count": null,
      "outputs": []
    },
    {
      "cell_type": "markdown",
      "metadata": {
        "id": "Spr7G5TRrv_Q"
      },
      "source": [
        "# **Test histogram**\r\n"
      ]
    },
    {
      "cell_type": "code",
      "metadata": {
        "id": "c3VpbQ1PrwSZ"
      },
      "source": [
        "path9 = \"/content/drive/Shareddrives/CTRC/OriginDataGenerate/test/1.Cancer\"\r\n",
        "\r\n",
        "file_list = os.listdir(path9)\r\n",
        "\r\n",
        "print (\"file_list: {}\".format(file_list))\r\n",
        "\r\n",
        "n=len(file_list)\r\n",
        "print(\"n=%d\"%(n))\r\n",
        "print(file_list[0])"
      ],
      "execution_count": null,
      "outputs": []
    },
    {
      "cell_type": "code",
      "metadata": {
        "id": "N1PNAqE6rwmD"
      },
      "source": [
        "def histogram9():\r\n",
        "  \r\n",
        "  for j in range(0,143):\r\n",
        "    \r\n",
        "    img = cv.imread('/content/drive/Shareddrives/CTRC/OriginDataGenerate/test/1.Cancer/{}'.format(file_list[j]))\r\n",
        "    grayimg = cv.imread('/content/drive/Shareddrives/CTRC/OriginDataGenerate/test/1.Cancer/{}'.format(file_list[j]))\r\n",
        "\r\n",
        "    hist, bins = np.histogram(img.ravel(), 256, [0, 256])\r\n",
        "    cdf = hist.cumsum()\r\n",
        "\r\n",
        "    cdf_m = np.ma.masked_equal(cdf, 0)\r\n",
        "    cdf_m = (cdf_m-cdf_m.min())*255/(cdf_m.max()-cdf_m.min())\r\n",
        "    cdf = np.ma.filled(cdf_m, 0).astype('uint8')\r\n",
        "\r\n",
        "    img2 = cdf[img]\r\n",
        "    \r\n",
        "    cv.imwrite('/content/drive/Shareddrives/CTRC/HM_Color/test/1.Cancer/{}'.format(file_list[j]),img2)\r\n",
        "    cv2_imshow(img2)\r\n",
        "    cv.waitKey(0)\r\n",
        "    cv.destroyAllWindows()\r\n",
        "\r\n",
        "histogram9()"
      ],
      "execution_count": null,
      "outputs": []
    },
    {
      "cell_type": "code",
      "metadata": {
        "id": "ph4OcmzAsiSz"
      },
      "source": [
        "path10 = \"/content/drive/Shareddrives/CTRC/OriginDataGenerate/test/2.Precancer\"\r\n",
        "\r\n",
        "file_list = os.listdir(path10)\r\n",
        "\r\n",
        "print (\"file_list: {}\".format(file_list))\r\n",
        "\r\n",
        "n=len(file_list)\r\n",
        "print(\"n=%d\"%(n))\r\n",
        "print(file_list[0])"
      ],
      "execution_count": null,
      "outputs": []
    },
    {
      "cell_type": "code",
      "metadata": {
        "id": "PLXs0_PcsigI"
      },
      "source": [
        "def histogram10():\r\n",
        "  \r\n",
        "  for j in range(0,52):\r\n",
        "    \r\n",
        "    img = cv.imread('/content/drive/Shareddrives/CTRC/OriginDataGenerate/test/2.Precancer/{}'.format(file_list[j]))\r\n",
        "    grayimg = cv.imread('/content/drive/Shareddrives/CTRC/OriginDataGenerate/test/2.Precancer/{}'.format(file_list[j]))\r\n",
        "\r\n",
        "    hist, bins = np.histogram(img.ravel(), 256, [0, 256])\r\n",
        "    cdf = hist.cumsum()\r\n",
        "\r\n",
        "    cdf_m = np.ma.masked_equal(cdf, 0)\r\n",
        "    cdf_m = (cdf_m-cdf_m.min())*255/(cdf_m.max()-cdf_m.min())\r\n",
        "    cdf = np.ma.filled(cdf_m, 0).astype('uint8')\r\n",
        "\r\n",
        "    img2 = cdf[img]\r\n",
        "    \r\n",
        "    cv.imwrite('/content/drive/Shareddrives/CTRC/HM_Color/test/2.Precancer/{}'.format(file_list[j]),img2)\r\n",
        "    cv2_imshow(img2)\r\n",
        "    cv.waitKey(0)\r\n",
        "    cv.destroyAllWindows()\r\n",
        "\r\n",
        "histogram10()"
      ],
      "execution_count": null,
      "outputs": []
    },
    {
      "cell_type": "code",
      "metadata": {
        "id": "G4BeVVq-s59U"
      },
      "source": [
        "path11 = \"/content/drive/Shareddrives/CTRC/OriginDataGenerate/test/3.Inflammatory\"\r\n",
        "\r\n",
        "file_list = os.listdir(path11)\r\n",
        "\r\n",
        "print (\"file_list: {}\".format(file_list))\r\n",
        "\r\n",
        "n=len(file_list)\r\n",
        "print(\"n=%d\"%(n))\r\n",
        "print(file_list[0])"
      ],
      "execution_count": null,
      "outputs": []
    },
    {
      "cell_type": "code",
      "metadata": {
        "id": "Hqg1khWqs6Rn"
      },
      "source": [
        "def histogram11():\r\n",
        "  \r\n",
        "  for j in range(0,93):\r\n",
        "    \r\n",
        "    img = cv.imread('/content/drive/Shareddrives/CTRC/OriginDataGenerate/test/3.Inflammatory/{}'.format(file_list[j]))\r\n",
        "    grayimg = cv.imread('/content/drive/Shareddrives/CTRC/OriginDataGenerate/test/3.Inflammatory/{}'.format(file_list[j]))\r\n",
        "\r\n",
        "    hist, bins = np.histogram(img.ravel(), 256, [0, 256])\r\n",
        "    cdf = hist.cumsum()\r\n",
        "\r\n",
        "    cdf_m = np.ma.masked_equal(cdf, 0)\r\n",
        "    cdf_m = (cdf_m-cdf_m.min())*255/(cdf_m.max()-cdf_m.min())\r\n",
        "    cdf = np.ma.filled(cdf_m, 0).astype('uint8')\r\n",
        "\r\n",
        "    img2 = cdf[img]\r\n",
        "    \r\n",
        "    cv.imwrite('/content/drive/Shareddrives/CTRC/HM_Color/test/3.Inflammatory/{}'.format(file_list[j]),img2)\r\n",
        "    cv2_imshow(img2)\r\n",
        "    cv.waitKey(0)\r\n",
        "    cv.destroyAllWindows()\r\n",
        "\r\n",
        "histogram11()"
      ],
      "execution_count": null,
      "outputs": []
    },
    {
      "cell_type": "code",
      "metadata": {
        "id": "M9Rf4SittX_t"
      },
      "source": [
        "path12 = \"/content/drive/Shareddrives/CTRC/OriginDataGenerate/test/4.Normal\"\r\n",
        "\r\n",
        "file_list = os.listdir(path12)\r\n",
        "\r\n",
        "print (\"file_list: {}\".format(file_list))\r\n",
        "\r\n",
        "n=len(file_list)\r\n",
        "print(\"n=%d\"%(n))\r\n",
        "print(file_list[0])"
      ],
      "execution_count": null,
      "outputs": []
    },
    {
      "cell_type": "code",
      "metadata": {
        "id": "PAUazm2OtZ2q"
      },
      "source": [
        "def histogram12():\r\n",
        "  \r\n",
        "  for j in range(0,341):\r\n",
        "    \r\n",
        "    img = cv.imread('/content/drive/Shareddrives/CTRC/OriginDataGenerate/test/4.Normal/{}'.format(file_list[j]))\r\n",
        "    grayimg = cv.imread('/content/drive/Shareddrives/CTRC/OriginDataGenerate/test/4.Normal/{}'.format(file_list[j]))\r\n",
        "\r\n",
        "    hist, bins = np.histogram(img.ravel(), 256, [0, 256])\r\n",
        "    cdf = hist.cumsum()\r\n",
        "\r\n",
        "    cdf_m = np.ma.masked_equal(cdf, 0)\r\n",
        "    cdf_m = (cdf_m-cdf_m.min())*255/(cdf_m.max()-cdf_m.min())\r\n",
        "    cdf = np.ma.filled(cdf_m, 0).astype('uint8')\r\n",
        "\r\n",
        "    img2 = cdf[img]\r\n",
        "    \r\n",
        "    cv.imwrite('/content/drive/Shareddrives/CTRC/HM_Color/test/4.Normal/{}'.format(file_list[j]),img2)\r\n",
        "    cv2_imshow(img2)\r\n",
        "    cv.waitKey(0)\r\n",
        "    cv.destroyAllWindows()\r\n",
        "\r\n",
        "histogram12()"
      ],
      "execution_count": null,
      "outputs": []
    }
  ]
}