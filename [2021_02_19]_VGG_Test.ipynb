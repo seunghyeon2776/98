{
  "nbformat": 4,
  "nbformat_minor": 0,
  "metadata": {
    "colab": {
      "name": "[2021.02.19] VGG-Test",
      "private_outputs": true,
      "provenance": [],
      "mount_file_id": "1OiTfWN6R4rGwmkaWwjm_1aaPaq7G8oHL",
      "authorship_tag": "ABX9TyMFea2T7UEeWMBZJclwVS4m",
      "include_colab_link": true
    },
    "kernelspec": {
      "name": "python3",
      "display_name": "Python 3"
    },
    "accelerator": "GPU"
  },
  "cells": [
    {
      "cell_type": "markdown",
      "metadata": {
        "id": "view-in-github",
        "colab_type": "text"
      },
      "source": [
        "<a href=\"https://colab.research.google.com/github/seunghyeon2776/98/blob/master/%5B2021_02_19%5D_VGG_Test.ipynb\" target=\"_parent\"><img src=\"https://colab.research.google.com/assets/colab-badge.svg\" alt=\"Open In Colab\"/></a>"
      ]
    },
    {
      "cell_type": "code",
      "metadata": {
        "id": "8TAL4zwnnCVN"
      },
      "source": [
        "from tensorflow.keras.applications import VGG16\r\n",
        "\r\n",
        "conv_base=VGG16(weights='imagenet',\r\n",
        "                include_top=False,\r\n",
        "                input_shape=(224,224,3))\r\n"
      ],
      "execution_count": null,
      "outputs": []
    },
    {
      "cell_type": "code",
      "metadata": {
        "id": "lPsekhRo4qIL"
      },
      "source": [
        "from tensorflow.keras import layers\r\n",
        "from tensorflow.keras import models\r\n",
        "from tensorflow.keras.models import Sequential\r\n",
        "from tensorflow.keras.layers import Conv2D, MaxPooling2D, Dense, Flatten, Dropout\r\n",
        "from tensorflow.keras import optimizers, initializers, regularizers, metrics\r\n",
        "\r\n"
      ],
      "execution_count": null,
      "outputs": []
    },
    {
      "cell_type": "code",
      "metadata": {
        "id": "OdBCyD1Z5LlY"
      },
      "source": [
        "pip uninstall keras"
      ],
      "execution_count": null,
      "outputs": []
    },
    {
      "cell_type": "code",
      "metadata": {
        "id": "izaHbr914sXd"
      },
      "source": [
        "pip install keras==2.2.4"
      ],
      "execution_count": null,
      "outputs": []
    },
    {
      "cell_type": "code",
      "metadata": {
        "id": "gZzslIZm5RzP"
      },
      "source": [
        "pip uninstall tensorflow"
      ],
      "execution_count": null,
      "outputs": []
    },
    {
      "cell_type": "code",
      "metadata": {
        "id": "iVAYrG1W5GOl"
      },
      "source": [
        "pip install tensorflow==1.13.1"
      ],
      "execution_count": null,
      "outputs": []
    },
    {
      "cell_type": "code",
      "metadata": {
        "id": "v4x-3BaQNxP9"
      },
      "source": [
        "pip install --upgrade tensorflow"
      ],
      "execution_count": null,
      "outputs": []
    },
    {
      "cell_type": "code",
      "metadata": {
        "id": "p_lcj5LGM5Xk"
      },
      "source": [
        "pip install --upgrade pandas"
      ],
      "execution_count": null,
      "outputs": []
    },
    {
      "cell_type": "code",
      "metadata": {
        "id": "7DMwS8gkNCdL"
      },
      "source": [
        "pip install finance-datareader==0.9.5"
      ],
      "execution_count": null,
      "outputs": []
    },
    {
      "cell_type": "code",
      "metadata": {
        "id": "ah33jWmu4ZRT"
      },
      "source": [
        "\r\n",
        "model=models.Sequential()\r\n",
        "model.add(conv_base)\r\n",
        "\r\n",
        "\r\n",
        "model.add(layers.Dense(64, kernel_regularizer = regularizers.l2\r\n",
        "                                  (0.01),activation='relu'))\r\n",
        "model.add(layers.Dense(64, kernel_regularizer = regularizers.l2\r\n",
        "                                  (0.01),activation='relu'))\r\n",
        "model.add( MaxPooling2D((2,2), padding='same'))\r\n",
        "\r\n",
        "\r\n",
        "\r\n",
        "#Layer weight regularizers    #kernel_regularizer: Regularizer to apply a penalty on the layer's kerne \r\n",
        "#L1: float; L1 regularization factor = 0.001   \r\n",
        "#L1 regularization : 가중치의 절댓값에 비례하는 비용이 추가됨(가중치의 L1 norm)\r\n",
        "model.add(layers.Dense(128, kernel_regularizer = regularizers.l2\r\n",
        "                                  (0.01),activation='relu'))\r\n",
        "model.add(layers.Dense(128, kernel_regularizer = regularizers.l2\r\n",
        "                                  (0.01),activation='relu'))\r\n",
        "model.add( MaxPooling2D((2,2), padding='same'))\r\n",
        "\r\n",
        "\r\n",
        "\r\n",
        "  \r\n",
        "#L2: float; L2 regularization factor = 0.001  \r\n",
        "#L2 regularization(=weight decay) : 가중치의 제곱에 비례하는 비용이 추가됨(가중치의 L2 norm)\r\n",
        "model.add(layers.Dense(256, kernel_regularizer = regularizers.l2\r\n",
        "                                  (0.01),activation='relu'))\r\n",
        "model.add(layers.Dense(256, kernel_regularizer = regularizers.l2\r\n",
        "                                  (0.01),activation='relu'))\r\n",
        "model.add(layers.Dense(256, kernel_regularizer = regularizers.l2\r\n",
        "                                  (0.01),activation='relu'))\r\n",
        "model.add( MaxPooling2D((2,2), padding='same'))\r\n",
        "\r\n",
        "\r\n",
        "\r\n",
        "\r\n",
        "model.add(layers.Dense(512, kernel_regularizer = regularizers.l2\r\n",
        "                                  (0.01),activation='relu'))\r\n",
        "model.add(layers.Dense(512, kernel_regularizer = regularizers.l2\r\n",
        "                                  (0.01),activation='relu'))\r\n",
        "model.add(layers.Dense(512, kernel_regularizer = regularizers.l2\r\n",
        "                                  (0.01),activation='relu'))\r\n",
        "model.add( MaxPooling2D((2,2), padding='same'))\r\n",
        "\r\n",
        "\r\n",
        "\r\n",
        "\r\n",
        "\r\n",
        "model.add(layers.Dense(512, kernel_regularizer = regularizers.l2\r\n",
        "                                  (0.01),activation='relu'))\r\n",
        "model.add(layers.Dense(512, kernel_regularizer = regularizers.l2\r\n",
        "                                  (0.01),activation='relu'))\r\n",
        "model.add(layers.Dense(512, kernel_regularizer = regularizers.l2\r\n",
        "                                  (0.01),activation='relu'))\r\n",
        "model.add(layers.Dropout(0.25))\r\n",
        "model.add( MaxPooling2D((2,2), padding='same'))\r\n",
        "\r\n",
        "\r\n",
        "\r\n",
        "model.add(Flatten()) \r\n",
        "model.add(layers.Dense(64,activation='relu'))\r\n",
        "model.add(layers.Dense(64,activation='relu'))\r\n",
        "model.add(layers.Dense(4,activation='relu'))\r\n",
        "\r\n",
        "\r\n",
        "\r\n",
        "model.compile(optimizer='adam',\r\n",
        "              loss='categorical_crossentropy',\r\n",
        "              metrics=['accuracy'])"
      ],
      "execution_count": null,
      "outputs": []
    },
    {
      "cell_type": "code",
      "metadata": {
        "id": "8oz7NDXO4XSV"
      },
      "source": [
        "conv_base.trainable=False"
      ],
      "execution_count": null,
      "outputs": []
    },
    {
      "cell_type": "code",
      "metadata": {
        "id": "V6VCBLGMpEIa"
      },
      "source": [
        "model.summary()"
      ],
      "execution_count": null,
      "outputs": []
    },
    {
      "cell_type": "code",
      "metadata": {
        "id": "UOAZzgXfpEjS"
      },
      "source": [
        "from keras.models import load_model\r\n",
        "import os\r\n",
        "\r\n",
        "# model checkpoint\r\n",
        "model_sav_path = '/content/drive/MyDrive/modelsave'\r\n",
        "\r\n",
        "if not os.path.isdir(model_sav_path):\r\n",
        "    os.mkdir(model_sav_path)\r\n",
        "    \r\n",
        "model_path = model_sav_path + 'my_VGG_model.h5'"
      ],
      "execution_count": null,
      "outputs": []
    },
    {
      "cell_type": "code",
      "metadata": {
        "id": "eD7QEkl8pE2i"
      },
      "source": [
        "import tensorflow.keras\r\n",
        "from tensorflow.python.keras.callbacks import EarlyStopping\r\n",
        "early_stopping = EarlyStopping()\r\n",
        "\r\n",
        "# callbacks=[tensorflow.keras.callbacks.TensorBoard(\r\n",
        "#     log_dir='my_log_dir',\r\n",
        "#     histogram_freq=1,\r\n",
        "#     embeddings_freq=1,),\r\n",
        "#     early_stopping]\r\n",
        "\r\n",
        "callbacks=[tensorflow.keras.callbacks.TensorBoard(\r\n",
        "    log_dir=model_path,\r\n",
        "    histogram_freq=1,\r\n",
        "    embeddings_freq=1,),\r\n",
        "    early_stopping]"
      ],
      "execution_count": null,
      "outputs": []
    },
    {
      "cell_type": "code",
      "metadata": {
        "id": "KCCji0tUpFHF"
      },
      "source": [
        "train_dir='/content/drive/MyDrive/newmodel/train'\r\n",
        "validation_dir='/content/drive/MyDrive/newmodel/validation'\r\n",
        "test_dir='/content/drive/MyDrive/newmodel/test'"
      ],
      "execution_count": null,
      "outputs": []
    },
    {
      "cell_type": "code",
      "metadata": {
        "id": "jPoxFtPbpFgh"
      },
      "source": [
        "import os\r\n",
        "from tensorflow.keras.preprocessing.image import ImageDataGenerator,array_to_img,img_to_array, load_img\r\n",
        "import numpy as np\r\n",
        "\r\n",
        "np.random.seed(3)\r\n",
        "\r\n",
        "imageGenerator = ImageDataGenerator(rescale=1./255)\r\n",
        "trainGen = imageGenerator.flow_from_directory(train_dir,\r\n",
        "                                              target_size=(224,224))\r\n",
        "                                            \r\n",
        "\r\n",
        "validationGen = imageGenerator.flow_from_directory(validation_dir,\r\n",
        "                                              target_size=(224,224))\r\n",
        "                                              \r\n",
        "testGen = imageGenerator.flow_from_directory(test_dir,\r\n",
        "                                              target_size=(224,224))"
      ],
      "execution_count": null,
      "outputs": []
    },
    {
      "cell_type": "code",
      "metadata": {
        "id": "KpzXZJrDpF5Q"
      },
      "source": [
        "history=model.fit_generator(trainGen,steps_per_epoch=11, epochs=50,\r\n",
        "                  validation_data=validationGen,validation_steps=3,\r\n",
        "                           callbacks=callbacks)"
      ],
      "execution_count": null,
      "outputs": []
    }
  ]
}